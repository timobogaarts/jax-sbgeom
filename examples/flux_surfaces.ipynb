{
 "cells": [
  {
   "cell_type": "code",
   "execution_count": null,
   "id": "24badc7b",
   "metadata": {},
   "outputs": [],
   "source": [
    "import jax_sbgeom as jsb\n",
    "%load_ext autoreload\n",
    "%autoreload 2\n",
    "import h5py\n",
    "import jax.numpy as jnp\n",
    "import jax\n",
    "jax.config.update(\"jax_enable_x64\", True)\n",
    "import numpy as onp\n",
    "import sys \n",
    "import os\n",
    "project_root = os.path.abspath(os.path.join(os.getcwd(), \"..\"))\n",
    "sys.path.append(project_root)\n",
    "vmec_file = \"/home/tbogaarts/stellarator_paper/base_data/vmecs/helias4_vmec.nc4\"\n",
    "\n",
    "from jax_sbgeom.flux_surfaces.flux_surfaces_base import _cartesian_position_interpolated_jit, _cylindrical_position_interpolated, _cartesian_position_interpolated_grad, ToroidalExtent\n",
    "from tests.flux_surfaces.flux_surface_base import test_position, _get_flux_surfaces, _sampling_grid, _1d_sampling_grid, test_normals, test_meshing_surface\n",
    "\n",
    "\n",
    "test_pos = False\n",
    "if test_pos:\n",
    "    test_position(vmec_file, n_repetitions=10)\n",
    "\n",
    "test_norm = False\n",
    "if test_norm:\n",
    "    test_normals(vmec_file, n_repetitions=10)\n",
    "\n",
    "\n",
    "test_meshing_surf = True\n",
    "\n",
    "if test_meshing_surf:\n",
    "    test_meshing_surface(vmec_file, n_repetitions=10)"
   ]
  },
  {
   "cell_type": "code",
   "execution_count": null,
   "id": "d28fe293",
   "metadata": {},
   "outputs": [],
   "source": [
    "def setup_timing_grid(vmec_file, ns, nt, np, include_axis=False):\n",
    "    fs_jax, fs_sbgeom = _get_flux_surfaces(vmec_file)\n",
    "    s,t, p = _sampling_grid(fs_jax, ns, nt, np,  include_axis=include_axis)\n",
    "\n",
    "    return fs_jax, (s,t,p), fs_sbgeom\n",
    "\n",
    "\n",
    "fs_jax, (s,t,p), fs_sbgeom = setup_timing_grid(vmec_file, 50, 50, 50, include_axis=False)"
   ]
  },
  {
   "cell_type": "code",
   "execution_count": null,
   "id": "8b05076d",
   "metadata": {},
   "outputs": [],
   "source": [
    "from jax_sbgeom.flux_surfaces.flux_surface_meshing import Mesh_Surface\n",
    "\n",
    "tor_extent= ToroidalExtent.half_module(fs_jax)\n",
    "s = 0.35662\n",
    "\n",
    "n_theta = 50 \n",
    "n_phi  = 60\n",
    "positions, triangles = Mesh_Surface(fs_jax, s, n_theta, n_phi, tor_extent, True)"
   ]
  },
  {
   "cell_type": "code",
   "execution_count": null,
   "id": "6138b0ba",
   "metadata": {},
   "outputs": [],
   "source": [
    "mesh_triangles = fs_sbgeom.Mesh_Surface(s, 0.0, n_phi, n_theta, tor_extent.start, tor_extent.end)"
   ]
  },
  {
   "cell_type": "code",
   "execution_count": null,
   "id": "a39fb973",
   "metadata": {},
   "outputs": [],
   "source": [
    "print(jnp.allclose(mesh_triangles.vertices, positions))\n",
    "\n",
    "print(jnp.allclose(mesh_triangles.connectivity, triangles))\n"
   ]
  },
  {
   "cell_type": "code",
   "execution_count": null,
   "id": "bde95adc",
   "metadata": {},
   "outputs": [],
   "source": [
    "triangles"
   ]
  }
 ],
 "metadata": {
  "kernelspec": {
   "display_name": "stellsim",
   "language": "python",
   "name": "python3"
  },
  "language_info": {
   "codemirror_mode": {
    "name": "ipython",
    "version": 3
   },
   "file_extension": ".py",
   "mimetype": "text/x-python",
   "name": "python",
   "nbconvert_exporter": "python",
   "pygments_lexer": "ipython3",
   "version": "3.12.11"
  }
 },
 "nbformat": 4,
 "nbformat_minor": 5
}
