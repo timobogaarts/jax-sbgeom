{
 "cells": [
  {
   "cell_type": "code",
   "execution_count": 1,
   "id": "24badc7b",
   "metadata": {},
   "outputs": [
    {
     "name": "stdout",
     "output_type": "stream",
     "text": [
      "Triangle Elements not compiled\n"
     ]
    }
   ],
   "source": [
    "import jax_sbgeom as jsb\n",
    "%load_ext autoreload\n",
    "%autoreload 2\n",
    "import h5py\n",
    "import jax.numpy as jnp\n",
    "import jax\n",
    "jax.config.update(\"jax_enable_x64\", True)\n",
    "import numpy as onp\n",
    "import sys \n",
    "import os\n",
    "\n",
    "project_root = os.path.abspath(os.path.join(os.getcwd(), \"..\"))\n",
    "sys.path.append(project_root)\n",
    "vmec_files = [\"/home/tbogaarts/stellarator_paper/base_data/vmecs/helias3_vmec.nc4\", \"/home/tbogaarts/stellarator_paper/base_data/vmecs/helias5_vmec.nc4\", \"/home/tbogaarts/stellarator_paper/base_data/vmecs/squid_vmec.nc4\"]\n",
    "\n",
    "vmec_file = vmec_files[1]\n",
    "import StellBlanket.SBGeom as SBGeom\n",
    "from functools import partial\n",
    "from jax_sbgeom.flux_surfaces.flux_surfaces_base import ToroidalExtent, _cylindrical_position_interpolated, _interpolate_array\n",
    "from jax_sbgeom.flux_surfaces.flux_surfaces_extended import FluxSurfaceNormalExtended\n",
    "#from jax_sbgeom.flux_surfaces.flux_surface_meshing import _mesh_watertight_surfaces_connectivity\n",
    "from tests.flux_surfaces.test_flux_surface_base import test_position, _mesh_to_pyvista_mesh, test_watertight_surfaces, _check_vectorized_internal, time_jsb_function, print_timings\n",
    "import jax_sbgeom.flux_surfaces.flux_surface_meshing as fsm\n",
    "import jax_sbgeom.flux_surfaces.flux_surfaces_base as fsb\n",
    "import jax_sbgeom.flux_surfaces.flux_surfaces_extended as fse\n",
    "import pyvista as pv\n",
    "from dataclasses import dataclass"
   ]
  },
  {
   "cell_type": "code",
   "execution_count": 2,
   "id": "d28fe293",
   "metadata": {},
   "outputs": [],
   "source": [
    "def _get_flux_surfaces(vmec_file):\n",
    "    fs_jax    = jsb.flux_surfaces.FluxSurface.from_hdf5(vmec_file)\n",
    "    fs_sbgeom = SBGeom.VMEC.Flux_Surfaces_From_HDF5(vmec_file)\n",
    "    return fs_jax, fs_sbgeom\n",
    "\n",
    "def _get_extended_flux_surfaces(vmec_file):    \n",
    "    fs_jax    = jsb.flux_surfaces.FluxSurfaceNormalExtended.from_hdf5(vmec_file)\n",
    "    fs_sbgeom = SBGeom.Flux_Surfaces_Normal_Extended(SBGeom.VMEC.Flux_Surfaces_From_HDF5(vmec_file))\n",
    "    return fs_jax, fs_sbgeom\n",
    "\n",
    "def _get_extended_no_phi_flux_surfaces(vmec_file):    \n",
    "    fs_jax    = jsb.flux_surfaces.FluxSurfaceNormalExtendedNoPhi.from_hdf5(vmec_file)\n",
    "    fs_sbgeom = SBGeom.Flux_Surfaces_Normal_Extended_No_Phi(SBGeom.VMEC.Flux_Surfaces_From_HDF5(vmec_file))\n",
    "    return fs_jax, fs_sbgeom\n",
    "\n",
    "def _get_extended_constant_phi_flux_surfaces(vmec_file):    \n",
    "    fs_jax    = jsb.flux_surfaces.FluxSurfaceNormalExtendedConstantPhi.from_hdf5(vmec_file)\n",
    "    fs_sbgeom = SBGeom.Flux_Surfaces_Normal_Extended_Constant_Phi(SBGeom.VMEC.Flux_Surfaces_From_HDF5(vmec_file))\n",
    "    return fs_jax, fs_sbgeom\n",
    "\n",
    "fs_jax, fs_sbgeom = _get_extended_constant_phi_flux_surfaces(vmec_file)  # just to compile\n",
    "\n",
    "fs_np , _ = _get_extended_no_phi_flux_surfaces(vmec_file)  # just to compile"
   ]
  },
  {
   "cell_type": "code",
   "execution_count": 3,
   "id": "cd3a8b80",
   "metadata": {},
   "outputs": [
    {
     "name": "stdout",
     "output_type": "stream",
     "text": [
      "0.3\n",
      "0.30000000176831865\n",
      "[23.25389392  7.19327233  0.86935654] [23.2538939   7.19327237  0.86935654]\n"
     ]
    }
   ],
   "source": [
    "s = 1.0\n",
    "d = 0.5\n",
    "theta = 0.2 \n",
    "phi = 0.3\n",
    "posj = fse._normal_extended_constant_phi_cartesian_position(fs_jax.data, fs_jax.settings, s+d, theta, phi)\n",
    "posb = fs_sbgeom.Return_Position(s, d, theta, phi)\n",
    "\n",
    "\n",
    "print(jnp.arctan2(posj[1], posj[0]))\n",
    "print(jnp.arctan2(posb[1], posb[0]))\n",
    "print(posj, posb)"
   ]
  },
  {
   "cell_type": "code",
   "execution_count": 4,
   "id": "fc0163e7",
   "metadata": {},
   "outputs": [
    {
     "name": "stdout",
     "output_type": "stream",
     "text": [
      "[[ 1.00000000e+00 -0.00000000e+00 -0.00000000e+00]\n",
      " [ 8.34187588e-01  4.69597109e-01  2.89153288e-01]\n",
      " [ 8.09016994e-01  5.87785252e-01  2.33232033e-16]\n",
      " [ 7.04391532e-01  6.48246054e-01 -2.89153288e-01]\n",
      " [ 3.09016994e-01  9.51056516e-01 -6.27892743e-17]\n",
      " [ 8.56809753e-01 -2.75825063e-02  5.14894409e-01]\n",
      " [ 6.36016349e-01  4.28018263e-01  6.42093116e-01]\n",
      " [ 2.40658586e-01  3.29734205e-01  9.12884877e-01]\n",
      " [ 5.73263144e-01  4.76340726e-01  6.66684993e-01]\n",
      " [ 2.91001297e-01  8.06351036e-01  5.14894409e-01]\n",
      " [-5.25337423e-01 -2.78216771e-01  8.04124381e-01]\n",
      " [ 1.52634970e-02  1.03084958e-01  9.94555437e-01]\n",
      " [-1.41002913e-01  2.71701548e-01  9.51996033e-01]\n",
      " [-4.41859277e-01 -4.47116039e-01  7.77719504e-01]\n",
      " [ 1.02261682e-01 -5.85599290e-01  8.04124381e-01]\n",
      " [-9.95610857e-01 -7.90296955e-02 -5.01331130e-02]\n",
      " [-7.99101703e-01 -5.74635597e-01  1.76721246e-01]\n",
      " [-7.96753102e-01 -3.32569965e-01  5.04560911e-01]\n",
      " [-6.60176368e-01 -4.10745963e-01  6.28852063e-01]\n",
      " [-2.32498968e-01 -9.71303712e-01 -5.01331130e-02]\n",
      " [-9.95610857e-01  7.90296955e-02  5.01331130e-02]\n",
      " [-5.94648341e-01 -5.00937554e-01 -6.28852063e-01]\n",
      " [-5.62503081e-01 -6.54987459e-01 -5.04560911e-01]\n",
      " [-7.93446936e-01 -5.82418717e-01 -1.76721246e-01]\n",
      " [-3.82822381e-01 -9.22460674e-01  5.01331130e-02]\n",
      " [-5.25337423e-01  2.78216771e-01 -8.04124381e-01]\n",
      " [-5.61774648e-01 -2.82066690e-01 -7.77719504e-01]\n",
      " [ 2.14831231e-01 -2.18062135e-01 -9.51996033e-01]\n",
      " [ 1.02756301e-01 -1.73385555e-02 -9.94555437e-01]\n",
      " [-4.26938064e-01 -4.13651869e-01 -8.04124381e-01]\n",
      " [ 8.56809753e-01  2.75825063e-02 -5.14894409e-01]\n",
      " [ 6.30175005e-01  3.98008269e-01 -6.66684993e-01]\n",
      " [ 3.87963458e-01  1.26986443e-01 -9.12884877e-01]\n",
      " [ 6.03609419e-01  4.72622576e-01 -6.42093116e-01]\n",
      " [ 2.38536252e-01  8.23397962e-01 -5.14894409e-01]\n",
      " [ 1.00000000e+00 -0.00000000e+00 -0.00000000e+00]\n",
      " [ 8.58025503e-01  4.48938686e-01  2.49492069e-01]\n",
      " [ 8.09016994e-01  5.87785252e-01  3.05032123e-16]\n",
      " [ 6.92110525e-01  6.77301062e-01 -2.49492069e-01]\n",
      " [ 3.09016994e-01  9.51056516e-01 -4.90194892e-17]\n",
      " [ 8.25412796e-01 -1.08677722e-02  5.64425023e-01]\n",
      " [ 6.39500369e-01  4.26267287e-01  6.39793309e-01]\n",
      " [ 2.43717174e-01  2.75593058e-01  9.29865800e-01]\n",
      " [ 5.99950960e-01  5.97353897e-01  5.32190912e-01]\n",
      " [ 2.65402447e-01  7.81655892e-01  5.64425023e-01]\n",
      " [-5.46343914e-01 -2.79979407e-01  7.89379414e-01]\n",
      " [-8.68986622e-02  5.13419598e-02  9.94893274e-01]\n",
      " [-6.36209941e-02  3.48753820e-01  9.35052481e-01]\n",
      " [-3.82275526e-01 -4.84842778e-01  7.86633906e-01]\n",
      " [ 9.74466853e-02 -6.06122334e-01  7.89379414e-01]\n",
      " [-9.82520456e-01 -9.72890813e-02 -1.58708502e-01]\n",
      " [-7.90885154e-01 -5.55923916e-01  2.55830556e-01]\n",
      " [-8.07167385e-01 -3.38262042e-01  4.83797069e-01]\n",
      " [-6.40959465e-01 -3.40485939e-01  6.87924625e-01]\n",
      " [-2.11088103e-01 -9.64496461e-01 -1.58708502e-01]\n",
      " [-9.82520456e-01  9.72890813e-02  1.58708502e-01]\n",
      " [-5.21888739e-01 -5.04372734e-01 -6.87924625e-01]\n",
      " [-5.71134759e-01 -6.63133082e-01 -4.83797069e-01]\n",
      " [-7.73112016e-01 -5.80386541e-01 -2.55830556e-01]\n",
      " [-3.96142933e-01 -9.04368502e-01  1.58708502e-01]\n",
      " [-5.46343914e-01  2.79979407e-01 -7.89379414e-01]\n",
      " [-5.79242518e-01 -2.13740972e-01 -7.86633906e-01]\n",
      " [ 3.12024625e-01 -1.68278018e-01 -9.35052481e-01]\n",
      " [ 2.19759420e-02 -9.85110770e-02 -9.94893274e-01]\n",
      " [-4.35105794e-01 -4.33085545e-01 -7.89379414e-01]\n",
      " [ 8.25412796e-01  1.08677722e-02 -5.64425023e-01]\n",
      " [ 7.53512359e-01  3.85994764e-01 -5.32190912e-01]\n",
      " [ 3.37417323e-01  1.46625868e-01 -9.29865800e-01]\n",
      " [ 6.03020763e-01  4.76477157e-01 -6.39793309e-01]\n",
      " [ 2.44730716e-01  7.88372545e-01 -5.64425023e-01]\n",
      " [ 1.00000000e+00 -0.00000000e+00 -0.00000000e+00]\n",
      " [ 8.74530825e-01  4.30283718e-01  2.23722501e-01]\n",
      " [ 8.09016994e-01  5.87785252e-01  4.30288764e-16]\n",
      " [ 6.79469021e-01  6.98763259e-01 -2.23722501e-01]\n",
      " [ 3.09016994e-01  9.51056516e-01 -4.43989129e-17]\n",
      " [ 8.05110378e-01 -1.49988471e-03  5.93123115e-01]\n",
      " [ 6.45783931e-01  4.25580428e-01  6.33911992e-01]\n",
      " [ 2.54807824e-01  2.26109113e-01  9.40184898e-01]\n",
      " [ 5.75152713e-01  7.07980566e-01  4.09832740e-01]\n",
      " [ 2.50219264e-01  7.65241982e-01  5.93123115e-01]\n",
      " [-5.51656013e-01 -2.69162807e-01  7.89447292e-01]\n",
      " [-1.86505495e-01 -9.38555224e-03  9.82409086e-01]\n",
      " [ 2.98836361e-02  4.17003243e-01  9.08413597e-01]\n",
      " [-2.98626233e-01 -5.09242208e-01  8.07152245e-01]\n",
      " [ 8.55179585e-02 -6.07831928e-01  7.89447292e-01]\n",
      " [-9.62848836e-01 -1.15354400e-01 -2.44162817e-01]\n",
      " [-7.95289259e-01 -5.50575261e-01  2.53735838e-01]\n",
      " [-8.15644517e-01 -3.56075165e-01  4.55998353e-01]\n",
      " [-6.01196275e-01 -2.65799231e-01  7.53600562e-01]\n",
      " [-1.87828099e-01 -9.51370130e-01 -2.44162817e-01]\n",
      " [-9.62848836e-01  1.15354400e-01  2.44162817e-01]\n",
      " [-4.38569957e-01 -4.89635156e-01 -7.53600562e-01]\n",
      " [-5.90695623e-01 -6.65690756e-01 -4.55998353e-01]\n",
      " [-7.69386087e-01 -5.86227920e-01 -2.53735838e-01]\n",
      " [-4.07245207e-01 -8.80077190e-01  2.44162817e-01]\n",
      " [-5.51656013e-01  2.69162807e-01 -7.89447292e-01]\n",
      " [-5.76598702e-01 -1.26645928e-01 -8.07152245e-01]\n",
      " [ 4.05828203e-01 -1.00440062e-01 -9.08413597e-01]\n",
      " [-6.65595581e-02 -1.74476971e-01 -9.82409086e-01]\n",
      " [-4.26460125e-01 -4.41480164e-01 -7.89447292e-01]\n",
      " [ 8.05110378e-01  1.49988471e-03 -5.93123115e-01]\n",
      " [ 8.51061493e-01  3.28224709e-01 -4.09832740e-01]\n",
      " [ 2.93782493e-01  1.72465083e-01 -9.40184898e-01]\n",
      " [ 6.04309248e-01  4.82665431e-01 -6.33911992e-01]\n",
      " [ 2.47366314e-01  7.66168961e-01 -5.93123115e-01]\n",
      " [ 1.00000000e+00 -0.00000000e+00 -0.00000000e+00]\n",
      " [ 8.75177478e-01  4.30286706e-01  2.21173535e-01]\n",
      " [ 8.09016994e-01  5.87785252e-01  4.30288764e-16]\n",
      " [ 6.79671689e-01  6.99377339e-01 -2.21173535e-01]\n",
      " [ 3.09016994e-01  9.51056516e-01 -4.43989129e-17]\n",
      " [ 8.05105600e-01 -1.46670610e-03  5.93129684e-01]\n",
      " [ 6.46914225e-01  4.23085337e-01  6.34429494e-01]\n",
      " [ 2.55682546e-01  2.27740581e-01  9.39553438e-01]\n",
      " [ 5.74889192e-01  7.09081626e-01  4.08296051e-01]\n",
      " [ 2.50186233e-01  7.65247690e-01  5.93129684e-01]\n",
      " [-5.44040784e-01 -2.69673851e-01  7.94541151e-01]\n",
      " [-1.86536526e-01 -1.01034550e-02  9.82396073e-01]\n",
      " [ 2.68380036e-02  4.18512883e-01  9.07814237e-01]\n",
      " [-2.98606592e-01 -5.11722329e-01  8.05589450e-01]\n",
      " [ 8.83572254e-02 -6.00747335e-01  7.94541151e-01]\n",
      " [-9.60785622e-01 -1.19809586e-01 -2.50073292e-01]\n",
      " [-7.93467791e-01 -5.45922616e-01  2.69030409e-01]\n",
      " [-8.14760849e-01 -3.60524025e-01  4.54078393e-01]\n",
      " [-6.02987633e-01 -2.50903910e-01  7.57266890e-01]\n",
      " [-1.82953397e-01 -9.50784625e-01 -2.50073292e-01]\n",
      " [-9.60785622e-01  1.19809586e-01  2.50073292e-01]\n",
      " [-4.24957225e-01 -4.95941746e-01 -7.57266890e-01]\n",
      " [-5.94653672e-01 -6.63475564e-01 -4.54078393e-01]\n",
      " [-7.64398294e-01 -5.85933347e-01 -2.69030408e-01]\n",
      " [-4.10844773e-01 -8.76738228e-01  2.50073292e-01]\n",
      " [-5.44040784e-01  2.69673851e-01 -7.94541151e-01]\n",
      " [-5.78951370e-01 -1.25860848e-01 -8.05589447e-01]\n",
      " [ 4.06322803e-01 -1.03803135e-01 -9.07814237e-01]\n",
      " [-6.72519132e-02 -1.74284639e-01 -9.82396073e-01]\n",
      " [-4.24592921e-01 -4.34079730e-01 -7.94541151e-01]\n",
      " [ 8.05105601e-01  1.46671079e-03 -5.93129683e-01]\n",
      " [ 8.52027231e-01  3.27633839e-01 -4.08296051e-01]\n",
      " [ 2.95604405e-01  1.72792840e-01 -9.39553442e-01]\n",
      " [ 6.02285556e-01  4.84511430e-01 -6.34429494e-01]\n",
      " [ 2.47396388e-01  7.66154166e-01 -5.93129683e-01]\n",
      " [ 1.00000000e+00 -0.00000000e+00 -0.00000000e+00]\n",
      " [ 8.75816339e-01  4.30275336e-01  2.18652406e-01]\n",
      " [ 8.09016994e-01  5.87785252e-01  4.30288764e-16]\n",
      " [ 6.79858295e-01  6.99988446e-01 -2.18652406e-01]\n",
      " [ 3.09016994e-01  9.51056516e-01 -4.43989129e-17]\n",
      " [ 8.05101028e-01 -1.43496333e-03  5.93135967e-01]\n",
      " [ 6.47902019e-01  4.20792435e-01  6.34946218e-01]\n",
      " [ 2.56599941e-01  2.29450174e-01  9.38887154e-01]\n",
      " [ 5.74629807e-01  7.10120538e-01  4.06853053e-01]\n",
      " [ 2.50154631e-01  7.65253151e-01  5.93135967e-01]\n",
      " [-5.36626792e-01 -2.70052632e-01  7.99439342e-01]\n",
      " [-1.86568181e-01 -1.07884422e-02  9.82382778e-01]\n",
      " [ 2.30072241e-02  4.19806541e-01  9.07321958e-01]\n",
      " [-2.98576712e-01 -5.14323772e-01  8.03942165e-01]\n",
      " [ 9.10085176e-02 -5.93813260e-01  7.99439342e-01]\n",
      " [-9.58504833e-01 -1.24601668e-01 -2.56403801e-01]\n",
      " [-7.91691203e-01 -5.41293780e-01  2.83242091e-01]\n",
      " [-8.13875457e-01 -3.64639592e-01  4.52376733e-01]\n",
      " [-6.05248491e-01 -2.35519434e-01  7.60397831e-01]\n",
      " [-1.77691055e-01 -9.50096300e-01 -2.56403801e-01]\n",
      " [-9.58504833e-01  1.24601667e-01  2.56403800e-01]\n",
      " [-4.11024359e-01 -5.02846015e-01 -7.60397831e-01]\n",
      " [-5.98294209e-01 -6.61361726e-01 -4.52376732e-01]\n",
      " [-7.59447014e-01 -5.85674101e-01 -2.83242088e-01]\n",
      " [-4.14697510e-01 -8.73088235e-01  2.56403800e-01]\n",
      " [-5.36626793e-01  2.70052632e-01 -7.99439342e-01]\n",
      " [-5.81416253e-01 -1.25028541e-01 -8.03942165e-01]\n",
      " [ 4.06369369e-01 -1.07846185e-01 -9.07321958e-01]\n",
      " [-6.79131574e-02 -1.74103072e-01 -9.82382778e-01]\n",
      " [-4.22662114e-01 -4.26911555e-01 -7.99439342e-01]\n",
      " [ 8.05101031e-01  1.43498128e-03 -5.93135963e-01]\n",
      " [ 8.52935140e-01  3.27066108e-01 -4.06853054e-01]\n",
      " [ 2.97513826e-01  1.73137043e-01 -9.38887154e-01]\n",
      " [ 6.00410122e-01  4.86159424e-01 -6.34946218e-01]\n",
      " [ 2.47425152e-01  7.66140015e-01 -5.93135963e-01]\n",
      " [ 1.00000000e+00 -0.00000000e+00 -0.00000000e+00]\n",
      " [ 8.76450007e-01  4.30244775e-01  2.16159242e-01]\n",
      " [ 8.09016994e-01  5.87785252e-01  4.30288764e-16]\n",
      " [ 6.80025044e-01  7.00600544e-01 -2.16159242e-01]\n",
      " [ 3.09016994e-01  9.51056516e-01 -4.43989129e-17]\n",
      " [ 8.05096653e-01 -1.40458357e-03  5.93141979e-01]\n",
      " [ 6.48769502e-01  4.18674747e-01  6.35460140e-01]\n",
      " [ 2.57563080e-01  2.31243252e-01  9.38183254e-01]\n",
      " [ 5.74374672e-01  7.11102747e-01  4.05495524e-01]\n",
      " [ 2.50124386e-01  7.65258377e-01  5.93141979e-01]\n",
      " [-5.29391700e-01 -2.70287698e-01  8.04169751e-01]\n",
      " [-1.86600489e-01 -1.14429235e-02  9.82369237e-01]\n",
      " [ 1.84066685e-02  4.20859560e-01  9.06939042e-01]\n",
      " [-2.98535084e-01 -5.17055996e-01  8.02203154e-01]\n",
      " [ 9.34678447e-02 -5.87004918e-01  8.04169751e-01]\n",
      " [-9.55975616e-01 -1.29767092e-01 -2.63194078e-01]\n",
      " [-7.89971608e-01 -5.36735433e-01  2.96411764e-01]\n",
      " [-8.12993823e-01 -3.68441051e-01  4.50879403e-01]\n",
      " [-6.08051290e-01 -2.19771899e-01  7.62872166e-01]\n",
      " [-1.71996874e-01 -9.49287076e-01 -2.63194078e-01]\n",
      " [-9.55975617e-01  1.29767090e-01  2.63194077e-01]\n",
      " [-3.96913679e-01 -5.10377890e-01 -7.62872166e-01]\n",
      " [-6.01637170e-01 -6.59348527e-01 -4.50879403e-01]\n",
      " [-7.54580383e-01 -5.85447275e-01 -2.96411764e-01]\n",
      " [-4.18828549e-01 -8.69086604e-01  2.63194077e-01]\n",
      " [-5.29391700e-01  2.70287698e-01 -8.04169751e-01]\n",
      " [-5.84001888e-01 -1.24144647e-01 -8.02203154e-01]\n",
      " [ 4.05949200e-01 -1.12546974e-01 -9.06939042e-01]\n",
      " [-6.85455916e-02 -1.73931552e-01 -9.82369237e-01]\n",
      " [-4.20649909e-01 -4.19957934e-01 -8.04169751e-01]\n",
      " [ 8.05096653e-01  1.40458357e-03 -5.93141979e-01]\n",
      " [ 8.53790433e-01  3.26519943e-01 -4.05495529e-01]\n",
      " [ 2.99516771e-01  1.73498951e-01 -9.38183254e-01]\n",
      " [ 5.98664148e-01  4.87638851e-01 -6.35460140e-01]\n",
      " [ 2.47452709e-01  7.66126458e-01 -5.93141979e-01]]\n",
      "Normal                         passed | jax-sbgeom:  781.810 ms ±    0.000 ms | SBGeom:   13.890 ms ±    0.000 ms\n"
     ]
    }
   ],
   "source": [
    "def _check_normals_both(fs_jax, fs_sbgeom, sampling_func, sampling_func_1d, n_repetitions=1, atol =1e-13):\n",
    "    norm_jax, time_jax, std_jax          = time_jsb_function(fs_jax.normal, *sampling_func(fs_jax, include_axis=False),              n_repetitions= n_repetitions)\n",
    "    norm_sbgeom, time_sbgeom, std_sbgeom = time_jsb_function(fs_sbgeom.Return_Normal, *sampling_func_1d(fs_jax, include_axis=False, reverse_theta=fs_sbgeom.du_x_dv_sign() == 1.0), n_repetitions= n_repetitions, jsb=False)    \n",
    "    print(norm_sbgeom)\n",
    "    assert jnp.allclose(norm_jax, norm_sbgeom.reshape(norm_jax.shape), atol= atol)\n",
    "    print_timings(\"Normal\", time_jax, std_jax, time_sbgeom, std_sbgeom)\n",
    "\n",
    "from tests.flux_surfaces.test_flux_surface_base_extension import _extended_sampling_grid, _extended_1d_sampling_grid, _extended_1d_sampling_grid_stop_1\n",
    "_check_normals_both(fs_jax, fs_sbgeom, _extended_sampling_grid, _extended_1d_sampling_grid, n_repetitions=1, atol=1e-6)"
   ]
  },
  {
   "cell_type": "code",
   "execution_count": 5,
   "id": "47a1b337",
   "metadata": {},
   "outputs": [
    {
     "name": "stdout",
     "output_type": "stream",
     "text": [
      "[23.25389392  7.19327233  0.86935654]\n",
      "[23.2538939   7.19327237  0.86935654]\n",
      "[0.00846512 0.20085576]\n",
      "[0.00846512 0.20085576]\n",
      "[0.84046615 0.4460473  0.30766614]\n",
      "[0.84046615 0.4460473  0.30766614]\n"
     ]
    }
   ],
   "source": [
    "print(fs_jax.cartesian_position(s+d, theta, phi))\n",
    "print(fs_sbgeom.Return_Position(s, d, theta, phi))\n",
    "\n",
    "print(fs_jax.principal_curvatures(s+d, theta, phi))\n",
    "print(fs_sbgeom.Return_Principal_Curvatures(s, d, theta, phi))\n",
    "\n",
    "print(fs_jax.normal(s+d, theta, phi))\n",
    "\n",
    "\n",
    "print(fs_sbgeom.Return_Normal(s, d, theta, phi))"
   ]
  },
  {
   "cell_type": "code",
   "execution_count": 6,
   "id": "63de5af1",
   "metadata": {},
   "outputs": [
    {
     "name": "stdout",
     "output_type": "stream",
     "text": [
      "1.44 s ± 9.06 ms per loop (mean ± std. dev. of 7 runs, 1 loop each)\n"
     ]
    }
   ],
   "source": [
    "%timeit fs_np.cartesian_position(1.5, 0.2, jnp.linspace(0, 2*jnp.pi, 10000000)).block_until_ready()"
   ]
  },
  {
   "cell_type": "code",
   "execution_count": 77,
   "id": "f3b4b16b",
   "metadata": {},
   "outputs": [
    {
     "data": {
      "text/plain": [
       "20.0"
      ]
     },
     "execution_count": 77,
     "metadata": {},
     "output_type": "execute_result"
    }
   ],
   "source": [
    "10000000 / 500000"
   ]
  },
  {
   "cell_type": "code",
   "execution_count": 9,
   "id": "79570774",
   "metadata": {},
   "outputs": [
    {
     "name": "stdout",
     "output_type": "stream",
     "text": [
      "579 ms ± 1.02 ms per loop (mean ± std. dev. of 7 runs, 1 loop each)\n"
     ]
    }
   ],
   "source": [
    "%timeit fs_jax.cartesian_position(1.5, 0.2, jnp.linspace(0, 2*jnp.pi, 500000)).block_until_ready()"
   ]
  },
  {
   "cell_type": "code",
   "execution_count": 11,
   "id": "74f84132",
   "metadata": {},
   "outputs": [],
   "source": [
    "_check_vectorized_internal(fs_jax.cartesian_position)"
   ]
  },
  {
   "cell_type": "code",
   "execution_count": 52,
   "id": "7db98922",
   "metadata": {},
   "outputs": [
    {
     "data": {
      "text/plain": [
       "Array([[23.33713165,  7.21902078,  0.57565824],\n",
       "       [22.14944684,  9.36463592,  0.63932094]], dtype=float64)"
      ]
     },
     "execution_count": 52,
     "metadata": {},
     "output_type": "execute_result"
    }
   ],
   "source": [
    "fs_jax.cartesian_position(1.5, jnp.array([0.1, 0.2]), jnp.array([0.3, 0.4]))"
   ]
  },
  {
   "cell_type": "code",
   "execution_count": 53,
   "id": "53f83a0d",
   "metadata": {},
   "outputs": [
    {
     "data": {
      "text/plain": [
       "array([[22.60702489,  6.99317229,  0.69869452],\n",
       "       [21.40116221,  9.04826626,  0.6622971 ]])"
      ]
     },
     "execution_count": 53,
     "metadata": {},
     "output_type": "execute_result"
    }
   ],
   "source": [
    "fs_sbgeom.Return_Position(0.5 * onp.ones(2), 0.0 * onp.ones(2), onp.array([0.1, 0.2]), onp.array([0.3, 0.4]))"
   ]
  },
  {
   "cell_type": "code",
   "execution_count": 38,
   "id": "8090f2fd",
   "metadata": {},
   "outputs": [
    {
     "data": {
      "text/plain": [
       "(Array(0.3, dtype=float64), np.float64(0.30000000176831865))"
      ]
     },
     "execution_count": 38,
     "metadata": {},
     "output_type": "execute_result"
    }
   ],
   "source": [
    "jnp.arctan2(posj[1], posj[0]), onp.arctan2(posb[1], posb[0])"
   ]
  },
  {
   "cell_type": "code",
   "execution_count": 23,
   "id": "8458738d",
   "metadata": {},
   "outputs": [
    {
     "data": {
      "text/plain": [
       "array([24.25767128,  4.91727343,  0.66072459])"
      ]
     },
     "execution_count": 23,
     "metadata": {},
     "output_type": "execute_result"
    }
   ],
   "source": [
    "fs_sbgeom.Return_Position(1.0, 0.45, 0.1, 0.2)"
   ]
  },
  {
   "cell_type": "code",
   "execution_count": 11,
   "id": "3f61d9c7",
   "metadata": {},
   "outputs": [
    {
     "name": "stdout",
     "output_type": "stream",
     "text": [
      "[-0.29552021  0.95533649  0.        ]\n",
      "0.17896749729128478\n",
      "[0.8390241  0.44687508 0.31038882] [0.90654885 0.28042842 0.31548229]\n",
      "[23.24725547  7.19121882  0.86441375]\n"
     ]
    },
    {
     "data": {
      "text/plain": [
       "array([23.24725547,  7.19121882,  0.86441375])"
      ]
     },
     "execution_count": 11,
     "metadata": {},
     "output_type": "execute_result"
    }
   ],
   "source": [
    "s = 1.0\n",
    "d = 0.5\n",
    "theta = 0.2 \n",
    "phi = 0.3\n",
    "print(fse._normal_extended_no_phi_cartesian_position(fs_jax.data, fs_jax.settings, s+d, theta, phi))\n",
    "fs_sbgeom.Return_Position(s, d, theta, phi)"
   ]
  },
  {
   "cell_type": "code",
   "execution_count": 5,
   "id": "6287cb1c",
   "metadata": {},
   "outputs": [
    {
     "data": {
      "text/plain": [
       "array([22.79398104,  7.05100461,  0.7066726 ])"
      ]
     },
     "execution_count": 5,
     "metadata": {},
     "output_type": "execute_result"
    }
   ],
   "source": [
    "fs_sbgeom.Return_Position(1.0, 0.0, 0.2,0.3)"
   ]
  },
  {
   "cell_type": "code",
   "execution_count": 6,
   "id": "33ccde9a",
   "metadata": {},
   "outputs": [
    {
     "name": "stdout",
     "output_type": "stream",
     "text": [
      "JitTracer<float64[2,5,3]>\n",
      "JitTracer<float64[2,5]>\n",
      "JitTracer<float64[2,5,3]> JitTracer<float64[2,5,3]>\n"
     ]
    },
    {
     "data": {
      "text/plain": [
       "Array([[[ 2.33435006e+01,  0.00000000e+00,  3.54410065e+00],\n",
       "        [ 1.34279273e-15,  2.19181387e+01,  3.75767817e+00],\n",
       "        [-2.14677661e+01,  2.63225847e-15,  1.77876625e+00],\n",
       "        [-4.25162392e-15, -2.31311040e+01,  1.65641767e+00],\n",
       "        [ 2.33435006e+01, -5.71979257e-15,  3.54410065e+00]],\n",
       "\n",
       "       [[ 2.30718270e+01,  0.00000000e+00,  3.60813365e+00],\n",
       "        [ 1.33193695e-15,  2.16642790e+01,  3.85756590e+00],\n",
       "        [-2.12250909e+01,  2.60256882e-15,  1.89022671e+00],\n",
       "        [-4.22574040e-15, -2.30197949e+01,  1.55279433e+00],\n",
       "        [ 2.30718270e+01, -5.65798786e-15,  3.60813365e+00]]],      dtype=float64)"
      ]
     },
     "execution_count": 6,
     "metadata": {},
     "output_type": "execute_result"
    }
   ],
   "source": [
    "ss, tt = jnp.meshgrid(jnp.array([1.5, 1.6]), jnp.linspace(0, 2 * jnp.pi, 5), indexing='ij')\n",
    "fs_jax.cartesian_position(1.5, ss, tt)"
   ]
  },
  {
   "cell_type": "code",
   "execution_count": 7,
   "id": "842ac208",
   "metadata": {},
   "outputs": [
    {
     "data": {
      "text/plain": [
       "Array([[[ 0.03936199,  1.01773538],\n",
       "        [ 0.05314682,  0.50113663],\n",
       "        [-0.13579406,  0.06603556],\n",
       "        [-0.49497958, -0.03873364],\n",
       "        [ 0.03936199,  1.01773538]],\n",
       "\n",
       "       [[ 0.02356461,  1.33404579],\n",
       "        [ 0.05116669,  0.72522694],\n",
       "        [-0.08582024,  0.11588139],\n",
       "        [-0.4978989 , -0.04412146],\n",
       "        [ 0.02356461,  1.33404579]]], dtype=float64)"
      ]
     },
     "execution_count": 7,
     "metadata": {},
     "output_type": "execute_result"
    }
   ],
   "source": [
    "from jax_sbgeom.flux_surfaces.flux_surfaces_extended import FluxSurfaceNormalExtended, _normal_extended_principal_curvatures, _normal_extended_principal_curvatures_jit\n",
    "_normal_extended_principal_curvatures(fs_jax.data, fs_jax.settings, 1.5, ss, tt)"
   ]
  },
  {
   "cell_type": "code",
   "execution_count": 8,
   "id": "42368885",
   "metadata": {},
   "outputs": [
    {
     "data": {
      "text/plain": [
       "Array([[[ 2.33435006e+01,  0.00000000e+00,  3.54410065e+00],\n",
       "        [ 1.34279273e-15,  2.19181387e+01,  3.75767817e+00],\n",
       "        [-2.14677661e+01,  2.63225847e-15,  1.77876625e+00],\n",
       "        [-4.25162392e-15, -2.31311040e+01,  1.65641767e+00],\n",
       "        [ 2.33435006e+01, -5.71979257e-15,  3.54410065e+00]],\n",
       "\n",
       "       [[ 2.30718270e+01,  0.00000000e+00,  3.60813365e+00],\n",
       "        [ 1.33193695e-15,  2.16642790e+01,  3.85756590e+00],\n",
       "        [-2.12250909e+01,  2.60256882e-15,  1.89022671e+00],\n",
       "        [-4.22574040e-15, -2.30197949e+01,  1.55279433e+00],\n",
       "        [ 2.30718270e+01, -5.65798786e-15,  3.60813365e+00]]],      dtype=float64)"
      ]
     },
     "execution_count": 8,
     "metadata": {},
     "output_type": "execute_result"
    }
   ],
   "source": [
    "fs_jax.cartesian_position(1.5, ss, tt)"
   ]
  },
  {
   "cell_type": "code",
   "execution_count": 9,
   "id": "6c2c2af1",
   "metadata": {},
   "outputs": [
    {
     "data": {
      "text/plain": [
       "Array([[[nan, nan],\n",
       "        [nan, nan],\n",
       "        [nan, nan],\n",
       "        [nan, nan],\n",
       "        [nan, nan]],\n",
       "\n",
       "       [[nan, nan],\n",
       "        [nan, nan],\n",
       "        [nan, nan],\n",
       "        [nan, nan],\n",
       "        [nan, nan]]], dtype=float64, weak_type=True)"
      ]
     },
     "execution_count": 9,
     "metadata": {},
     "output_type": "execute_result"
    }
   ],
   "source": [
    "fs_jax.principal_curvatures(1.5, ss, tt)"
   ]
  }
 ],
 "metadata": {
  "kernelspec": {
   "display_name": "stellsim",
   "language": "python",
   "name": "python3"
  },
  "language_info": {
   "codemirror_mode": {
    "name": "ipython",
    "version": 3
   },
   "file_extension": ".py",
   "mimetype": "text/x-python",
   "name": "python",
   "nbconvert_exporter": "python",
   "pygments_lexer": "ipython3",
   "version": "3.12.11"
  }
 },
 "nbformat": 4,
 "nbformat_minor": 5
}
