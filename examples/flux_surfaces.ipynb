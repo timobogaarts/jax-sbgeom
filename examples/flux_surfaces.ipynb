{
 "cells": [
  {
   "cell_type": "code",
   "execution_count": null,
   "id": "24badc7b",
   "metadata": {},
   "outputs": [],
   "source": [
    "import jax_sbgeom as jsb\n",
    "%load_ext autoreload\n",
    "%autoreload 2\n",
    "import h5py\n",
    "import jax.numpy as jnp\n",
    "import jax\n",
    "jax.config.update(\"jax_enable_x64\", True)\n",
    "import numpy as onp\n",
    "import sys \n",
    "import os\n",
    "\n",
    "project_root = os.path.abspath(os.path.join(os.getcwd(), \"..\"))\n",
    "sys.path.append(project_root)\n",
    "vmec_files = [\"/home/tbogaarts/stellarator_paper/base_data/vmecs/helias3_vmec.nc4\", \"/home/tbogaarts/stellarator_paper/base_data/vmecs/helias5_vmec.nc4\", \"/home/tbogaarts/stellarator_paper/base_data/vmecs/squid_vmec.nc4\"]\n",
    "\n",
    "vmec_file = vmec_files[1]\n",
    "import StellBlanket.SBGeom as SBGeom\n",
    "from functools import partial\n",
    "from jax_sbgeom.flux_surfaces.flux_surfaces_base import ToroidalExtent\n",
    "#from jax_sbgeom.flux_surfaces.flux_surface_meshing import _mesh_watertight_surfaces_connectivity\n",
    "from tests.flux_surfaces.test_flux_surface_base import test_position, _mesh_to_pyvista_mesh, test_watertight_surfaces\n",
    "import jax_sbgeom.flux_surfaces.flux_surface_meshing as fsm\n",
    "import pyvista as pv"
   ]
  },
  {
   "cell_type": "code",
   "execution_count": null,
   "id": "d28fe293",
   "metadata": {},
   "outputs": [],
   "source": [
    "def _get_flux_surfaces(vmec_file):\n",
    "    fs_jax    = jsb.flux_surfaces.FluxSurface.from_hdf5(vmec_file)\n",
    "    fs_sbgeom = SBGeom.VMEC.Flux_Surfaces_From_HDF5(vmec_file)\n",
    "    return fs_jax, fs_sbgeom\n",
    "\n",
    "fs_jax, fs_sbgeom = _get_flux_surfaces(vmec_file)  # just to compile"
   ]
  }
 ],
 "metadata": {
  "kernelspec": {
   "display_name": "stellsim",
   "language": "python",
   "name": "python3"
  },
  "language_info": {
   "codemirror_mode": {
    "name": "ipython",
    "version": 3
   },
   "file_extension": ".py",
   "mimetype": "text/x-python",
   "name": "python",
   "nbconvert_exporter": "python",
   "pygments_lexer": "ipython3",
   "version": "3.12.11"
  }
 },
 "nbformat": 4,
 "nbformat_minor": 5
}
