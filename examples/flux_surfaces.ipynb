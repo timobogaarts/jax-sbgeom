{
 "cells": [
  {
   "cell_type": "code",
   "execution_count": 1,
   "id": "24badc7b",
   "metadata": {},
   "outputs": [
    {
     "name": "stdout",
     "output_type": "stream",
     "text": [
      "Triangle Elements not compiled\n"
     ]
    }
   ],
   "source": [
    "# import os\n",
    "# os.environ[\"JAX_PLATFORM_NAME\"] = \"cpu\"\n",
    "\n",
    "import jax_sbgeom as jsb\n",
    "%load_ext autoreload\n",
    "%autoreload 2\n",
    "import jax.numpy as jnp\n",
    "import jax\n",
    "jax.config.update(\"jax_enable_x64\", True)\n",
    "import numpy as onp\n",
    "import sys \n",
    "import os\n",
    "\n",
    "project_root = os.path.abspath(os.path.join(os.getcwd(), \"..\"))\n",
    "sys.path.append(project_root)\n",
    "\n",
    "import StellBlanket.SBGeom as SBGeom\n",
    "from functools import partial\n",
    "import jax_sbgeom.flux_surfaces.flux_surface_meshing as fsm\n",
    "import jax_sbgeom.flux_surfaces.flux_surfaces_base as fsb\n",
    "import jax_sbgeom.flux_surfaces.flux_surfaces_extended as fse\n",
    "import pyvista as pv\n",
    "from dataclasses import dataclass\n",
    "\n",
    "\n",
    "vmec_files = [\"/home/tbogaarts/stellarator_paper/base_data/vmecs/helias3_vmec.nc4\", \"/home/tbogaarts/stellarator_paper/base_data/vmecs/helias5_vmec.nc4\", \"/home/tbogaarts/stellarator_paper/base_data/vmecs/squid_vmec.nc4\"]\n",
    "vmec_file = vmec_files[1]"
   ]
  },
  {
   "cell_type": "code",
   "execution_count": 2,
   "id": "d28fe293",
   "metadata": {},
   "outputs": [],
   "source": [
    "def _get_flux_surfaces(vmec_file):\n",
    "    fs_jax    = jsb.flux_surfaces.FluxSurface.from_hdf5(vmec_file)\n",
    "    fs_sbgeom = SBGeom.VMEC.Flux_Surfaces_From_HDF5(vmec_file)\n",
    "    return fs_jax, fs_sbgeom\n",
    "\n",
    "def _get_extended_flux_surfaces(vmec_file):    \n",
    "    fs_jax    = jsb.flux_surfaces.FluxSurfaceNormalExtended.from_hdf5(vmec_file)\n",
    "    fs_sbgeom = SBGeom.Flux_Surfaces_Normal_Extended(SBGeom.VMEC.Flux_Surfaces_From_HDF5(vmec_file))\n",
    "    return fs_jax, fs_sbgeom\n",
    "\n",
    "def _get_extended_no_phi_flux_surfaces(vmec_file):    \n",
    "    fs_jax    = jsb.flux_surfaces.FluxSurfaceNormalExtendedNoPhi.from_hdf5(vmec_file)\n",
    "    fs_sbgeom = SBGeom.Flux_Surfaces_Normal_Extended_No_Phi(SBGeom.VMEC.Flux_Surfaces_From_HDF5(vmec_file))\n",
    "    return fs_jax, fs_sbgeom\n",
    "\n",
    "def _get_extended_constant_phi_flux_surfaces(vmec_file):    \n",
    "    fs_jax    = jsb.flux_surfaces.FluxSurfaceNormalExtendedConstantPhi.from_hdf5(vmec_file)\n",
    "    fs_sbgeom = SBGeom.Flux_Surfaces_Normal_Extended_Constant_Phi(SBGeom.VMEC.Flux_Surfaces_From_HDF5(vmec_file))\n",
    "    return fs_jax, fs_sbgeom\n",
    "\n",
    "fs_jax, fs_sbgeom = _get_extended_constant_phi_flux_surfaces(vmec_file)  # just to compile\n",
    "fs_jax, fs_sbgeom = _get_extended_no_phi_flux_surfaces(vmec_file)  # just to compile\n"
   ]
  },
  {
   "cell_type": "code",
   "execution_count": 3,
   "id": "ebe193aa",
   "metadata": {},
   "outputs": [],
   "source": [
    "d_total = 0.0\n",
    "n_theta = 50\n",
    "n_phi   = 60\n",
    "symm = fs_jax.settings.nfp\n",
    "\n",
    "theta = jnp.linspace(0, 2*jnp.pi, n_theta, endpoint=False)\n",
    "phi   = jnp.linspace(0, 2*jnp.pi / symm, n_phi, endpoint=False)\n",
    "\n",
    "theta_mg, phi_mg = jnp.meshgrid(theta, phi, indexing='ij')"
   ]
  },
  {
   "cell_type": "code",
   "execution_count": 4,
   "id": "e9648e45",
   "metadata": {},
   "outputs": [],
   "source": [
    "positions_jax = fs_jax.cylindrical_position(1.0 + d_total, theta_mg, phi_mg)"
   ]
  },
  {
   "cell_type": "code",
   "execution_count": 5,
   "id": "68dd9b7f",
   "metadata": {},
   "outputs": [],
   "source": [
    "positions_cart_sbg = fs_sbgeom.Return_Position(onp.ones_like(theta_mg).ravel(), onp.ones_like(theta_mg).ravel() * d_total, onp.array(theta_mg.ravel()), onp.array(phi_mg.ravel())).reshape(positions_jax.shape)\n",
    "\n",
    "\n",
    "Rsbg = onp.sqrt(positions_cart_sbg[...,0]**2 + positions_cart_sbg[...,1]**2)\n",
    "Zsbg = positions_cart_sbg[...,2]\n",
    "phisb = onp.arctan2(positions_cart_sbg[...,1], positions_cart_sbg[...,0])\n"
   ]
  },
  {
   "cell_type": "code",
   "execution_count": 6,
   "id": "b1cb99ce",
   "metadata": {},
   "outputs": [],
   "source": [
    "RSampling, ZSampling, phisampling, uu, vv = SBGeom.VMEC.Get_Sampling_Curve(fs_sbgeom, n_theta, n_phi, d_total)"
   ]
  },
  {
   "cell_type": "code",
   "execution_count": null,
   "id": "a38db5ad",
   "metadata": {},
   "outputs": [],
   "source": []
  },
  {
   "cell_type": "code",
   "execution_count": null,
   "id": "bf868767",
   "metadata": {},
   "outputs": [],
   "source": [
    "def convert_flux_surface_to_different_ntor_mpol(fs : jsb.flux_surfaces.FluxSurface, mpol_new : int, ntor_new : int) -> jsb.flux_surfaces.FluxSurface:\n",
    "    Rmnc_new2 = _convert_to_different_ntor_mpol(jnp.stack([fs.data.Rmnc, fs.data.Zmns], axis=0), mpol_new, ntor_new, fs.settings.mpol, fs.settings.ntor)\n",
    "    #Zmns_new = _convert_to_different_ntor_mpol(fs.data.Zmns, mpol_new, ntor_new, fs.settings.mpol, fs.settings.ntor)\n",
    "    Rmnc_new = Rmnc_new2[0]\n",
    "    Zmns_new = Rmnc_new2[1]\n",
    "\n",
    "    ntor_vector_new = _create_ntor_vector(ntor_new, mpol_new, fs.settings.nfp)    \n",
    "    mpol_vector_new = _create_mpol_vector(ntor_new, mpol_new)\n",
    "    data_new     = fsb.FluxSurfaceData(Rmnc=Rmnc_new, Zmns=Zmns_new, ntor_vector=ntor_vector_new, mpol_vector=mpol_vector_new)\n",
    "    settings_new = fsb.FluxSurfaceSettings(mpol=mpol_new, ntor=ntor_new, nfp=fs.settings.nfp, nsurf=1)\n",
    "    \n",
    "    fs_new = jsb.flux_surfaces.FluxSurface(data=data_new, settings=settings_new)\n",
    "    return fs_new\n",
    "\n",
    "fs_new = convert_flux_surface_to_different_ntor_mpol(fs_jax, mpol_new=25, ntor_new=25)"
   ]
  },
  {
   "cell_type": "code",
   "execution_count": 200,
   "id": "c23f9e9f",
   "metadata": {},
   "outputs": [
    {
     "name": "stdout",
     "output_type": "stream",
     "text": [
      "[23.36889775  5.7187596   0.96105676]\n",
      "[23.36889775  5.7187596   0.96105676]\n"
     ]
    }
   ],
   "source": [
    "print(fs_new.cartesian_position(1.0, 0.25, 0.24))\n",
    "print(fs_jax.cartesian_position(1.0, 0.25, 0.24))"
   ]
  }
 ],
 "metadata": {
  "kernelspec": {
   "display_name": "jaxsbgeom",
   "language": "python",
   "name": "python3"
  },
  "language_info": {
   "codemirror_mode": {
    "name": "ipython",
    "version": 3
   },
   "file_extension": ".py",
   "mimetype": "text/x-python",
   "name": "python",
   "nbconvert_exporter": "python",
   "pygments_lexer": "ipython3",
   "version": "3.12.12"
  }
 },
 "nbformat": 4,
 "nbformat_minor": 5
}
