{
 "cells": [
  {
   "cell_type": "code",
   "execution_count": null,
   "id": "24badc7b",
   "metadata": {},
   "outputs": [],
   "source": [
    "import jax_sbgeom as jsb\n",
    "%load_ext autoreload\n",
    "%autoreload 2\n",
    "import h5py\n",
    "import jax.numpy as jnp\n",
    "import jax\n",
    "jax.config.update(\"jax_enable_x64\", True)\n",
    "import numpy as onp\n",
    "import sys \n",
    "import os\n",
    "project_root = os.path.abspath(os.path.join(os.getcwd(), \"..\"))\n",
    "sys.path.append(project_root)\n",
    "vmec_file = \"/home/tbogaarts/stellarator_paper/base_data/vmecs/helias5_vmec.nc4\"\n",
    "import StellBlanket.SBGeom as SBGeom\n",
    "from jax_sbgeom.flux_surfaces.flux_surfaces_base import _cartesian_position_interpolated_jit, _cylindrical_position_interpolated, _cartesian_position_interpolated_grad, ToroidalExtent\n",
    "from tests.flux_surfaces.flux_surface_base import test_position, _get_flux_surfaces, _sampling_grid, _1d_sampling_grid, test_normals, test_meshing_surface, test_principal_curvatures\n"
   ]
  },
  {
   "cell_type": "code",
   "execution_count": null,
   "id": "e868183c",
   "metadata": {},
   "outputs": [
    {
     "ename": "NameError",
     "evalue": "name 'test_meshing_surface' is not defined",
     "output_type": "error",
     "traceback": [
      "\u001b[31m---------------------------------------------------------------------------\u001b[39m",
      "\u001b[31mNameError\u001b[39m                                 Traceback (most recent call last)",
      "\u001b[36mCell\u001b[39m\u001b[36m \u001b[39m\u001b[32mIn[1]\u001b[39m\u001b[32m, line 1\u001b[39m\n\u001b[32m----> \u001b[39m\u001b[32m1\u001b[39m \u001b[43mtest_meshing_surface\u001b[49m(vmec_file)\n",
      "\u001b[31mNameError\u001b[39m: name 'test_meshing_surface' is not defined"
     ]
    }
   ],
   "source": [
    "test_meshing_surface(vmec_file)"
   ]
  },
  {
   "cell_type": "code",
   "execution_count": 5,
   "id": "d28fe293",
   "metadata": {},
   "outputs": [],
   "source": [
    "def _get_flux_surfaces(vmec_file):\n",
    "    fs_jax    = jsb.flux_surfaces.FluxSurface.from_hdf5(vmec_file)\n",
    "    fs_sbgeom = SBGeom.VMEC.Flux_Surfaces_From_HDF5(vmec_file)\n",
    "    return fs_jax, fs_sbgeom\n",
    "\n",
    "fs_jax, fs_sbgeom = _get_flux_surfaces(vmec_file)  # just to compile"
   ]
  },
  {
   "cell_type": "code",
   "execution_count": 18,
   "id": "43c1df3c",
   "metadata": {},
   "outputs": [],
   "source": [
    "from jax_sbgeom.flux_surfaces import mesh_surface\n",
    "from jax_sbgeom.flux_surfaces.flux_surface_meshing import _mesh_surfaces_closed\n",
    "\n",
    "nt = 50 \n",
    "nph =60\n",
    "positions_c, connectivity_c = mesh_surface(fs_jax, 1.0, ToroidalExtent(0.0, jnp.pi), n_theta = nt, n_phi = nph, normals_facing_outwards=True)"
   ]
  },
  {
   "cell_type": "code",
   "execution_count": 20,
   "id": "1151ff90",
   "metadata": {},
   "outputs": [],
   "source": [
    "positions_t_p = onp.array(positions_c.reshape(nt, nph, 3))"
   ]
  },
  {
   "cell_type": "code",
   "execution_count": 35,
   "id": "1f42c10e",
   "metadata": {},
   "outputs": [],
   "source": [
    "def _flip_vertices_theta(positions, n_theta, n_phi):\n",
    "    positions_rs = positions.reshape(n_theta, n_phi, 3)\n",
    "\n",
    "    first = jnp.take(positions_rs, indices = 0, axis = 0)\n",
    "    rest = jnp.flip(jnp.take(positions_rs, indices = jnp.arange(1, n_theta), axis = 0), axis = 0)\n",
    "    positions_rs_flipped = jnp.concatenate([first[None, :, :], rest], axis = 0)\n",
    "    return positions_rs_flipped.reshape(-1, 3)\n",
    "\n"
   ]
  },
  {
   "cell_type": "code",
   "execution_count": 36,
   "id": "bacdb6f9",
   "metadata": {},
   "outputs": [],
   "source": [
    "positions_2 = _flip_vertices_theta(positions_c, nt, nph)"
   ]
  },
  {
   "cell_type": "code",
   "execution_count": 41,
   "id": "304298b1",
   "metadata": {},
   "outputs": [
    {
     "data": {
      "application/vnd.jupyter.widget-view+json": {
       "model_id": "70c2b769a4424c72a1f2e01dac31c853",
       "version_major": 2,
       "version_minor": 0
      },
      "text/plain": [
       "Widget(value='<iframe src=\"http://localhost:44185/index.html?ui=P_0x7b0f0c7cc8c0_9&reconnect=auto\" class=\"pyvi…"
      ]
     },
     "metadata": {},
     "output_type": "display_data"
    }
   ],
   "source": [
    "import numpy as np \n",
    "import pyvista as pv\n",
    "plotter = pv.Plotter()\n",
    "\n",
    "plotter.add_mesh(pv.PolyData(np.array(positions_c)))\n",
    "plotter.add_mesh(pv.PolyData(np.array(positions_2).reshape(-1,3)), color = 'red', opacity = 0.4)\n",
    "\n",
    "plotter.show()"
   ]
  },
  {
   "cell_type": "code",
   "execution_count": 8,
   "id": "686b0b36",
   "metadata": {},
   "outputs": [],
   "source": [
    "import numpy as np\n",
    "mesh_sbgeom = fs_sbgeom.Mesh_Surface(0.5, 0.0, 100, 100, 0.0, np.pi)"
   ]
  },
  {
   "cell_type": "code",
   "execution_count": 9,
   "id": "e8baa18a",
   "metadata": {},
   "outputs": [
    {
     "data": {
      "application/vnd.jupyter.widget-view+json": {
       "model_id": "62c99b2aaa23494ea778e07c1036ce41",
       "version_major": 2,
       "version_minor": 0
      },
      "text/plain": [
       "Widget(value='<iframe src=\"http://localhost:44185/index.html?ui=P_0x7b0fcbf30560_0&reconnect=auto\" class=\"pyvi…"
      ]
     },
     "metadata": {},
     "output_type": "display_data"
    }
   ],
   "source": [
    "import pyvista as pv\n",
    "import numpy as np\n",
    "plotter = pv.Plotter()\n",
    "pts = np.asarray(positions_c)\n",
    "conn = np.asarray(connectivity_c, dtype=np.int64)\n",
    "\n",
    "# PyVista expects a flat \"faces\" array: [n_vertices, v0, v1, v2, n_vertices, v0, v1, v2, ...]\n",
    "faces = np.hstack([np.full((conn.shape[0], 1), 3, dtype=np.int64), conn]).ravel()\n",
    "\n",
    "mesh = pv.PolyData(pts, faces)\n",
    "\n",
    "mesh.compute_normals(cell_normals=True, inplace=True)\n",
    "plotter.add_mesh(mesh, color='white', show_edges=True)\n",
    "plotter.add_mesh(mesh_sbgeom.to_pyvista())\n",
    "plotter.add_arrows(mesh.cell_centers().points, mesh['Normals'], mag=0.1, color='red')\n",
    "plotter.show()"
   ]
  },
  {
   "cell_type": "code",
   "execution_count": null,
   "id": "0c872af2",
   "metadata": {},
   "outputs": [
    {
     "ename": "NameError",
     "evalue": "name 'positions' is not defined",
     "output_type": "error",
     "traceback": [
      "\u001b[31m---------------------------------------------------------------------------\u001b[39m",
      "\u001b[31mNameError\u001b[39m                                 Traceback (most recent call last)",
      "\u001b[36mCell\u001b[39m\u001b[36m \u001b[39m\u001b[32mIn[8]\u001b[39m\u001b[32m, line 1\u001b[39m\n\u001b[32m----> \u001b[39m\u001b[32m1\u001b[39m pos_list = [positions[i,...] \u001b[38;5;28;01mfor\u001b[39;00m i \u001b[38;5;129;01min\u001b[39;00m \u001b[38;5;28mrange\u001b[39m(\u001b[43mpositions\u001b[49m.shape[\u001b[32m0\u001b[39m])]\n\u001b[32m      2\u001b[39m conn_list = [connectivity[i,...] \u001b[38;5;28;01mfor\u001b[39;00m i \u001b[38;5;129;01min\u001b[39;00m \u001b[38;5;28mrange\u001b[39m(connectivity.shape[\u001b[32m0\u001b[39m])]\n",
      "\u001b[31mNameError\u001b[39m: name 'positions' is not defined"
     ]
    }
   ],
   "source": [
    "pos_list = [positions[i,...] for i in range(positions.shape[0])]\n",
    "conn_list = [connectivity[i,...] for i in range(connectivity.shape[0])]"
   ]
  },
  {
   "cell_type": "code",
   "execution_count": null,
   "id": "ca56d4a4",
   "metadata": {},
   "outputs": [
    {
     "name": "stdout",
     "output_type": "stream",
     "text": [
      "[ 0.00000000e+00  8.87110545e-01  1.23708737e-02  1.72806543e-02\n",
      "  7.60098238e-03  1.32181648e-03  1.95386064e-04 -7.44682825e-04\n",
      "  1.36691783e-03  8.74813832e-04 -5.08738278e-04 -3.92411355e-04\n",
      " -6.53033382e-05  7.09699578e-05  8.20513816e-04  1.19774864e-03\n",
      " -6.53292147e-04 -1.81101315e-03  8.28432571e-04  6.83905103e-03\n",
      " -1.07966468e-02 -2.28158277e-03  2.50990585e-02 -3.60128844e-02\n",
      "  7.72870451e-02  2.88472946e+00  1.27724435e+00  3.46642109e-01\n",
      "  6.62636923e-03 -6.81423883e-03  6.84131125e-03 -1.05130135e-03\n",
      " -2.70430745e-03 -3.50347409e-04  1.42332070e-03 -2.29197780e-04\n",
      " -1.46542145e-03 -6.82593939e-04 -5.56001032e-05  2.76918443e-05\n",
      "  1.62241638e-04  3.27721042e-04  5.11637618e-04 -1.58881597e-04\n",
      " -8.93269609e-04  9.12980413e-04  5.86440482e-04  3.14205820e-03\n",
      "  1.05481850e-02  5.33875177e-03  1.27347838e-01  7.92634724e-02\n",
      " -1.86775711e-01 -7.50946720e-02 -1.70578701e-02  4.82778171e-03\n",
      "  7.32824635e-04 -1.78270341e-03 -2.91315391e-04  2.91381411e-04\n",
      "  2.85851678e-04 -2.27273270e-04 -1.56688544e-04  4.76026356e-05\n",
      " -1.68201936e-04 -2.44072613e-04 -2.65638417e-04 -2.74587311e-04\n",
      "  2.56437839e-04  9.20331595e-04 -1.06324063e-03 -1.36778784e-03\n",
      "  6.15072667e-04  5.65317476e-03 -7.29296893e-03 -2.06500670e-02\n",
      " -4.39432612e-02  1.37509581e-02  4.46102706e-02  1.36747163e-02\n",
      "  5.25366200e-04 -2.03248032e-03  3.34758994e-04  3.26651991e-04\n",
      "  3.63327043e-04  2.73251814e-05  3.14767298e-05  1.31714716e-04\n",
      " -1.47443211e-05  8.51698421e-05  1.17646139e-04 -3.94552217e-05\n",
      " -1.78501293e-04 -3.06356371e-04 -7.77051204e-05 -6.08756259e-04\n",
      "  6.06742395e-04  1.22493611e-03 -2.85422453e-03 -1.05105306e-02\n",
      "  3.54733502e-02 -2.15862295e-02  1.49482351e-02 -1.43392983e-02\n",
      " -7.93603178e-03 -6.08470643e-04  1.11960883e-03  6.82920141e-04\n",
      " -1.45920844e-04 -6.14535366e-05 -3.22423618e-04  1.02866179e-05\n",
      "  1.25364826e-06  1.54492830e-05 -6.79810504e-06  3.33611963e-05\n",
      "  7.99299043e-05  1.52942673e-04 -2.16674654e-05  1.44828210e-04\n",
      "  4.39631489e-04 -6.44937570e-04 -4.48242123e-04  1.62431820e-03\n",
      " -2.32177712e-03  5.32905926e-03  9.69880505e-03  9.73004829e-03\n",
      "  3.72395206e-03  4.51207799e-03  5.37679701e-05 -1.40772463e-03\n",
      " -8.13258870e-04  3.10959690e-05 -3.10259307e-05  1.01000604e-04\n",
      "  5.60789542e-05 -1.05061674e-04  5.57699222e-06 -1.07815040e-05\n",
      " -6.21853469e-06  3.52752495e-05  3.94408291e-05 -1.08314594e-04\n",
      " -1.93024010e-04  5.93991579e-04  2.33818430e-05 -1.34261539e-03\n",
      "  2.50014312e-03  1.93461293e-03 -1.30927109e-02  1.14384006e-02\n",
      " -1.18120366e-03 -5.16995690e-03 -5.12682115e-03 -1.23196051e-03\n",
      "  1.57270393e-03  9.17659143e-04 -7.73834326e-05 -2.45609012e-04\n",
      "  6.92593144e-05 -1.42487861e-05  4.52113233e-06  1.09621810e-06\n",
      " -7.04710014e-06 -2.19214286e-06 -2.51064249e-06  5.89941782e-06\n",
      "  4.24556431e-05 -3.14450470e-05 -1.05516309e-04  6.44117669e-05\n",
      " -1.96771995e-04 -1.85863475e-04  1.15114447e-03 -1.26832591e-03\n",
      " -2.42272913e-03 -5.01096934e-04  7.08347727e-04  1.91501773e-03\n",
      " -1.01221528e-04 -6.04287181e-04 -5.41129556e-04  4.60591284e-06\n",
      "  2.43179950e-04  8.06836234e-05  1.36490556e-05  1.92563497e-05\n",
      " -6.50139108e-06  7.76277814e-06  1.28959228e-05 -1.77483172e-05\n",
      " -4.98199393e-05  5.37259765e-06  6.56270666e-05  1.66685446e-07\n",
      " -1.23015075e-04  2.06334046e-04 -2.18287642e-04 -5.90264116e-04\n",
      "  6.00344577e-04  3.22283752e-03 -4.44688601e-03 -1.76113107e-03\n",
      "  1.41945777e-03  2.11334752e-03  1.28420952e-03 -2.67703748e-05\n",
      " -1.11717798e-04 -7.76556450e-05  4.07400119e-06 -1.47741689e-05\n",
      " -5.14133616e-06 -7.73486567e-06 -2.49588174e-05 -1.23934416e-05\n",
      "  1.69879635e-05  4.31110036e-05  2.04199507e-05 -8.43993685e-05\n",
      "  9.25337791e-05 -3.69580780e-05 -1.52064618e-04  3.37194270e-04\n",
      "  3.85557519e-04 -2.12794328e-03  2.71379159e-03 -6.57398449e-04\n",
      "  2.99832595e-03 -1.48096962e-03 -2.51968420e-03 -1.88405156e-03\n",
      " -6.08212674e-04  1.23767457e-04 -7.22519050e-06 -7.21243504e-05\n",
      " -1.00333827e-04 -2.91347295e-05 -2.67369674e-07  1.12655057e-05\n",
      "  1.13948474e-05 -1.99997025e-05 -1.87881217e-08  1.07529679e-04\n",
      " -5.71531309e-05 -1.22283400e-04  3.01516629e-04 -4.15250154e-06\n",
      " -6.51335691e-04  1.23972580e-03 -2.46107589e-04 -1.50369888e-03\n",
      "  5.71297509e-05  3.15204513e-03  1.34233238e-03  3.95750861e-04\n",
      "  1.08027882e-04  1.96866782e-04  1.89532921e-04  1.00659114e-05\n",
      " -6.47950937e-05  1.22040001e-05  5.83033946e-05  7.54098399e-06\n",
      "  2.50564044e-05  2.44460489e-05  2.68680344e-06 -3.02386454e-05\n",
      "  1.06994270e-05  6.28677060e-05 -1.63229256e-04  4.19844221e-05\n",
      "  3.69274230e-04 -8.15123074e-04  4.36893888e-05  1.94484740e-03\n",
      " -2.67717919e-03  4.82848628e-04  2.25528359e-04 -8.91389767e-04\n",
      " -4.15884916e-04  2.81476306e-04  8.72389896e-04  8.10159824e-04\n",
      "  4.99936100e-04  2.87724042e-04  1.92545308e-04  7.19459713e-05]\n"
     ]
    }
   ],
   "source": [
    "def reverse_theta_single(m_vec, n_vec, coeff_vec, cosine_sign : bool):\n",
    "    assert coeff_vec.ndim == 1\n",
    "\n",
    "    assert m_vec.shape == n_vec.shape == coeff_vec.shape\n",
    "    # Create a \"key\" for each coefficient: (m, n)\n",
    "    keys = jnp.stack([m_vec, n_vec], axis=1)\n",
    "    \n",
    "    # Create a lookup table: key -> index\n",
    "    # We'll use broadcasting to match (m, -n)\n",
    "    reversed_keys = jnp.stack([m_vec, -n_vec], axis=1)  # target keys\n",
    "    \n",
    "    reversed_keys_mod = jnp.where(keys[:,0:1] > 0, reversed_keys, keys)\n",
    "    \n",
    "    \n",
    "    matches = jnp.all(keys[:, None, :] == reversed_keys_mod[None, :, :], axis=-1)\n",
    "\n",
    "    assert jnp.all(jnp.any(matches, axis=0))\n",
    "    \n",
    "    # For each column in reversed_keys, find row index in keys\n",
    "    idx_map = jnp.argmax(matches, axis=0)\n",
    "    \n",
    "    \n",
    "    # Build new Z_vec: -Z_vec[mapped_index]\n",
    "    new_coeff_vec = jnp.where(cosine_sign, coeff_vec[idx_map], -coeff_vec[idx_map])\n",
    "    \n",
    "    return new_coeff_vec\n",
    "\n",
    "reverse_theta_total  = jax.vmap(reverse_theta_single, in_axes=(None, None, 0, None), out_axes=0)\n",
    "\n",
    "print(reverse_theta_single(fs_jax.data.mpol_vector, fs_jax.data.ntor_vector, fs_jax.data.Zmns[-1,:], False))"
   ]
  },
  {
   "cell_type": "code",
   "execution_count": null,
   "id": "97b83939",
   "metadata": {},
   "outputs": [
    {
     "data": {
      "text/plain": [
       "Array([  0,   3,   6,   9,  12,  15,  18,  21,  24,  27,  30,  33,  36,\n",
       "       -36, -33, -30, -27, -24, -21, -18, -15, -12,  -9,  -6,  -3,   0,\n",
       "         3,   6,   9,  12,  15,  18,  21,  24,  27,  30,  33,  36, -36,\n",
       "       -33, -30, -27, -24, -21, -18, -15, -12,  -9,  -6,  -3,   0,   3,\n",
       "         6,   9,  12,  15,  18,  21,  24,  27,  30,  33,  36, -36, -33,\n",
       "       -30, -27, -24, -21, -18, -15, -12,  -9,  -6,  -3,   0,   3,   6,\n",
       "         9,  12,  15,  18,  21,  24,  27,  30,  33,  36, -36, -33, -30,\n",
       "       -27, -24, -21, -18, -15, -12,  -9,  -6,  -3,   0,   3,   6,   9,\n",
       "        12,  15,  18,  21,  24,  27,  30,  33,  36, -36, -33, -30, -27,\n",
       "       -24, -21, -18, -15, -12,  -9,  -6,  -3,   0,   3,   6,   9,  12,\n",
       "        15,  18,  21,  24,  27,  30,  33,  36, -36, -33, -30, -27, -24,\n",
       "       -21, -18, -15, -12,  -9,  -6,  -3,   0,   3,   6,   9,  12,  15,\n",
       "        18,  21,  24,  27,  30,  33,  36, -36, -33, -30, -27, -24, -21,\n",
       "       -18, -15, -12,  -9,  -6,  -3,   0,   3,   6,   9,  12,  15,  18,\n",
       "        21,  24,  27,  30,  33,  36, -36, -33, -30, -27, -24, -21, -18,\n",
       "       -15, -12,  -9,  -6,  -3,   0,   3,   6,   9,  12,  15,  18,  21,\n",
       "        24,  27,  30,  33,  36, -36, -33, -30, -27, -24, -21, -18, -15,\n",
       "       -12,  -9,  -6,  -3,   0,   3,   6,   9,  12,  15,  18,  21,  24,\n",
       "        27,  30,  33,  36, -36, -33, -30, -27, -24, -21, -18, -15, -12,\n",
       "        -9,  -6,  -3,   0,   3,   6,   9,  12,  15,  18,  21,  24,  27,\n",
       "        30,  33,  36, -36, -33, -30, -27, -24, -21, -18, -15, -12,  -9,\n",
       "        -6,  -3,   0,   3,   6,   9,  12,  15,  18,  21,  24,  27,  30,\n",
       "        33,  36], dtype=int64)"
      ]
     },
     "execution_count": 11,
     "metadata": {},
     "output_type": "execute_result"
    }
   ],
   "source": [
    "fs_jax.data.ntor_vector"
   ]
  },
  {
   "cell_type": "code",
   "execution_count": null,
   "id": "e9cc9e1d",
   "metadata": {},
   "outputs": [
    {
     "data": {
      "text/plain": [
       "(Array([  1,   2,   3,   4,   5,   6,   7,   8,   9,  10,  11,  12,  26,\n",
       "         27,  28,  29,  30,  31,  32,  33,  34,  35,  36,  37,  51,  52,\n",
       "         53,  54,  55,  56,  57,  58,  59,  60,  61,  62,  76,  77,  78,\n",
       "         79,  80,  81,  82,  83,  84,  85,  86,  87, 101, 102, 103, 104,\n",
       "        105, 106, 107, 108, 109, 110, 111, 112, 126, 127, 128, 129, 130,\n",
       "        131, 132, 133, 134, 135, 136, 137, 151, 152, 153, 154, 155, 156,\n",
       "        157, 158, 159, 160, 161, 162, 176, 177, 178, 179, 180, 181, 182,\n",
       "        183, 184, 185, 186, 187, 201, 202, 203, 204, 205, 206, 207, 208,\n",
       "        209, 210, 211, 212, 226, 227, 228, 229, 230, 231, 232, 233, 234,\n",
       "        235, 236, 237, 251, 252, 253, 254, 255, 256, 257, 258, 259, 260,\n",
       "        261, 262, 276, 277, 278, 279, 280, 281, 282, 283, 284, 285, 286,\n",
       "        287], dtype=int64),)"
      ]
     },
     "execution_count": 12,
     "metadata": {},
     "output_type": "execute_result"
    }
   ],
   "source": [
    "jnp.where(fs_jax.data.ntor_vector > 0,  )"
   ]
  },
  {
   "cell_type": "code",
   "execution_count": null,
   "id": "b35296c1",
   "metadata": {},
   "outputs": [
    {
     "ename": "NameError",
     "evalue": "name '_concatenate_meshes' is not defined",
     "output_type": "error",
     "traceback": [
      "\u001b[31m---------------------------------------------------------------------------\u001b[39m",
      "\u001b[31mNameError\u001b[39m                                 Traceback (most recent call last)",
      "\u001b[36mCell\u001b[39m\u001b[36m \u001b[39m\u001b[32mIn[13]\u001b[39m\u001b[32m, line 1\u001b[39m\n\u001b[32m----> \u001b[39m\u001b[32m1\u001b[39m pos_c, c_c = \u001b[43m_concatenate_meshes\u001b[49m(pos_list, conn_list)\n",
      "\u001b[31mNameError\u001b[39m: name '_concatenate_meshes' is not defined"
     ]
    }
   ],
   "source": [
    "pos_c, c_c = _concatenate_meshes(pos_list, conn_list)"
   ]
  },
  {
   "cell_type": "code",
   "execution_count": null,
   "id": "fc850aa5",
   "metadata": {},
   "outputs": [],
   "source": [
    "import meshio \n",
    "\n",
    "meshio.Mesh(pos_c, [(\"triangle\", c_c)]).write(\"ff.stl\")"
   ]
  },
  {
   "cell_type": "code",
   "execution_count": null,
   "id": "2478da82",
   "metadata": {},
   "outputs": [],
   "source": [
    "fs_sbgeom.Mesh_Surfaces_Closed( 0.5, 1.0, 0.0, 0.0, 50,60, 0.0, np.pi).to_meshio().write(\"ff_sbgeom.stl\")"
   ]
  },
  {
   "cell_type": "code",
   "execution_count": null,
   "id": "d7087503",
   "metadata": {},
   "outputs": [],
   "source": [
    "fs_sbgeom.Mesh_Surface(1.0, 0.0, 50, 60, 0.0, np.pi, True).to_meshio().write('ff_sbgeom2.stl')"
   ]
  }
 ],
 "metadata": {
  "kernelspec": {
   "display_name": "stellsim",
   "language": "python",
   "name": "python3"
  },
  "language_info": {
   "codemirror_mode": {
    "name": "ipython",
    "version": 3
   },
   "file_extension": ".py",
   "mimetype": "text/x-python",
   "name": "python",
   "nbconvert_exporter": "python",
   "pygments_lexer": "ipython3",
   "version": "3.12.11"
  }
 },
 "nbformat": 4,
 "nbformat_minor": 5
}
