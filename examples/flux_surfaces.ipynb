{
 "cells": [
  {
   "cell_type": "code",
   "execution_count": 11,
   "id": "24badc7b",
   "metadata": {},
   "outputs": [
    {
     "name": "stdout",
     "output_type": "stream",
     "text": [
      "The autoreload extension is already loaded. To reload it, use:\n",
      "  %reload_ext autoreload\n"
     ]
    }
   ],
   "source": [
    "import jax_sbgeom as jsb\n",
    "%load_ext autoreload\n",
    "%autoreload 2\n",
    "import h5py\n",
    "import jax.numpy as jnp\n",
    "import jax\n",
    "jax.config.update(\"jax_enable_x64\", True)\n",
    "import numpy as onp\n",
    "import sys \n",
    "import os\n",
    "project_root = os.path.abspath(os.path.join(os.getcwd(), \"..\"))\n",
    "sys.path.append(project_root)\n",
    "vmec_file = \"/home/tbogaarts/stellarator_paper/base_data/vmecs/helias4_vmec.nc4\"\n",
    "\n",
    "from jax_sbgeom.flux_surfaces.flux_surfaces_base import _cartesian_position_interpolated_jit, _cylindrical_position_interpolated, _cartesian_position_interpolated_grad, ToroidalExtent\n",
    "from tests.flux_surfaces.flux_surface_base import test_position, _get_flux_surfaces, _sampling_grid, _1d_sampling_grid, test_normals, test_meshing_surface, test_principal_curvatures\n",
    "\n",
    "\n",
    "test_pos          = False\n",
    "test_norm         = False\n",
    "test_meshing_surf = False\n",
    "test_principal_curv  = False\n",
    "if test_pos:\n",
    "    test_position(vmec_file, n_repetitions=10)\n",
    "\n",
    "if test_norm:\n",
    "    test_normals(vmec_file, n_repetitions=10)\n",
    "\n",
    "if test_meshing_surf:\n",
    "    test_meshing_surface(vmec_file, n_repetitions=10)\n",
    "\n",
    "\n",
    "if test_principal_curv:\n",
    "    test_principal_curvatures(vmec_file, n_repetitions=1)"
   ]
  },
  {
   "cell_type": "code",
   "execution_count": 2,
   "id": "d28fe293",
   "metadata": {},
   "outputs": [],
   "source": [
    "def setup_timing_grid(vmec_file, ns, nt, np, include_axis=False):\n",
    "    fs_jax, fs_sbgeom = _get_flux_surfaces(vmec_file)\n",
    "    s,t, p = _sampling_grid(fs_jax, ns, nt, np,  include_axis=include_axis)\n",
    "\n",
    "    return fs_jax, (s,t,p), fs_sbgeom\n",
    "\n",
    "\n",
    "fs_jax, (s,t,p), fs_sbgeom = setup_timing_grid(vmec_file, 50, 50, 50, include_axis=False)"
   ]
  },
  {
   "cell_type": "code",
   "execution_count": 8,
   "id": "bde95adc",
   "metadata": {},
   "outputs": [],
   "source": [
    "from jax_sbgeom.jax_utils import stack_jacfwd\n",
    "from jax_sbgeom.flux_surfaces.flux_surfaces_base import _cartesian_position_interpolated_grad_grad, _principal_curvatures_interpolated\n",
    "\n",
    "\n"
   ]
  },
  {
   "cell_type": "code",
   "execution_count": 9,
   "id": "d5ae900f",
   "metadata": {},
   "outputs": [
    {
     "data": {
      "text/plain": [
       "(10, 3, 2, 2)"
      ]
     },
     "execution_count": 9,
     "metadata": {},
     "output_type": "execute_result"
    }
   ],
   "source": [
    "_cartesian_position_interpolated_grad_grad(fs_jax.data, fs_jax.settings, 1.0, jnp.linspace(0,1,10), jnp.linspace(0,2*jnp.pi,10)).shape"
   ]
  },
  {
   "cell_type": "code",
   "execution_count": 36,
   "id": "35643d9c",
   "metadata": {},
   "outputs": [
    {
     "name": "stdout",
     "output_type": "stream",
     "text": [
      "(3,) ()\n"
     ]
    },
    {
     "data": {
      "text/plain": [
       "Array([0.08616126, 0.32103396], dtype=float64)"
      ]
     },
     "execution_count": 36,
     "metadata": {},
     "output_type": "execute_result"
    }
   ],
   "source": [
    "_principal_curvatures_interpolated(fs_jax.data, fs_jax.settings, 1.0, 0.5,jnp.array(0.3, ))"
   ]
  },
  {
   "cell_type": "code",
   "execution_count": 29,
   "id": "41f2661f",
   "metadata": {},
   "outputs": [
    {
     "data": {
      "text/plain": [
       "array([0.08616126, 0.32103396])"
      ]
     },
     "execution_count": 29,
     "metadata": {},
     "output_type": "execute_result"
    }
   ],
   "source": [
    "fs_sbgeom.Return_Principal_Curvatures(1.0, 0.0, 0.5, 0.3)"
   ]
  }
 ],
 "metadata": {
  "kernelspec": {
   "display_name": "stellsim",
   "language": "python",
   "name": "python3"
  },
  "language_info": {
   "codemirror_mode": {
    "name": "ipython",
    "version": 3
   },
   "file_extension": ".py",
   "mimetype": "text/x-python",
   "name": "python",
   "nbconvert_exporter": "python",
   "pygments_lexer": "ipython3",
   "version": "3.12.11"
  }
 },
 "nbformat": 4,
 "nbformat_minor": 5
}
