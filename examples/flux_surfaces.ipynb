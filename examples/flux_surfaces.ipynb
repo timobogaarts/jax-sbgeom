{
 "cells": [
  {
   "cell_type": "code",
   "execution_count": 1,
   "id": "24badc7b",
   "metadata": {},
   "outputs": [
    {
     "name": "stdout",
     "output_type": "stream",
     "text": [
      "Triangle Elements not compiled\n"
     ]
    }
   ],
   "source": [
    "import jax_sbgeom as jsb\n",
    "%load_ext autoreload\n",
    "%autoreload 2\n",
    "import h5py\n",
    "import jax.numpy as jnp\n",
    "import jax\n",
    "jax.config.update(\"jax_enable_x64\", True)\n",
    "import numpy as onp\n",
    "import sys \n",
    "import os\n",
    "\n",
    "project_root = os.path.abspath(os.path.join(os.getcwd(), \"..\"))\n",
    "sys.path.append(project_root)\n",
    "vmec_files = [\"/home/tbogaarts/stellarator_paper/base_data/vmecs/helias3_vmec.nc4\", \"/home/tbogaarts/stellarator_paper/base_data/vmecs/helias5_vmec.nc4\", \"/home/tbogaarts/stellarator_paper/base_data/vmecs/squid_vmec.nc4\"]\n",
    "\n",
    "vmec_file = vmec_files[1]\n",
    "import StellBlanket.SBGeom as SBGeom\n",
    "from functools import partial\n",
    "from jax_sbgeom.flux_surfaces.flux_surfaces_base import ToroidalExtent, _cylindrical_position_interpolated, _interpolate_array\n",
    "from jax_sbgeom.flux_surfaces.flux_surfaces_extended import FluxSurfaceNormalExtended\n",
    "#from jax_sbgeom.flux_surfaces.flux_surface_meshing import _mesh_watertight_surfaces_connectivity\n",
    "from tests.flux_surfaces.test_flux_surface_base import test_position, _mesh_to_pyvista_mesh, test_watertight_surfaces, _check_vectorized\n",
    "import jax_sbgeom.flux_surfaces.flux_surface_meshing as fsm\n",
    "import pyvista as pv\n",
    "from dataclasses import dataclass"
   ]
  },
  {
   "cell_type": "code",
   "execution_count": 2,
   "id": "d28fe293",
   "metadata": {},
   "outputs": [],
   "source": [
    "def _get_flux_surfaces(vmec_file):\n",
    "    fs_jax    = jsb.flux_surfaces.FluxSurface.from_hdf5(vmec_file)\n",
    "    fs_sbgeom = SBGeom.VMEC.Flux_Surfaces_From_HDF5(vmec_file)\n",
    "    return fs_jax, fs_sbgeom\n",
    "\n",
    "\n",
    "\n",
    "def _get_extended_flux_surfaces(vmec_file):    \n",
    "    fs_jax    = jsb.flux_surfaces.FluxSurfaceNormalExtended.from_hdf5(vmec_file)\n",
    "    fs_sbgeom = SBGeom.Flux_Surfaces_Normal_Extended(SBGeom.VMEC.Flux_Surfaces_From_HDF5(vmec_file))\n",
    "    return fs_jax, fs_sbgeom\n",
    "fs_jax, fs_sbgeom = _get_extended_flux_surfaces(vmec_file)  # just to compile"
   ]
  },
  {
   "cell_type": "code",
   "execution_count": 3,
   "id": "33ccde9a",
   "metadata": {},
   "outputs": [
    {
     "data": {
      "text/plain": [
       "Array([[[ 23.34255765,  -0.04975456,   3.54180509],\n",
       "        [ -0.08825212,  21.91470157,   3.75062059],\n",
       "        [-21.46185664,  -0.11860545,   1.76577635],\n",
       "        [ -0.0501968 , -23.13289925,   1.65464056],\n",
       "        [ 23.34255765,  -0.04975456,   3.54180509]],\n",
       "\n",
       "       [[ 23.0713958 ,  -0.08611057,   3.60067526],\n",
       "        [ -0.07539242,  21.66266275,   3.85208243],\n",
       "        [-21.21780272,  -0.13108573,   1.87432829],\n",
       "        [ -0.04671122, -23.02121853,   1.55113451],\n",
       "        [ 23.0713958 ,  -0.08611057,   3.60067526]]], dtype=float64)"
      ]
     },
     "execution_count": 3,
     "metadata": {},
     "output_type": "execute_result"
    }
   ],
   "source": [
    "ss, tt = jnp.meshgrid(jnp.array([1.5, 1.6]), jnp.linspace(0, 2 * jnp.pi, 5), indexing='ij')\n",
    "fs_jax.cartesian_position(1.5, ss, tt)"
   ]
  },
  {
   "cell_type": "code",
   "execution_count": 7,
   "id": "842ac208",
   "metadata": {},
   "outputs": [
    {
     "name": "stdout",
     "output_type": "stream",
     "text": [
      "[[[ 0.03936199  1.01773538]\n",
      "  [ 0.05314682  0.50113663]\n",
      "  [-0.13579406  0.06603556]\n",
      "  [-0.49497958 -0.03873364]\n",
      "  [ 0.03936199  1.01773538]]\n",
      "\n",
      " [[ 0.02356461  1.33404579]\n",
      "  [ 0.05116669  0.72522694]\n",
      "  [-0.08582024  0.11588139]\n",
      "  [-0.4978989  -0.04412146]\n",
      "  [ 0.02356461  1.33404579]]]\n",
      "[[[ 0.04015222  2.07222241]\n",
      "  [ 0.05459766  0.66868888]\n",
      "  [-0.12716026  0.06829036]\n",
      "  [-0.39678046 -0.03799775]\n",
      "  [ 0.04015222  2.07222241]]\n",
      "\n",
      " [[ 0.02384557  4.00641898]\n",
      "  [ 0.05251007  1.13781341]\n",
      "  [-0.0822892   0.12300859]\n",
      "  [-0.39865417 -0.04316912]\n",
      "  [ 0.02384557  4.00641898]]]\n"
     ]
    },
    {
     "data": {
      "text/plain": [
       "Array([[[ 0.03936199,  1.01773538],\n",
       "        [ 0.05314682,  0.50113663],\n",
       "        [-0.13579406,  0.06603556],\n",
       "        [-0.49497958, -0.03873364],\n",
       "        [ 0.03936199,  1.01773538]],\n",
       "\n",
       "       [[ 0.02356461,  1.33404579],\n",
       "        [ 0.05116669,  0.72522694],\n",
       "        [-0.08582024,  0.11588139],\n",
       "        [-0.4978989 , -0.04412146],\n",
       "        [ 0.02356461,  1.33404579]]], dtype=float64)"
      ]
     },
     "execution_count": 7,
     "metadata": {},
     "output_type": "execute_result"
    }
   ],
   "source": [
    "from jax_sbgeom.flux_surfaces.flux_surfaces_extended import FluxSurfaceNormalExtended, _normal_extended_principal_curvatures, _normal_extended_principal_curvatures_jit\n",
    "_normal_extended_principal_curvatures(fs_jax.data, fs_jax.settings, 1.5, ss, tt)"
   ]
  },
  {
   "cell_type": "code",
   "execution_count": 8,
   "id": "42368885",
   "metadata": {},
   "outputs": [
    {
     "data": {
      "text/plain": [
       "Array([[[ 23.34255765,  -0.04975456,   3.54180509],\n",
       "        [ -0.08825212,  21.91470157,   3.75062059],\n",
       "        [-21.46185664,  -0.11860545,   1.76577635],\n",
       "        [ -0.0501968 , -23.13289925,   1.65464056],\n",
       "        [ 23.34255765,  -0.04975456,   3.54180509]],\n",
       "\n",
       "       [[ 23.0713958 ,  -0.08611057,   3.60067526],\n",
       "        [ -0.07539242,  21.66266275,   3.85208243],\n",
       "        [-21.21780272,  -0.13108573,   1.87432829],\n",
       "        [ -0.04671122, -23.02121853,   1.55113451],\n",
       "        [ 23.0713958 ,  -0.08611057,   3.60067526]]], dtype=float64)"
      ]
     },
     "execution_count": 8,
     "metadata": {},
     "output_type": "execute_result"
    }
   ],
   "source": [
    "fs_jax.cartesian_position(1.5, ss, tt)"
   ]
  },
  {
   "cell_type": "code",
   "execution_count": null,
   "id": "6c2c2af1",
   "metadata": {},
   "outputs": [
    {
     "name": "stdout",
     "output_type": "stream",
     "text": [
      "JitTracer<float64[2,5,2]>\n"
     ]
    },
    {
     "data": {
      "text/plain": [
       "Array([[[ 0.03936199,  1.01773538],\n",
       "        [ 0.05314682,  0.50113663],\n",
       "        [-0.13579406,  0.06603556],\n",
       "        [-0.49497958, -0.03873364],\n",
       "        [ 0.03936199,  1.01773538]],\n",
       "\n",
       "       [[ 0.02356461,  1.33404579],\n",
       "        [ 0.05116669,  0.72522694],\n",
       "        [-0.08582024,  0.11588139],\n",
       "        [-0.4978989 , -0.04412146],\n",
       "        [ 0.02356461,  1.33404579]]], dtype=float64)"
      ]
     },
     "execution_count": 29,
     "metadata": {},
     "output_type": "execute_result"
    }
   ],
   "source": [
    "fs_jax.principal_curvatures(1.5, ss, tt)"
   ]
  }
 ],
 "metadata": {
  "kernelspec": {
   "display_name": "stellsim",
   "language": "python",
   "name": "python3"
  },
  "language_info": {
   "codemirror_mode": {
    "name": "ipython",
    "version": 3
   },
   "file_extension": ".py",
   "mimetype": "text/x-python",
   "name": "python",
   "nbconvert_exporter": "python",
   "pygments_lexer": "ipython3",
   "version": "3.12.11"
  }
 },
 "nbformat": 4,
 "nbformat_minor": 5
}
