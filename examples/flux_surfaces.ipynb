{
 "cells": [
  {
   "cell_type": "code",
   "execution_count": 1,
   "id": "24badc7b",
   "metadata": {},
   "outputs": [
    {
     "name": "stdout",
     "output_type": "stream",
     "text": [
      "Triangle Elements not compiled\n"
     ]
    }
   ],
   "source": [
    "# import os\n",
    "# os.environ[\"JAX_PLATFORM_NAME\"] = \"cpu\"\n",
    "\n",
    "import jax_sbgeom as jsb\n",
    "%load_ext autoreload\n",
    "%autoreload 2\n",
    "import jax.numpy as jnp\n",
    "import jax\n",
    "jax.config.update(\"jax_enable_x64\", True)\n",
    "import numpy as onp\n",
    "import sys \n",
    "import os\n",
    "\n",
    "project_root = os.path.abspath(os.path.join(os.getcwd(), \"..\"))\n",
    "sys.path.append(project_root)\n",
    "\n",
    "import StellBlanket.SBGeom as SBGeom\n",
    "from functools import partial\n",
    "import jax_sbgeom.flux_surfaces.flux_surface_meshing as fsm\n",
    "import jax_sbgeom.flux_surfaces.flux_surfaces_base as fsb\n",
    "import jax_sbgeom.flux_surfaces.flux_surfaces_extended as fse\n",
    "import pyvista as pv\n",
    "from dataclasses import dataclass\n",
    "\n",
    "\n",
    "vmec_files = [\"/home/tbogaarts/stellarator_paper/base_data/vmecs/helias3_vmec.nc4\", \"/home/tbogaarts/stellarator_paper/base_data/vmecs/helias5_vmec.nc4\", \"/home/tbogaarts/stellarator_paper/base_data/vmecs/squid_vmec.nc4\"]\n",
    "vmec_file = vmec_files[1]"
   ]
  },
  {
   "cell_type": "code",
   "execution_count": 2,
   "id": "d28fe293",
   "metadata": {},
   "outputs": [],
   "source": [
    "def _get_flux_surfaces(vmec_file):\n",
    "    fs_jax    = jsb.flux_surfaces.FluxSurface.from_hdf5(vmec_file)\n",
    "    fs_sbgeom = SBGeom.VMEC.Flux_Surfaces_From_HDF5(vmec_file)\n",
    "    return fs_jax, fs_sbgeom\n",
    "\n",
    "def _get_extended_flux_surfaces(vmec_file):    \n",
    "    fs_jax    = jsb.flux_surfaces.FluxSurfaceNormalExtended.from_hdf5(vmec_file)\n",
    "    fs_sbgeom = SBGeom.Flux_Surfaces_Normal_Extended(SBGeom.VMEC.Flux_Surfaces_From_HDF5(vmec_file))\n",
    "    return fs_jax, fs_sbgeom\n",
    "\n",
    "def _get_extended_no_phi_flux_surfaces(vmec_file):    \n",
    "    fs_jax    = jsb.flux_surfaces.FluxSurfaceNormalExtendedNoPhi.from_hdf5(vmec_file)\n",
    "    fs_sbgeom = SBGeom.Flux_Surfaces_Normal_Extended_No_Phi(SBGeom.VMEC.Flux_Surfaces_From_HDF5(vmec_file))\n",
    "    return fs_jax, fs_sbgeom\n",
    "\n",
    "def _get_extended_constant_phi_flux_surfaces(vmec_file):    \n",
    "    fs_jax    = jsb.flux_surfaces.FluxSurfaceNormalExtendedConstantPhi.from_hdf5(vmec_file)\n",
    "    fs_sbgeom = SBGeom.Flux_Surfaces_Normal_Extended_Constant_Phi(SBGeom.VMEC.Flux_Surfaces_From_HDF5(vmec_file))\n",
    "    return fs_jax, fs_sbgeom\n",
    "\n",
    "fs_jax, fs_sbgeom = _get_extended_constant_phi_flux_surfaces(vmec_file)  # just to compile\n",
    "fs_jax, fs_sbgeom = _get_extended_no_phi_flux_surfaces(vmec_file)  # just to compile\n"
   ]
  },
  {
   "cell_type": "code",
   "execution_count": 3,
   "id": "b44012f8",
   "metadata": {},
   "outputs": [],
   "source": [
    "### We are going to fit RZ points to VMEC"
   ]
  },
  {
   "cell_type": "code",
   "execution_count": 4,
   "id": "ebe193aa",
   "metadata": {},
   "outputs": [],
   "source": [
    "d_total = 0.0\n",
    "n_theta = 50\n",
    "n_phi   = 60\n",
    "symm = fs_jax.settings.nfp\n",
    "\n",
    "theta = jnp.linspace(0, 2*jnp.pi, n_theta, endpoint=False)\n",
    "phi   = jnp.linspace(0, 2*jnp.pi / symm, n_phi, endpoint=False)\n",
    "\n",
    "theta_mg, phi_mg = jnp.meshgrid(theta, phi, indexing='ij')"
   ]
  },
  {
   "cell_type": "code",
   "execution_count": 5,
   "id": "e9648e45",
   "metadata": {},
   "outputs": [],
   "source": [
    "positions_jax = fs_jax.cylindrical_position(1.0 + d_total, theta_mg, phi_mg)"
   ]
  },
  {
   "cell_type": "code",
   "execution_count": 6,
   "id": "68dd9b7f",
   "metadata": {},
   "outputs": [],
   "source": [
    "positions_cart_sbg = fs_sbgeom.Return_Position(onp.ones_like(theta_mg).ravel(), onp.ones_like(theta_mg).ravel() * d_total, onp.array(theta_mg.ravel()), onp.array(phi_mg.ravel())).reshape(positions_jax.shape)\n",
    "\n",
    "\n",
    "Rsbg = onp.sqrt(positions_cart_sbg[...,0]**2 + positions_cart_sbg[...,1]**2)\n",
    "Zsbg = positions_cart_sbg[...,2]\n",
    "phisb = onp.arctan2(positions_cart_sbg[...,1], positions_cart_sbg[...,0])\n"
   ]
  },
  {
   "cell_type": "code",
   "execution_count": 7,
   "id": "b1cb99ce",
   "metadata": {},
   "outputs": [],
   "source": [
    "RSampling, ZSampling, phisampling, uu, vv = SBGeom.VMEC.Get_Sampling_Curve(fs_sbgeom, n_theta, n_phi, d_total)"
   ]
  },
  {
   "cell_type": "code",
   "execution_count": 10,
   "id": "76c6fcb8",
   "metadata": {},
   "outputs": [
    {
     "name": "stdout",
     "output_type": "stream",
     "text": [
      "12\n",
      "12\n",
      "12.0\n",
      "(23, 25) (23, 25)\n",
      "(288,)\n"
     ]
    }
   ],
   "source": [
    "\n",
    "def test_RZ_to_VMEC_lcfs(_get_flux_surfaces):\n",
    "    fs_jax, fs_sbgeom = _get_flux_surfaces\n",
    "\n",
    "    mpol_max = int(fs_jax.settings.mpol)\n",
    "    print(mpol_max)\n",
    "    \n",
    "    ntor_max = int(fs_jax.settings.ntor)\n",
    "    print(ntor_max)\n",
    "    mpol_max = int(jnp.max(jnp.abs(fs_jax.data.mpol_vector)))\n",
    "    print(jnp.max(jnp.abs(fs_jax.data.ntor_vector)) / fs_jax.settings.nfp)\n",
    "\n",
    "    n_theta = mpol_max * 2 +1# just above nyquist\n",
    "    n_phi   = ntor_max * 2  + 1 # just above nyquist\n",
    "\n",
    "    sampling_r, sampling_z = jsb.flux_surfaces.convert_to_VMEC._create_sampling_rz(fs_jax, 1.0, n_theta, n_phi)\n",
    "    print(sampling_r.shape, sampling_z.shape)\n",
    "\n",
    "    Rmnc, Zmns             = jsb.flux_surfaces.convert_to_VMEC._rz_to_vmec_representation(sampling_r, sampling_z)\n",
    "    print(Rmnc.shape)\n",
    "\n",
    "    onp.testing.assert_allclose(Rmnc, fs_jax.data.Rmnc[-1,:], rtol=1e-12, atol=1e-12)\n",
    "    onp.testing.assert_allclose(Zmns, fs_jax.data.Zmns[-1,:], rtol=1e-12, atol=1e-12)\n",
    "\n",
    "test_RZ_to_VMEC_lcfs((fs_jax, fs_sbgeom))"
   ]
  }
 ],
 "metadata": {
  "kernelspec": {
   "display_name": "jaxsbgeom",
   "language": "python",
   "name": "python3"
  },
  "language_info": {
   "codemirror_mode": {
    "name": "ipython",
    "version": 3
   },
   "file_extension": ".py",
   "mimetype": "text/x-python",
   "name": "python",
   "nbconvert_exporter": "python",
   "pygments_lexer": "ipython3",
   "version": "3.12.12"
  }
 },
 "nbformat": 4,
 "nbformat_minor": 5
}
