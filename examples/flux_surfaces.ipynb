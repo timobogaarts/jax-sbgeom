{
 "cells": [
  {
   "cell_type": "code",
   "execution_count": null,
   "id": "24badc7b",
   "metadata": {},
   "outputs": [],
   "source": [
    "import jax_sbgeom as jsb\n",
    "%load_ext autoreload\n",
    "%autoreload 2\n",
    "import h5py\n",
    "import jax.numpy as jnp\n",
    "import jax\n",
    "jax.config.update(\"jax_enable_x64\", True)"
   ]
  },
  {
   "cell_type": "code",
   "execution_count": null,
   "id": "556b66d2",
   "metadata": {},
   "outputs": [],
   "source": [
    "vmec_file = \"/home/tbogaarts/stellarator_paper/base_data/vmecs/helias5_vmec.nc4\"\n",
    "helias5 = jsb.flux_surfaces.FluxSurface.from_hdf5(vmec_file)"
   ]
  },
  {
   "cell_type": "code",
   "execution_count": null,
   "id": "dfb19ac1",
   "metadata": {},
   "outputs": [],
   "source": [
    "\n",
    "ss, tt, pp = jnp.meshgrid(jnp.linspace(0, 1, 20), jnp.linspace(0, 2 * jnp.pi, 30), jnp.linspace(0, 2 * jnp.pi /10, 40), indexing='ij')\n",
    "\n",
    "f_normal = helias5.position(ss, tt, pp)\n"
   ]
  },
  {
   "cell_type": "code",
   "execution_count": null,
   "id": "e8f5364a",
   "metadata": {},
   "outputs": [],
   "source": [
    "fnp2 = np.array(helias5.cartesian_position(ss, tt, pp)).reshape(-1, 3)"
   ]
  },
  {
   "cell_type": "code",
   "execution_count": null,
   "id": "379b7129",
   "metadata": {},
   "outputs": [],
   "source": [
    "import numpy as np\n",
    "fx  = f_normal[..., 0]  * np.cos(f_normal[..., 2])\n",
    "fy  = f_normal[..., 0]  * np.sin(f_normal[..., 2])\n",
    "fz  = f_normal[..., 1]\n",
    "\n",
    "fnp = np.stack([fx, fy, fz], axis=-1).reshape(-1, 3)"
   ]
  },
  {
   "cell_type": "code",
   "execution_count": null,
   "id": "ef00a222",
   "metadata": {},
   "outputs": [],
   "source": [
    "import pyvista as pv"
   ]
  },
  {
   "cell_type": "code",
   "execution_count": null,
   "id": "40ef8368",
   "metadata": {},
   "outputs": [],
   "source": [
    "plotter = pv.Plotter()  \n",
    "plotter.add_mesh(pv.PolyData(fnp2), color='lightblue', show_edges=True, opacity=0.5)\n",
    "plotter.show()"
   ]
  },
  {
   "cell_type": "code",
   "execution_count": null,
   "id": "b027058e",
   "metadata": {},
   "outputs": [],
   "source": [
    "import StellBlanket.SBGeom as SBGeom\n",
    "import numpy as np\n",
    "\n",
    "fs_old = SBGeom.VMEC.Flux_Surfaces_From_HDF5(vmec_file)\n",
    "\n",
    "s_new = np.array(s *  jnp.ones_like(tt).ravel())\n",
    "d_new = np.array(jnp.zeros_like(tt).ravel())\n",
    "p_new = np.array(pp.ravel())\n",
    "t_new = np.array(tt.ravel())\n",
    "\n",
    "f_new = fs_old.Return_Position(s_new, d_new, t_new, p_new).reshape(tt.shape + (3,))\n",
    "\n",
    "f_new_R = jnp.sqrt(f_new[..., 0]**2 + f_new[..., 1]**2)\n",
    "f_new_Z = f_new[..., 2]\n",
    "f_new_phi = (jnp.arctan2(f_new[..., 1], f_new[..., 0]) + 2 * jnp.pi) % (2 *jnp.pi)\n",
    "\n",
    "f_total_new = jnp.stack([f_new_R, f_new_Z, f_new_phi], axis=-1)\n",
    "\n",
    "print(f_normal - f_total_new)"
   ]
  }
 ],
 "metadata": {
  "kernelspec": {
   "display_name": "stellsim",
   "language": "python",
   "name": "python3"
  },
  "language_info": {
   "codemirror_mode": {
    "name": "ipython",
    "version": 3
   },
   "file_extension": ".py",
   "mimetype": "text/x-python",
   "name": "python",
   "nbconvert_exporter": "python",
   "pygments_lexer": "ipython3",
   "version": "3.12.11"
  }
 },
 "nbformat": 4,
 "nbformat_minor": 5
}
