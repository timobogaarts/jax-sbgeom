{
 "cells": [
  {
   "cell_type": "code",
   "execution_count": null,
   "id": "24badc7b",
   "metadata": {},
   "outputs": [],
   "source": [
    "import jax_sbgeom as jsb\n",
    "%load_ext autoreload\n",
    "%autoreload 2\n",
    "import h5py\n",
    "import jax.numpy as jnp\n",
    "import jax\n",
    "jax.config.update(\"jax_enable_x64\", True)\n",
    "import numpy as onp\n",
    "import sys \n",
    "import os\n",
    "\n",
    "project_root = os.path.abspath(os.path.join(os.getcwd(), \"..\"))\n",
    "sys.path.append(project_root)\n",
    "vmec_files = [\"/home/tbogaarts/stellarator_paper/base_data/vmecs/helias3_vmec.nc4\", \"/home/tbogaarts/stellarator_paper/base_data/vmecs/helias5_vmec.nc4\", \"/home/tbogaarts/stellarator_paper/base_data/vmecs/squid_vmec.nc4\"]\n",
    "\n",
    "vmec_file = vmec_files[1]\n",
    "import StellBlanket.SBGeom as SBGeom\n",
    "from jax_sbgeom.flux_surfaces.flux_surfaces_base import _cartesian_position_interpolated_jit, _cylindrical_position_interpolated, _cartesian_position_interpolated_grad, ToroidalExtent, FluxSurface, FluxSurfaceData\n",
    "from jax_sbgeom.flux_surfaces.flux_surface_meshing import _volume_of_mesh\n",
    "from tests.flux_surfaces.flux_surface_base import test_position, _get_flux_surfaces, _sampling_grid, _1d_sampling_grid, test_normals, test_meshing_surface, test_principal_curvatures, _get_all_closed_surfaces, test_all_closed_surfaces, _mesh_to_pyvista_mesh, test_volumes\n",
    "import pyvista as pv"
   ]
  },
  {
   "cell_type": "code",
   "execution_count": null,
   "id": "d28fe293",
   "metadata": {},
   "outputs": [],
   "source": [
    "def _get_flux_surfaces(vmec_file):\n",
    "    fs_jax    = jsb.flux_surfaces.FluxSurface.from_hdf5(vmec_file)\n",
    "    fs_sbgeom = SBGeom.VMEC.Flux_Surfaces_From_HDF5(vmec_file)\n",
    "    return fs_jax, fs_sbgeom\n",
    "\n",
    "fs_jax, fs_sbgeom = _get_flux_surfaces(vmec_file)  # just to compile"
   ]
  },
  {
   "cell_type": "code",
   "execution_count": null,
   "id": "926d710a",
   "metadata": {},
   "outputs": [],
   "source": [
    "mesh = jsb.flux_surfaces.mesh_surface(fs_jax, 1.0, ToroidalExtent.full(), 100, 150)"
   ]
  },
  {
   "cell_type": "code",
   "execution_count": null,
   "id": "b40c7199",
   "metadata": {},
   "outputs": [],
   "source": [
    "@jax.jit\n",
    "def Rmnc_Zmns_wrapper(Rmnc, Zmns, flux_surface):\n",
    "    data_old = flux_surface.data\n",
    "    fs_new = FluxSurface(FluxSurfaceData(Rmnc, Zmns, data_old.mpol_vector, data_old.ntor_vector), flux_surface.settings)\n",
    "    return fs_new\n",
    "\n",
    "\n",
    "def Volume_Rmnc_Zmns_wrapper(Rmnc, Zmns, flux_surface):\n",
    "    fs_new = Rmnc_Zmns_wrapper(Rmnc, Zmns, flux_surface)\n",
    "    points, connectivity = jsb.flux_surfaces.flux_surface_meshing._mesh_surface(fs_new, 1.0, 0.0, 2 * jnp.pi, True, 600, 600, True)\n",
    "    volume = _volume_of_mesh(points, connectivity)\n",
    "    return volume\n",
    "\n",
    "def scaling_factor_wrapper(scaling , flux_surface):\n",
    "    Rmnc_new = flux_surface.data.Rmnc * scaling\n",
    "    Zmns_new = flux_surface.data.Zmns * scaling\n",
    "    return Volume_Rmnc_Zmns_wrapper(Rmnc_new, Zmns_new, flux_surface)\n",
    "\n",
    "\n",
    "print(scaling_factor_wrapper(1.0, fs_jax))\n",
    "print(scaling_factor_wrapper(2.0, fs_jax))"
   ]
  },
  {
   "cell_type": "code",
   "execution_count": null,
   "id": "56328c6e",
   "metadata": {},
   "outputs": [],
   "source": [
    "test_volumes(vmec_file, n_repetitions=10)"
   ]
  },
  {
   "cell_type": "code",
   "execution_count": null,
   "id": "bfb9727f",
   "metadata": {},
   "outputs": [],
   "source": [
    "from jax_sbgeom.flux_surfaces.flux_surfaces_base import _cylindrical_position_interpolated, _cylindrical_position_interpolated_grad, FluxSurfaceSettings, _cartesian_position_interpolated_grad, _normal_interpolated_jit, _dx_dphi_cross_dx_dtheta\n"
   ]
  },
  {
   "cell_type": "code",
   "execution_count": null,
   "id": "64f59133",
   "metadata": {},
   "outputs": [],
   "source": [
    "volumes_f = jax.jit(jax.vmap(scaling_factor_wrapper, in_axes=(0, None)))"
   ]
  },
  {
   "cell_type": "code",
   "execution_count": null,
   "id": "21d07f8b",
   "metadata": {},
   "outputs": [],
   "source": [
    "scaling_factor  = jnp.linspace(0.1, 5.0, 1000)\n",
    "volumes_scaling = volumes_f(scaling_factor, fs_jax)"
   ]
  },
  {
   "cell_type": "code",
   "execution_count": null,
   "id": "87136985",
   "metadata": {},
   "outputs": [],
   "source": [
    "%timeit volumes_f(scaling_factor, fs_jax).block_until_ready()"
   ]
  },
  {
   "cell_type": "code",
   "execution_count": null,
   "id": "35719b31",
   "metadata": {},
   "outputs": [],
   "source": [
    "import matplotlib.pyplot as plt\n",
    "plt.plot(scaling_factor, volumes_scaling)\n",
    "plt.plot(scaling_factor, volumes_scaling[0] * (scaling_factor / 0.1)**3 )\n",
    "\n",
    "print(volumes_scaling, volumes_scaling[0] * (scaling_factor / 0.1)**3 )\n",
    "\n",
    "plt.xlabel(\"Scaling Factor\")\n",
    "plt.ylabel(\"Volume [m^3]\")\n",
    "\n"
   ]
  },
  {
   "cell_type": "code",
   "execution_count": null,
   "id": "fffb8971",
   "metadata": {},
   "outputs": [],
   "source": [
    "Rmnc_2 = fs_jax.data.Rmnc \n",
    "Rmnc_3 = Rmnc_2.at[-1,1].add(1e-5)"
   ]
  },
  {
   "cell_type": "code",
   "execution_count": null,
   "id": "3267f89a",
   "metadata": {},
   "outputs": [],
   "source": [
    "(Volume_Rmnc_wrapper(Rmnc_3, fs_jax) - Volume_Rmnc_wrapper(Rmnc_2, fs_jax)) / 1e-5"
   ]
  },
  {
   "cell_type": "code",
   "execution_count": null,
   "id": "8725d7aa",
   "metadata": {},
   "outputs": [],
   "source": [
    "volume_grad = jax.grad(Volume_Rmnc_wrapper, argnums=0)\n",
    "\n",
    "volume_grad(fs_jax.data.Rmnc, fs_jax)"
   ]
  },
  {
   "cell_type": "code",
   "execution_count": null,
   "id": "4d61aafc",
   "metadata": {},
   "outputs": [],
   "source": [
    "%timeit ree(fs_jax).block_until_ready()"
   ]
  },
  {
   "cell_type": "code",
   "execution_count": null,
   "id": "7d5ab95b",
   "metadata": {},
   "outputs": [],
   "source": [
    "%timeit volume_grad(fs_jax.data.Rmnc, fs_jax, 0.1, 0.2).block_until_ready()"
   ]
  },
  {
   "cell_type": "code",
   "execution_count": null,
   "id": "f55613e8",
   "metadata": {},
   "outputs": [],
   "source": [
    "%timeit Volume_Rmnc_wrapper(fs_jax.data.Rmnc, fs_jax).block_until_ready()"
   ]
  },
  {
   "cell_type": "code",
   "execution_count": null,
   "id": "4fe1b489",
   "metadata": {},
   "outputs": [],
   "source": [
    "points, connectivity = mesh\n",
    "\n",
    "mesh_pv = _mesh_to_pyvista_mesh(points, connectivity)\n",
    "\n",
    "print(mesh_pv.volume)\n",
    "_volume_of_mesh(*mesh)\n"
   ]
  }
 ],
 "metadata": {
  "kernelspec": {
   "display_name": "stellsim",
   "language": "python",
   "name": "python3"
  },
  "language_info": {
   "codemirror_mode": {
    "name": "ipython",
    "version": 3
   },
   "file_extension": ".py",
   "mimetype": "text/x-python",
   "name": "python",
   "nbconvert_exporter": "python",
   "pygments_lexer": "ipython3",
   "version": "3.12.11"
  }
 },
 "nbformat": 4,
 "nbformat_minor": 5
}
