{
 "cells": [
  {
   "cell_type": "code",
   "execution_count": null,
   "id": "24badc7b",
   "metadata": {},
   "outputs": [],
   "source": [
    "# import os\n",
    "# os.environ[\"JAX_PLATFORM_NAME\"] = \"cpu\"\n",
    "\n",
    "import jax_sbgeom as jsb\n",
    "%load_ext autoreload\n",
    "%autoreload 2\n",
    "import jax.numpy as jnp\n",
    "import jax\n",
    "jax.config.update(\"jax_enable_x64\", True)\n",
    "import numpy as onp\n",
    "import sys \n",
    "import os\n",
    "\n",
    "project_root = os.path.abspath(os.path.join(os.getcwd(), \"..\"))\n",
    "sys.path.append(project_root)\n",
    "\n",
    "import StellBlanket.SBGeom as SBGeom\n",
    "from functools import partial\n",
    "import jax_sbgeom.flux_surfaces.flux_surface_meshing as fsm\n",
    "import jax_sbgeom.flux_surfaces.flux_surfaces_base as fsb\n",
    "import jax_sbgeom.flux_surfaces.flux_surfaces_extended as fse\n",
    "import pyvista as pv\n",
    "from dataclasses import dataclass\n",
    "\n",
    "\n",
    "vmec_files = [\"/home/tbogaarts/stellarator_paper/base_data/vmecs/helias3_vmec.nc4\", \"/home/tbogaarts/stellarator_paper/base_data/vmecs/helias5_vmec.nc4\", \"/home/tbogaarts/stellarator_paper/base_data/vmecs/squid_vmec.nc4\"]\n",
    "vmec_file = vmec_files[1]"
   ]
  },
  {
   "cell_type": "code",
   "execution_count": null,
   "id": "d28fe293",
   "metadata": {},
   "outputs": [],
   "source": [
    "def _get_flux_surfaces(vmec_file):\n",
    "    fs_jax    = jsb.flux_surfaces.FluxSurface.from_hdf5(vmec_file)\n",
    "    fs_sbgeom = SBGeom.VMEC.Flux_Surfaces_From_HDF5(vmec_file)\n",
    "    return fs_jax, fs_sbgeom\n",
    "\n",
    "def _get_extended_flux_surfaces(vmec_file):    \n",
    "    fs_jax    = jsb.flux_surfaces.FluxSurfaceNormalExtended.from_hdf5(vmec_file)\n",
    "    fs_sbgeom = SBGeom.Flux_Surfaces_Normal_Extended(SBGeom.VMEC.Flux_Surfaces_From_HDF5(vmec_file))\n",
    "    return fs_jax, fs_sbgeom\n",
    "\n",
    "def _get_extended_no_phi_flux_surfaces(vmec_file):    \n",
    "    fs_jax    = jsb.flux_surfaces.FluxSurfaceNormalExtendedNoPhi.from_hdf5(vmec_file)\n",
    "    fs_sbgeom = SBGeom.Flux_Surfaces_Normal_Extended_No_Phi(SBGeom.VMEC.Flux_Surfaces_From_HDF5(vmec_file))\n",
    "    return fs_jax, fs_sbgeom\n",
    "\n",
    "def _get_extended_constant_phi_flux_surfaces(vmec_file):    \n",
    "    fs_jax    = jsb.flux_surfaces.FluxSurfaceNormalExtendedConstantPhi.from_hdf5(vmec_file)\n",
    "    fs_sbgeom = SBGeom.Flux_Surfaces_Normal_Extended_Constant_Phi(SBGeom.VMEC.Flux_Surfaces_From_HDF5(vmec_file))\n",
    "    return fs_jax, fs_sbgeom\n",
    "\n",
    "fs_jax, fs_sbgeom = _get_extended_constant_phi_flux_surfaces(vmec_file)  # just to compile\n"
   ]
  },
  {
   "cell_type": "code",
   "execution_count": null,
   "id": "cd3a8b80",
   "metadata": {},
   "outputs": [],
   "source": []
  },
  {
   "cell_type": "code",
   "execution_count": null,
   "id": "47a1b337",
   "metadata": {},
   "outputs": [],
   "source": [
    "print(fs_jax.cartesian_position(s+d, theta, phi))\n",
    "print(fs_sbgeom.Return_Position(s, d, theta, phi))\n",
    "\n",
    "print(fs_jax.principal_curvatures(s+d, theta, phi))\n",
    "print(fs_sbgeom.Return_Principal_Curvatures(s, d, theta, phi))\n",
    "\n",
    "print(fs_jax.normal(s+d, theta, phi))\n",
    "\n",
    "\n",
    "print(fs_sbgeom.Return_Normal(s, d, theta, phi))"
   ]
  },
  {
   "cell_type": "code",
   "execution_count": null,
   "id": "63de5af1",
   "metadata": {},
   "outputs": [],
   "source": [
    "%timeit fs_np.cartesian_position(1.5, 0.2, jnp.linspace(0, 2*jnp.pi, 1000)).block_until_ready()"
   ]
  },
  {
   "cell_type": "code",
   "execution_count": null,
   "id": "4df36130",
   "metadata": {},
   "outputs": [],
   "source": [
    "_check_vectorized_internal(fs_jax.normal)"
   ]
  },
  {
   "cell_type": "code",
   "execution_count": null,
   "id": "606c7063",
   "metadata": {},
   "outputs": [],
   "source": [
    "fs_np.cartesian_position(1.5, 0.2, jnp.linspace(0, 2*jnp.pi, 3000)).block_until_ready()"
   ]
  },
  {
   "cell_type": "code",
   "execution_count": null,
   "id": "f3b4b16b",
   "metadata": {},
   "outputs": [],
   "source": [
    "10000000 / 500000"
   ]
  },
  {
   "cell_type": "code",
   "execution_count": null,
   "id": "79570774",
   "metadata": {},
   "outputs": [],
   "source": [
    "%timeit fs_jax.cartesian_position(1.5, 0.2, jnp.linspace(0, 2*jnp.pi, 500000)).block_until_ready()"
   ]
  },
  {
   "cell_type": "code",
   "execution_count": null,
   "id": "74f84132",
   "metadata": {},
   "outputs": [],
   "source": [
    "_check_vectorized_internal(fs_jax.cartesian_position)"
   ]
  },
  {
   "cell_type": "code",
   "execution_count": null,
   "id": "7db98922",
   "metadata": {},
   "outputs": [],
   "source": [
    "fs_jax.cartesian_position(1.5, jnp.array([0.1, 0.2]), jnp.array([0.3, 0.4]))"
   ]
  },
  {
   "cell_type": "code",
   "execution_count": null,
   "id": "53f83a0d",
   "metadata": {},
   "outputs": [],
   "source": [
    "fs_sbgeom.Return_Position(0.5 * onp.ones(2), 0.0 * onp.ones(2), onp.array([0.1, 0.2]), onp.array([0.3, 0.4]))"
   ]
  },
  {
   "cell_type": "code",
   "execution_count": null,
   "id": "8090f2fd",
   "metadata": {},
   "outputs": [],
   "source": [
    "jnp.arctan2(posj[1], posj[0]), onp.arctan2(posb[1], posb[0])"
   ]
  },
  {
   "cell_type": "code",
   "execution_count": null,
   "id": "8458738d",
   "metadata": {},
   "outputs": [],
   "source": [
    "fs_sbgeom.Return_Position(1.0, 0.45, 0.1, 0.2)"
   ]
  },
  {
   "cell_type": "code",
   "execution_count": null,
   "id": "3f61d9c7",
   "metadata": {},
   "outputs": [],
   "source": [
    "s = 1.0\n",
    "d = 0.5\n",
    "theta = 0.2 \n",
    "phi = 0.3\n",
    "print(fse._normal_extended_no_phi_cartesian_position(fs_jax.data, fs_jax.settings, s+d, theta, phi))\n",
    "fs_sbgeom.Return_Position(s, d, theta, phi)"
   ]
  },
  {
   "cell_type": "code",
   "execution_count": null,
   "id": "6287cb1c",
   "metadata": {},
   "outputs": [],
   "source": [
    "fs_sbgeom.Return_Position(1.0, 0.0, 0.2,0.3)"
   ]
  },
  {
   "cell_type": "code",
   "execution_count": null,
   "id": "33ccde9a",
   "metadata": {},
   "outputs": [],
   "source": [
    "ss, tt = jnp.meshgrid(jnp.array([1.5, 1.6]), jnp.linspace(0, 2 * jnp.pi, 5), indexing='ij')\n",
    "fs_jax.cartesian_position(1.5, ss, tt)"
   ]
  },
  {
   "cell_type": "code",
   "execution_count": null,
   "id": "842ac208",
   "metadata": {},
   "outputs": [],
   "source": [
    "from jax_sbgeom.flux_surfaces.flux_surfaces_extended import FluxSurfaceNormalExtended, _normal_extended_principal_curvatures, _normal_extended_principal_curvatures_jit\n",
    "_normal_extended_principal_curvatures(fs_jax.data, fs_jax.settings, 1.5, ss, tt)"
   ]
  },
  {
   "cell_type": "code",
   "execution_count": null,
   "id": "42368885",
   "metadata": {},
   "outputs": [],
   "source": [
    "fs_jax.cartesian_position(1.5, ss, tt)"
   ]
  },
  {
   "cell_type": "code",
   "execution_count": null,
   "id": "6c2c2af1",
   "metadata": {},
   "outputs": [],
   "source": [
    "fs_jax.principal_curvatures(1.5, ss, tt)"
   ]
  }
 ],
 "metadata": {
  "kernelspec": {
   "display_name": "stellsim",
   "language": "python",
   "name": "python3"
  },
  "language_info": {
   "codemirror_mode": {
    "name": "ipython",
    "version": 3
   },
   "file_extension": ".py",
   "mimetype": "text/x-python",
   "name": "python",
   "nbconvert_exporter": "python",
   "pygments_lexer": "ipython3",
   "version": "3.12.11"
  }
 },
 "nbformat": 4,
 "nbformat_minor": 5
}
