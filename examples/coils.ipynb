{
 "cells": [
  {
   "cell_type": "code",
   "execution_count": 1,
   "id": "5c1f39c4",
   "metadata": {},
   "outputs": [
    {
     "name": "stdout",
     "output_type": "stream",
     "text": [
      "Triangle Elements not compiled\n"
     ]
    }
   ],
   "source": [
    "# import os\n",
    "# os.environ[\"JAX_PLATFORM_NAME\"] = \"cpu\"\n",
    "\n",
    "import jax_sbgeom as jsb\n",
    "%load_ext autoreload\n",
    "%autoreload 2\n",
    "import jax.numpy as jnp\n",
    "import jax\n",
    "jax.config.update(\"jax_enable_x64\", True)\n",
    "import numpy as onp\n",
    "import sys \n",
    "import os\n",
    "\n",
    "project_root = os.path.abspath(os.path.join(os.getcwd(), \"..\"))\n",
    "sys.path.append(project_root)\n",
    "\n",
    "import StellBlanket.SBGeom as SBGeom\n",
    "from functools import partial\n",
    "import jax_sbgeom.coils as jsc\n",
    "\n",
    "from tests.coils.test_coils import _check_single_vectorized\n",
    "import pyvista as pv\n",
    "from dataclasses import dataclass\n",
    "\n",
    "from jax_sbgeom.jax_utils.utils import _mesh_to_pyvista_mesh\n",
    "\n",
    "\n",
    "vmec_files = [\"/home/tbogaarts/stellarator_paper/base_data/vmecs/helias3_vmec.nc4\", \"/home/tbogaarts/stellarator_paper/base_data/vmecs/helias5_vmec.nc4\", \"/home/tbogaarts/stellarator_paper/base_data/vmecs/squid_vmec.nc4\"]\n",
    "vmec_file = vmec_files[0]\n",
    "\n",
    "coil_files = [\"/home/tbogaarts/stellarator_paper/base_data/vmecs/HELIAS3_coils_all.h5\", \"/home/tbogaarts/stellarator_paper/base_data/vmecs/HELIAS5_coils_all.h5\", \"/home/tbogaarts/stellarator_paper/base_data/vmecs/squid_coilset.h5\"]"
   ]
  },
  {
   "cell_type": "code",
   "execution_count": 2,
   "id": "4b1504ab",
   "metadata": {},
   "outputs": [],
   "source": [
    "class bb:\n",
    "    param : str\n",
    "    def __init__(self, param):\n",
    "        self.param = param\n",
    "\n",
    "def _get_all_discrete_coils(request):    \n",
    "    coilset_sbgeom = SBGeom.Coils.Discrete_Coil_Set_From_HDF5(request.param)    \n",
    "    coilset_jaxsbgeom = [jsb.coils.DiscreteCoil.from_positions(coilset_sbgeom[i].Get_Vertices()) for i in range(coilset_sbgeom.Number_of_Coils())]\n",
    "    \n",
    "    return coilset_jaxsbgeom, coilset_sbgeom\n",
    "\n",
    "def _get_all_fourier_coils_trunc(request):\n",
    "    coilset_sbgeom = SBGeom.Coils.Discrete_Coil_Set_From_HDF5(request.param)\n",
    "    coilset_fourier = SBGeom.Coils.Convert_to_Fourier_Coils(coilset_sbgeom, Nftrunc = 20)\n",
    "    \n",
    "    coilset_jax = [jsb.coils.FourierCoil(jnp.array(i.Get_Fourier_Cos()), jnp.array(i.Get_Fourier_Sin()), jnp.array(i.Get_Centre())) for i in coilset_fourier]\n",
    "    return coilset_jax, coilset_fourier\n",
    "    \n",
    "\n",
    "\n",
    "dcoils_jax, coils_sbgeom = _get_all_discrete_coils(bb(coil_files[0]))\n",
    "coils_jax, coils_sbgeom = _get_all_fourier_coils_trunc(bb(coil_files[1]))"
   ]
  },
  {
   "cell_type": "code",
   "execution_count": 3,
   "id": "d08e5f7f",
   "metadata": {},
   "outputs": [
    {
     "name": "stdout",
     "output_type": "stream",
     "text": [
      "(Array([[[-0.44061201,  0.22452427,  0.86916621],\n",
      "        [-0.44408664,  0.20964274,  0.87111249],\n",
      "        [-0.46361632,  0.22097667,  0.858038  ],\n",
      "        ...,\n",
      "        [-0.59273492,  0.41100298,  0.692634  ],\n",
      "        [-0.52644525,  0.33187585,  0.78276038],\n",
      "        [-0.47488298,  0.26084204,  0.84050437]],\n",
      "\n",
      "       [[-0.78070282,  0.60227979, -0.16661981],\n",
      "        [-0.80711327,  0.59032988,  0.0088774 ],\n",
      "        [-0.8201287 ,  0.5215857 ,  0.23523875],\n",
      "        ...,\n",
      "        [-0.74866347,  0.59286316, -0.29667539],\n",
      "        [-0.75710272,  0.58359085, -0.29362765],\n",
      "        [-0.77020517,  0.58232712, -0.26015213]],\n",
      "\n",
      "       [[-0.92786316,  0.32381837,  0.18496385],\n",
      "        [-0.94200676,  0.23390797,  0.24064563],\n",
      "        [-0.94986527,  0.14467906,  0.27717131],\n",
      "        ...,\n",
      "        [-0.86870837,  0.49436858, -0.03074844],\n",
      "        [-0.89309987,  0.44849673,  0.03497571],\n",
      "        [-0.91627646,  0.38696841,  0.10340644]],\n",
      "\n",
      "       ...,\n",
      "\n",
      "       [[-0.92786316, -0.32381837, -0.18496385],\n",
      "        [-0.94200676, -0.23390797, -0.24064563],\n",
      "        [-0.94986527, -0.14467906, -0.27717131],\n",
      "        ...,\n",
      "        [-0.86870837, -0.49436858,  0.03074844],\n",
      "        [-0.89309987, -0.44849673, -0.03497571],\n",
      "        [-0.91627646, -0.38696841, -0.10340644]],\n",
      "\n",
      "       [[-0.77576459, -0.6270523 , -0.07067333],\n",
      "        [-0.78305454, -0.62136247, -0.0270972 ],\n",
      "        [-0.7866036 , -0.61710161,  0.02098541],\n",
      "        ...,\n",
      "        [-0.75930539, -0.64571522, -0.08066712],\n",
      "        [-0.76658071, -0.63540762, -0.09279638],\n",
      "        [-0.77462505, -0.62549711, -0.09332412]],\n",
      "\n",
      "       [[-0.9224126 , -0.36907566,  0.11374601],\n",
      "        [-0.93120543, -0.35826003,  0.06712829],\n",
      "        [-0.93802671, -0.34631253, -0.01317254],\n",
      "        ...,\n",
      "        [-0.89913173, -0.4345592 , -0.05215766],\n",
      "        [-0.91599836, -0.39915808,  0.0402472 ],\n",
      "        [-0.92288994, -0.37103745,  0.10298236]]], dtype=float64),)\n"
     ]
    }
   ],
   "source": [
    "centroid_finitesize = jsc.FiniteSizeCoilSet.from_coils(coils_jax, jsc.RotationMinimizedFrame, 100)"
   ]
  },
  {
   "cell_type": "code",
   "execution_count": 6,
   "id": "3370d79f",
   "metadata": {},
   "outputs": [],
   "source": [
    "ss= jnp.linspace(0.0, 1.0, 100, endpoint=True)\n",
    "\n",
    "positions = centroid_finitesize.position(ss)"
   ]
  },
  {
   "cell_type": "code",
   "execution_count": 7,
   "id": "9dd0f203",
   "metadata": {},
   "outputs": [
    {
     "ename": "AttributeError",
     "evalue": "'tuple' object has no attribute 'shape'",
     "output_type": "error",
     "traceback": [
      "\u001b[31m---------------------------------------------------------------------------\u001b[39m",
      "\u001b[31mAttributeError\u001b[39m                            Traceback (most recent call last)",
      "\u001b[36mCell\u001b[39m\u001b[36m \u001b[39m\u001b[32mIn[7]\u001b[39m\u001b[32m, line 1\u001b[39m\n\u001b[32m----> \u001b[39m\u001b[32m1\u001b[39m radial_vectors = \u001b[43mcentroid_finitesize\u001b[49m\u001b[43m.\u001b[49m\u001b[43mradial_vector\u001b[49m\u001b[43m(\u001b[49m\u001b[43mss\u001b[49m\u001b[43m)\u001b[49m\n\u001b[32m      3\u001b[39m frame = centroid_finitesize.finite_size_frame(ss)\n\u001b[32m      4\u001b[39m finite_size = centroid_finitesize.finite_size(ss, \u001b[32m0.5\u001b[39m, \u001b[32m0.5\u001b[39m)\n",
      "\u001b[36mFile \u001b[39m\u001b[32m~/jax-sbgeom/jax_sbgeom/coils/coilset.py:74\u001b[39m, in \u001b[36mFiniteSizeCoilSet.radial_vector\u001b[39m\u001b[34m(self, s)\u001b[39m\n\u001b[32m     73\u001b[39m \u001b[38;5;28;01mdef\u001b[39;00m\u001b[38;5;250m \u001b[39m\u001b[34mradial_vector\u001b[39m(\u001b[38;5;28mself\u001b[39m, s):\n\u001b[32m---> \u001b[39m\u001b[32m74\u001b[39m     \u001b[38;5;28;01mreturn\u001b[39;00m \u001b[43m_radial_vector_same_s\u001b[49m\u001b[43m(\u001b[49m\u001b[38;5;28;43mself\u001b[39;49m\u001b[43m.\u001b[49m\u001b[43mcoils\u001b[49m\u001b[43m.\u001b[49m\u001b[43mcoil\u001b[49m\u001b[43m,\u001b[49m\u001b[43m \u001b[49m\u001b[38;5;28;43mself\u001b[39;49m\u001b[43m.\u001b[49m\u001b[43mcoils\u001b[49m\u001b[43m.\u001b[49m\u001b[43mfinite_size_method\u001b[49m\u001b[43m,\u001b[49m\u001b[43m \u001b[49m\u001b[43ms\u001b[49m\u001b[43m)\u001b[49m\n",
      "    \u001b[31m[... skipping hidden 33 frame]\u001b[39m\n",
      "\u001b[36mFile \u001b[39m\u001b[32m~/jax-sbgeom/jax_sbgeom/coils/base_coil.py:96\u001b[39m, in \u001b[36m_compute_radial_vector\u001b[39m\u001b[34m(coil, finitesizemethod, s)\u001b[39m\n\u001b[32m     94\u001b[39m \u001b[38;5;129m@jax\u001b[39m.jit\n\u001b[32m     95\u001b[39m \u001b[38;5;28;01mdef\u001b[39;00m\u001b[38;5;250m \u001b[39m\u001b[34m_compute_radial_vector\u001b[39m(coil : Coil, finitesizemethod : FiniteSizeMethod, s : jnp.ndarray):\n\u001b[32m---> \u001b[39m\u001b[32m96\u001b[39m     \u001b[38;5;28;01mreturn\u001b[39;00m \u001b[43mfinitesizemethod\u001b[49m\u001b[43m.\u001b[49m\u001b[43mcompute_radial_vector\u001b[49m\u001b[43m(\u001b[49m\u001b[43mcoil\u001b[49m\u001b[43m,\u001b[49m\u001b[43m \u001b[49m\u001b[43ms\u001b[49m\u001b[43m)\u001b[49m\n",
      "\u001b[36mFile \u001b[39m\u001b[32m~/jax-sbgeom/jax_sbgeom/coils/base_coil.py:358\u001b[39m, in \u001b[36mRadialVectorFrame.compute_radial_vector\u001b[39m\u001b[34m(self, coil, s)\u001b[39m\n\u001b[32m    355\u001b[39m \u001b[38;5;28;01mdef\u001b[39;00m\u001b[38;5;250m \u001b[39m\u001b[34mcompute_radial_vector\u001b[39m(\u001b[38;5;28mself\u001b[39m, coil : Coil, s : jnp.ndarray):\n\u001b[32m    356\u001b[39m     \u001b[38;5;66;03m# Coil was already used to compute radial_vectors_i\u001b[39;00m\n\u001b[32m    357\u001b[39m     \u001b[38;5;66;03m# This assumes that this class was instantiated using from_coil with the same coil\u001b[39;00m\n\u001b[32m--> \u001b[39m\u001b[32m358\u001b[39m     \u001b[38;5;28;01mreturn\u001b[39;00m \u001b[43m_interpolate_radial_vectors\u001b[49m\u001b[43m(\u001b[49m\u001b[38;5;28;43mself\u001b[39;49m\u001b[43m.\u001b[49m\u001b[43mradial_vectors_i\u001b[49m\u001b[43m,\u001b[49m\u001b[43m \u001b[49m\u001b[43ms\u001b[49m\u001b[43m)\u001b[49m\n",
      "    \u001b[31m[... skipping hidden 13 frame]\u001b[39m\n",
      "\u001b[36mFile \u001b[39m\u001b[32m~/jax-sbgeom/jax_sbgeom/coils/base_coil.py:366\u001b[39m, in \u001b[36m_interpolate_radial_vectors\u001b[39m\u001b[34m(radial_vectors_rmf, s)\u001b[39m\n\u001b[32m    360\u001b[39m \u001b[38;5;129m@jax\u001b[39m.jit\n\u001b[32m    361\u001b[39m \u001b[38;5;28;01mdef\u001b[39;00m\u001b[38;5;250m \u001b[39m\u001b[34m_interpolate_radial_vectors\u001b[39m(radial_vectors_rmf, s):\n\u001b[32m    362\u001b[39m \u001b[38;5;250m    \u001b[39m\u001b[33;03m'''\u001b[39;00m\n\u001b[32m    363\u001b[39m \u001b[33;03m    Interpolate radial vectors at arc length s.\u001b[39;00m\n\u001b[32m    364\u001b[39m \u001b[33;03m    Uses modulo arithmic to define s > 1.0.\u001b[39;00m\n\u001b[32m    365\u001b[39m \u001b[33;03m    '''\u001b[39;00m\n\u001b[32m--> \u001b[39m\u001b[32m366\u001b[39m     \u001b[38;5;28;01mreturn\u001b[39;00m \u001b[43minterpolate_array_modulo_broadcasted\u001b[49m\u001b[43m(\u001b[49m\u001b[43mradial_vectors_rmf\u001b[49m\u001b[43m,\u001b[49m\u001b[43m \u001b[49m\u001b[43ms\u001b[49m\u001b[43m)\u001b[49m\n",
      "\u001b[36mFile \u001b[39m\u001b[32m~/jax-sbgeom/jax_sbgeom/jax_utils/utils.py:44\u001b[39m, in \u001b[36minterpolate_array_modulo_broadcasted\u001b[39m\u001b[34m(x_interp, s)\u001b[39m\n\u001b[32m     43\u001b[39m \u001b[38;5;28;01mdef\u001b[39;00m\u001b[38;5;250m \u001b[39m\u001b[34minterpolate_array_modulo_broadcasted\u001b[39m(x_interp, s):\n\u001b[32m---> \u001b[39m\u001b[32m44\u001b[39m     nsurf = \u001b[43mx_interp\u001b[49m\u001b[43m.\u001b[49m\u001b[43mshape\u001b[49m[-\u001b[32m2\u001b[39m]\n\u001b[32m     45\u001b[39m     i0, i1, ds   = interpolate_fractions_modulo(s, nsurf)\n\u001b[32m     46\u001b[39m     x0 = x_interp[..., i0 % nsurf, :] \u001b[38;5;66;03m# s_shape, something\u001b[39;00m\n",
      "\u001b[31mAttributeError\u001b[39m: 'tuple' object has no attribute 'shape'"
     ]
    }
   ],
   "source": [
    "radial_vectors = centroid_finitesize.radial_vector(ss)\n",
    "\n",
    "frame = centroid_finitesize.finite_size_frame(ss)\n",
    "finite_size = centroid_finitesize.finite_size(ss, 0.5, 0.5)\n",
    "\n",
    "finite_size = jnp.moveaxis(finite_size,2,1).reshape(-1, ss.shape[0], 3)"
   ]
  },
  {
   "cell_type": "code",
   "execution_count": null,
   "id": "2786b09f",
   "metadata": {},
   "outputs": [],
   "source": [
    "lines = pv.MultiBlock()\n",
    "\n",
    "for i in range(positions.shape[0]):\n",
    "    lines.append(pv.Spline(positions[i], positions.shape[1]))  # create a spline through each line's points\n",
    "\n",
    "\n",
    "\n",
    "lines_fs = pv.MultiBlock()\n",
    "\n",
    "for i in range(finite_size.shape[0]):\n",
    "    lines_fs.append(pv.Spline(finite_size[i], finite_size.shape[1]))  # create a spline through each line's points\n",
    "\n"
   ]
  },
  {
   "cell_type": "code",
   "execution_count": null,
   "id": "aff88172",
   "metadata": {},
   "outputs": [
    {
     "data": {
      "application/vnd.jupyter.widget-view+json": {
       "model_id": "b3bfadba5bc54c56ba71142420b506c1",
       "version_major": 2,
       "version_minor": 0
      },
      "text/plain": [
       "Widget(value='<iframe src=\"http://localhost:33945/index.html?ui=P_0x709876d03a70_0&reconnect=auto\" class=\"pyvi…"
      ]
     },
     "metadata": {},
     "output_type": "display_data"
    }
   ],
   "source": [
    "plotter = pv.Plotter()\n",
    "\n",
    "\n",
    "plotter.add_arrows(positions.reshape(-1,3), frame[..., 0,:].reshape(-1,3), mag=1.0, color='red')\n",
    "plotter.add_arrows(positions.reshape(-1,3), frame[..., 1,:].reshape(-1,3), mag=1.0, color='green')\n",
    "\n",
    "plotter.add_mesh(lines_fs, color='yellow', line_width=0.2)\n",
    "plotter.show()"
   ]
  },
  {
   "cell_type": "code",
   "execution_count": null,
   "id": "b10a0599",
   "metadata": {},
   "outputs": [],
   "source": []
  }
 ],
 "metadata": {
  "kernelspec": {
   "display_name": "stellsim",
   "language": "python",
   "name": "python3"
  },
  "language_info": {
   "codemirror_mode": {
    "name": "ipython",
    "version": 3
   },
   "file_extension": ".py",
   "mimetype": "text/x-python",
   "name": "python",
   "nbconvert_exporter": "python",
   "pygments_lexer": "ipython3",
   "version": "3.12.11"
  }
 },
 "nbformat": 4,
 "nbformat_minor": 5
}
