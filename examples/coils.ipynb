{
 "cells": [
  {
   "cell_type": "code",
   "execution_count": null,
   "id": "5c1f39c4",
   "metadata": {},
   "outputs": [],
   "source": [
    "import os\n",
    "#os.environ[\"JAX_PLATFORM_NAME\"] = \"cpu\"\n",
    "\n",
    "import jax_sbgeom as jsb\n",
    "%load_ext autoreload\n",
    "%autoreload 2\n",
    "import jax.numpy as jnp\n",
    "import jax\n",
    "jax.config.update(\"jax_enable_x64\", True)\n",
    "import numpy as onp\n",
    "import sys \n",
    "import os\n",
    "\n",
    "project_root = os.path.abspath(os.path.join(os.getcwd(), \"..\"))\n",
    "sys.path.append(project_root)\n",
    "\n",
    "\n",
    "from functools import partial\n",
    "import jax_sbgeom.coils as jsc\n",
    "import jax_sbgeom.flux_surfaces as jsf\n",
    "\n",
    "from dataclasses import dataclass\n",
    "import functools\n",
    "from jax_sbgeom.jax_utils.utils import _mesh_to_pyvista_mesh, cumulative_trapezoid_uniform_periodic, interp1d_jax\n",
    "import StellBlanket.SBGeom as sbg\n",
    "import StellBlanket\n",
    "from StellBlanket.SBGeom import Coils_jax as CJ\n",
    "import pyvista as pv\n",
    "\n",
    "import matplotlib.pyplot as plt\n",
    "import jax_sbgeom.coils.coil_winding_surface as cws\n",
    "vmec_files = [\"/home/tbogaarts/stellarator_paper/base_data/vmecs/helias3_vmec.nc4\", \"/home/tbogaarts/stellarator_paper/base_data/vmecs/helias5_vmec.nc4\", \"/home/tbogaarts/stellarator_paper/base_data/vmecs/squid_vmec.nc4\"]\n",
    "vmec_file = vmec_files[2]\n",
    "\n",
    "coil_files = [\"/home/tbogaarts/stellarator_paper/base_data/vmecs/HELIAS3_coils_all.h5\", \"/home/tbogaarts/stellarator_paper/base_data/vmecs/HELIAS5_coils_all.h5\", \"/home/tbogaarts/stellarator_paper/base_data/vmecs/squid_coilset.h5\"]"
   ]
  },
  {
   "cell_type": "code",
   "execution_count": null,
   "id": "a48318a3",
   "metadata": {},
   "outputs": [],
   "source": [
    "coilsd = onp.loadtxt(\"filament_s4uu_5ci_23\")[:,:]\n",
    "amax = 101\n",
    "i = 0\n",
    "coils = []\n",
    "currents = []\n",
    "for i in range(40):\n",
    "#    if i not in [0, 4, 8, 12, 16, 20,24, 28, 32,35, 36,39] :\n",
    "    coils.append(coilsd[i * amax : i * amax + amax -1,:-1])\n",
    "    currents.append(coilsd[i * amax, -1])\n",
    "\n",
    "\n",
    "\n",
    "jax_coils = [jsc.DiscreteCoil.from_positions(jnp.array(coil)) for coil in coils]\n",
    "jax_coilset = jsc.CoilSet.from_list(jax_coils)\n",
    "jax_currents = jnp.array(currents)\n",
    "print(jax_currents.shape)\n"
   ]
  },
  {
   "cell_type": "code",
   "execution_count": null,
   "id": "919357e9",
   "metadata": {},
   "outputs": [],
   "source": [
    "lcfs = jsb.flux_surfaces.FluxSurface.from_hdf5(vmec_file)\n",
    "\n",
    "n_theta = 51\n",
    "n_phi   = 61\n",
    "\n",
    "theta = jnp.linspace(0, 2 * jnp.pi, n_theta, endpoint=False)\n",
    "phi   = jnp.linspace(0, 2 * jnp.pi, n_phi, endpoint=False)\n",
    "\n",
    "theta_grid, phi_grid = jnp.meshgrid(theta, phi, indexing=\"ij\")  \n",
    "positions_lcfs = lcfs.cartesian_position(1.0, theta_grid, phi_grid)"
   ]
  },
  {
   "cell_type": "code",
   "execution_count": null,
   "id": "c453353a",
   "metadata": {},
   "outputs": [],
   "source": [
    "nsamples_per_coil = 112\n",
    "s_samples = jnp.linspace(0, 1, nsamples_per_coil, endpoint=False)\n",
    "positions_coils    = jax_coilset.position(s_samples)\n",
    "jax_currents_tot   = jnp.broadcast_to(jax_currents[:, None], (jax_coilset.n_coils, nsamples_per_coil))\n",
    "\n",
    "segments = jnp.roll(positions_coils, -1, axis=1) - positions_coils\n",
    "\n",
    "\n",
    "\n",
    "\n",
    "\n"
   ]
  },
  {
   "cell_type": "code",
   "execution_count": null,
   "id": "7eb008ec",
   "metadata": {},
   "outputs": [],
   "source": [
    "def Bfield(r):    \n",
    "    return jsc.biot_savart.biot_savart_batch(jax_currents_tot.reshape(-1), positions_coils.reshape(-1,3), segments.reshape(-1,3), r.reshape(-1,3))\n",
    "\n",
    "\n",
    "bfield_computed = Bfield(positions_lcfs)"
   ]
  },
  {
   "cell_type": "code",
   "execution_count": null,
   "id": "58319f79",
   "metadata": {},
   "outputs": [],
   "source": [
    "normal = lcfs.normal(1.0, theta_grid, phi_grid)"
   ]
  },
  {
   "cell_type": "code",
   "execution_count": null,
   "id": "74378ca1",
   "metadata": {},
   "outputs": [],
   "source": [
    "normal.shape\n",
    "\n",
    "bfield_computed.reshape(normal.shape).shape"
   ]
  },
  {
   "cell_type": "code",
   "execution_count": null,
   "id": "18a516c7",
   "metadata": {},
   "outputs": [],
   "source": [
    "bfield_computed"
   ]
  },
  {
   "cell_type": "code",
   "execution_count": null,
   "id": "0152fb1e",
   "metadata": {},
   "outputs": [],
   "source": [
    "berror = jnp.einsum(\"ijk,ijk->ij\", bfield_computed.reshape(normal.shape), normal) / jnp.linalg.norm(normal, axis=-1)"
   ]
  },
  {
   "cell_type": "code",
   "execution_count": null,
   "id": "65efa1fb",
   "metadata": {},
   "outputs": [],
   "source": [
    "print(berror)"
   ]
  },
  {
   "cell_type": "code",
   "execution_count": null,
   "id": "f58ec38a",
   "metadata": {},
   "outputs": [],
   "source": [
    "plotter = pv.Plotter()\n",
    "plotter.add_arrows(positions_lcfs.reshape(-1,3), bfield_computed.reshape(-1,3), mag=0.1, color=\"red\")\n",
    "\n",
    "plotter.add_mesh(pv.PolyData(onp.array(positions_lcfs.reshape(-1,3))), scalars = berror.reshape(-1), point_size=5, render_points_as_spheres=True)\n",
    "plotter.show()"
   ]
  },
  {
   "cell_type": "code",
   "execution_count": null,
   "id": "aa44566e",
   "metadata": {},
   "outputs": [],
   "source": [
    "from diffrax import ODETerm, Dopri5, PIDController, SaveAt, diffeqsolve, Tsit5"
   ]
  },
  {
   "cell_type": "code",
   "execution_count": null,
   "id": "6544be67",
   "metadata": {},
   "outputs": [],
   "source": [
    "def Bfield_single(r):    \n",
    "    return jsc.biot_savart.biot_savart_single(jax_currents_tot.reshape(-1), positions_coils.reshape(-1,3), segments.reshape(-1,3), r)\n",
    "\n"
   ]
  },
  {
   "cell_type": "code",
   "execution_count": null,
   "id": "4e28eb90",
   "metadata": {},
   "outputs": [],
   "source": [
    "def B_field_diffrax(t, r, args= None):\n",
    "    B = Bfield_single(r)\n",
    "    drdt = B / jnp.linalg.norm(B)\n",
    "    return drdt\n",
    "\n",
    "\n",
    "term = ODETerm(B_field_diffrax)"
   ]
  },
  {
   "cell_type": "code",
   "execution_count": null,
   "id": "a35b946b",
   "metadata": {},
   "outputs": [],
   "source": [
    "r0 = positions_lcfs[0,0]\n",
    "solver = Dopri5()\n",
    "t0 = 0.0\n",
    "t1 = 5000.0 \n",
    "dt0 = 1.0"
   ]
  },
  {
   "cell_type": "code",
   "execution_count": null,
   "id": "1768cbaf",
   "metadata": {},
   "outputs": [],
   "source": [
    "saveat = SaveAt(ts=jnp.linspace(t0, t1, 1000))"
   ]
  },
  {
   "cell_type": "code",
   "execution_count": null,
   "id": "d610b948",
   "metadata": {},
   "outputs": [],
   "source": [
    "initial_position = lcfs.cartesian_position(0.6467, 0.0,0.0)"
   ]
  },
  {
   "cell_type": "code",
   "execution_count": null,
   "id": "0cc438da",
   "metadata": {},
   "outputs": [],
   "source": [
    "sol = diffeqsolve(term, solver, t0= t0, t1=t1, dt0=dt0, y0=initial_position, saveat=saveat, max_steps=12000)"
   ]
  },
  {
   "cell_type": "code",
   "execution_count": null,
   "id": "3dc5a1dc",
   "metadata": {},
   "outputs": [],
   "source": [
    "print(sol.ys)"
   ]
  },
  {
   "cell_type": "code",
   "execution_count": null,
   "id": "5fa9d9d8",
   "metadata": {},
   "outputs": [],
   "source": [
    "plt.plot(jnp.arctan2(sol.ys[:,1], sol.ys[:,0]))"
   ]
  },
  {
   "cell_type": "code",
   "execution_count": null,
   "id": "e31fe5b1",
   "metadata": {},
   "outputs": [],
   "source": [
    "mesh_thing = jsb.flux_surfaces.flux_surface_meshing.mesh_surface(lcfs, 0.6467, jsb.flux_surfaces.ToroidalExtent.full(), 100, 200)\n"
   ]
  },
  {
   "cell_type": "code",
   "execution_count": null,
   "id": "ac7f828d",
   "metadata": {},
   "outputs": [],
   "source": [
    "plotter = pv.Plotter()\n",
    "\n",
    "finitesize_coilset = jsc.FiniteSizeCoilSet.from_coilset(jax_coilset, jsc.RotationMinimizedFrame, 100)\n",
    "\n",
    "\n",
    "base_mesh = _mesh_to_pyvista_mesh(*jsc.mesh_coilset_surface(finitesize_coilset, 100, 0.2, 0.2))\n",
    "plotter.add_mesh(pv.Spline(sol.ys))\n",
    "plotter.add_mesh(base_mesh)\n",
    "plotter.add_mesh(_mesh_to_pyvista_mesh(*mesh_thing))\n",
    "plotter.show()"
   ]
  }
 ],
 "metadata": {
  "kernelspec": {
   "display_name": "jaxsbgeom",
   "language": "python",
   "name": "python3"
  },
  "language_info": {
   "codemirror_mode": {
    "name": "ipython",
    "version": 3
   },
   "file_extension": ".py",
   "mimetype": "text/x-python",
   "name": "python",
   "nbconvert_exporter": "python",
   "pygments_lexer": "ipython3",
   "version": "3.12.12"
  }
 },
 "nbformat": 4,
 "nbformat_minor": 5
}
