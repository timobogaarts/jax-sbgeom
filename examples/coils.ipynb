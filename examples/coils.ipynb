{
 "cells": [
  {
   "cell_type": "code",
   "execution_count": null,
   "id": "5c1f39c4",
   "metadata": {},
   "outputs": [],
   "source": [
    "import os\n",
    "#os.environ[\"JAX_PLATFORM_NAME\"] = \"cpu\"\n",
    "\n",
    "import jax_sbgeom as jsb\n",
    "%load_ext autoreload\n",
    "%autoreload 2\n",
    "import jax.numpy as jnp\n",
    "import jax\n",
    "jax.config.update(\"jax_enable_x64\", True)\n",
    "import numpy as onp\n",
    "import sys \n",
    "import os\n",
    "\n",
    "project_root = os.path.abspath(os.path.join(os.getcwd(), \"..\"))\n",
    "sys.path.append(project_root)\n",
    "\n",
    "\n",
    "from functools import partial\n",
    "import jax_sbgeom.coils as jsc\n",
    "import jax_sbgeom.flux_surfaces as jsf\n",
    "\n",
    "from dataclasses import dataclass\n",
    "import functools\n",
    "from jax_sbgeom.jax_utils.utils import _mesh_to_pyvista_mesh, cumulative_trapezoid_uniform_periodic, interp1d_jax\n",
    "import StellBlanket.SBGeom as sbg\n",
    "import StellBlanket\n",
    "\n",
    "import matplotlib.pyplot as plt\n",
    "vmec_files = [\"/home/tbogaarts/stellarator_paper/base_data/vmecs/helias3_vmec.nc4\", \"/home/tbogaarts/stellarator_paper/base_data/vmecs/helias5_vmec.nc4\", \"/home/tbogaarts/stellarator_paper/base_data/vmecs/squid_vmec.nc4\"]\n",
    "vmec_file = vmec_files[2]\n",
    "\n",
    "coil_files = [\"/home/tbogaarts/stellarator_paper/base_data/vmecs/HELIAS3_coils_all.h5\", \"/home/tbogaarts/stellarator_paper/base_data/vmecs/HELIAS5_coils_all.h5\", \"/home/tbogaarts/stellarator_paper/base_data/vmecs/squid_coilset.h5\"]"
   ]
  },
  {
   "cell_type": "code",
   "execution_count": null,
   "id": "70fb135b",
   "metadata": {},
   "outputs": [],
   "source": [
    "fs_base = jsb.flux_surfaces.FluxSurface.from_hdf5(vmec_file)"
   ]
  },
  {
   "cell_type": "code",
   "execution_count": null,
   "id": "33e88301",
   "metadata": {},
   "outputs": [],
   "source": [
    "\n",
    "coilsd = onp.loadtxt(\"filament_s4uu_5ci_23\")[:,:]\n",
    "amax = 101\n",
    "i = 0\n",
    "coils = []\n",
    "currents = []\n",
    "for i in range(40):\n",
    "#    if i not in [0, 4, 8, 12, 16, 20,24, 28, 32,35, 36,39] :\n",
    "    coils.append(coilsd[i * amax : i * amax + amax -1,:-1])\n",
    "    currents.append(coilsd[i * amax, -1])\n",
    "\n",
    "\n",
    "\n",
    "jax_coils = [jsc.DiscreteCoil.from_positions(jnp.array(coil)) for coil in coils]\n",
    "jax_coilset = jsc.CoilSet.from_list(jax_coils)\n",
    "jax_currents = jnp.array(currents)\n",
    "\n",
    "sbg_coilset = sbg.Coil_Set([sbg.Discrete_Coil(coils[i]) for i in range(len(coils))])\n",
    "coilset = jsc.fourier_coil.convert_to_fourier_coilset(jax_coilset)\n",
    "coilset_resampled = jsc.fourier_coil.convert_fourier_coilset_to_equal_arclength(coilset)\n",
    "\n",
    "#fs_coilset = jsc.FiniteSizeCoilSet.from_coilset(coilset_resampled, jsc.CentroidFrame)\n",
    "\n",
    "\n",
    "## TODO \n",
    "#FIX Finite size coilset reverse\n",
    "# Coilset optimization cws\n",
    "\n"
   ]
  },
  {
   "cell_type": "code",
   "execution_count": null,
   "id": "0cc02115",
   "metadata": {},
   "outputs": [],
   "source": [
    "from StellBlanket.SBGeom import Coils_jax as CJ\n",
    "\n",
    "cj_set = CJ.CoilSet_JAX(coilset_resampled.coils.centre_i, coilset_resampled.coils.fourier_cos, coilset_resampled.coils.fourier_sin)"
   ]
  },
  {
   "cell_type": "code",
   "execution_count": null,
   "id": "7b26bef8",
   "metadata": {},
   "outputs": [],
   "source": [
    "coilset_flipped = jsc.coilset.ensure_coilset_clockwise(coilset_resampled)"
   ]
  },
  {
   "cell_type": "code",
   "execution_count": null,
   "id": "08fa4ad2",
   "metadata": {},
   "outputs": [],
   "source": [
    "positions = coilset_flipped.position(jnp.linspace(0,1,100))"
   ]
  },
  {
   "cell_type": "code",
   "execution_count": null,
   "id": "347b52a3",
   "metadata": {},
   "outputs": [],
   "source": [
    "import pyvista as pv\n",
    "plotter = pv.Plotter()\n",
    "for i in range(coilset_flipped.n_coils):\n",
    "    \n",
    "    spline = pv.Spline(positions[i])\n",
    "    plotter.add_mesh(spline, scalars = jnp.linspace(0,1,100), line_width=5, cmap=\"viridis\")\n",
    "\n",
    "plotter.show()"
   ]
  }
 ],
 "metadata": {
  "kernelspec": {
   "display_name": "stellsim",
   "language": "python",
   "name": "python3"
  },
  "language_info": {
   "codemirror_mode": {
    "name": "ipython",
    "version": 3
   },
   "file_extension": ".py",
   "mimetype": "text/x-python",
   "name": "python",
   "nbconvert_exporter": "python",
   "pygments_lexer": "ipython3",
   "version": "3.12.11"
  }
 },
 "nbformat": 4,
 "nbformat_minor": 5
}
