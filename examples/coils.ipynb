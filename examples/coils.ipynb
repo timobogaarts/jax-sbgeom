{
 "cells": [
  {
   "cell_type": "code",
   "execution_count": 1,
   "id": "5c1f39c4",
   "metadata": {},
   "outputs": [
    {
     "name": "stdout",
     "output_type": "stream",
     "text": [
      "Triangle Elements not compiled\n"
     ]
    }
   ],
   "source": [
    "# import os\n",
    "# os.environ[\"JAX_PLATFORM_NAME\"] = \"cpu\"\n",
    "\n",
    "import jax_sbgeom as jsb\n",
    "%load_ext autoreload\n",
    "%autoreload 2\n",
    "import jax.numpy as jnp\n",
    "import jax\n",
    "jax.config.update(\"jax_enable_x64\", True)\n",
    "import numpy as onp\n",
    "import sys \n",
    "import os\n",
    "\n",
    "project_root = os.path.abspath(os.path.join(os.getcwd(), \"..\"))\n",
    "sys.path.append(project_root)\n",
    "\n",
    "import StellBlanket.SBGeom as SBGeom\n",
    "from functools import partial\n",
    "import jax_sbgeom.coils as jsc\n",
    "\n",
    "from tests.coils.test_coils import _check_single_vectorized_internal\n",
    "import pyvista as pv\n",
    "from dataclasses import dataclass\n",
    "\n",
    "\n",
    "vmec_files = [\"/home/tbogaarts/stellarator_paper/base_data/vmecs/helias3_vmec.nc4\", \"/home/tbogaarts/stellarator_paper/base_data/vmecs/helias5_vmec.nc4\", \"/home/tbogaarts/stellarator_paper/base_data/vmecs/squid_vmec.nc4\"]\n",
    "vmec_file = vmec_files[1]\n",
    "\n",
    "coil_files = [\"/home/tbogaarts/stellarator_paper/base_data/vmecs/HELIAS3_coils_all.h5\", \"/home/tbogaarts/stellarator_paper/base_data/vmecs/HELIAS5_coils_all.h5\", \"/home/tbogaarts/stellarator_paper/base_data/vmecs/squid_coilset.h5\"]"
   ]
  },
  {
   "cell_type": "code",
   "execution_count": 2,
   "id": "0e2bc7df",
   "metadata": {},
   "outputs": [
    {
     "name": "stdout",
     "output_type": "stream",
     "text": [
      "50\n"
     ]
    }
   ],
   "source": [
    "def _get_discrete_coils(coil_file, coil_index=0):\n",
    "    sbgeom_coils = SBGeom.Coils.Discrete_Coil_Set_From_HDF5(coil_file)\n",
    "    print(sbgeom_coils.Number_of_Coils())\n",
    "    coil_0 = sbgeom_coils[coil_index]\n",
    "    coil_0_jsc = jsc.DiscreteCoil.from_positions(coil_0.Get_Vertices())\n",
    "    return coil_0_jsc, coil_0\n",
    "\n",
    "c_jax, c_sbgeom = _get_discrete_coils(coil_files[1])"
   ]
  },
  {
   "cell_type": "code",
   "execution_count": 3,
   "id": "45b668bc",
   "metadata": {},
   "outputs": [],
   "source": [
    "class TestQ:\n",
    "    param : str\n",
    "    def __init__(self, param):\n",
    "        self.param = param\n",
    "\n",
    "def _get_all_discrete_coils(request):    \n",
    "    coilset_sbgeom = SBGeom.Coils.Discrete_Coil_Set_From_HDF5(request.param)    \n",
    "    coilset_jaxsbgeom = jsb.coils.CoilSet([jsb.coils.DiscreteCoil.from_positions(coilset_sbgeom[i].Get_Vertices()) for i in range(coilset_sbgeom.Number_of_Coils())])\n",
    "    \n",
    "    return coilset_jaxsbgeom, coilset_sbgeom\n",
    "\n",
    "TestQ(coil_files[1])\n",
    "\n",
    "jsb_coils, sbcoils = _get_all_discrete_coils(TestQ(coil_files[1]))"
   ]
  },
  {
   "cell_type": "code",
   "execution_count": null,
   "id": "bb9c7c74",
   "metadata": {},
   "outputs": [],
   "source": []
  },
  {
   "cell_type": "code",
   "execution_count": 4,
   "id": "e00765fc",
   "metadata": {},
   "outputs": [],
   "source": [
    "coil = sbcoils[0]\n",
    "ns = 2000\n"
   ]
  },
  {
   "cell_type": "code",
   "execution_count": 5,
   "id": "30eb8493",
   "metadata": {},
   "outputs": [],
   "source": [
    "ns = 3000\n",
    "s_new = jnp.linspace(0.0, 1.0, ns, endpoint=False)"
   ]
  },
  {
   "cell_type": "code",
   "execution_count": 25,
   "id": "22575dee",
   "metadata": {},
   "outputs": [
    {
     "data": {
      "text/plain": [
       "Array(True, dtype=bool)"
      ]
     },
     "execution_count": 25,
     "metadata": {},
     "output_type": "execute_result"
    }
   ],
   "source": [
    "ns = 7000\n",
    "s_new = jnp.linspace(0.0, 1.0, ns, endpoint=False)\n",
    "centroid_0 = coil.Finite_Size_Lines_Centroid(0.3, 0.5, ns) \n",
    "centroid_frame = jsc.discrete_coil._discrete_coil_finite_size_frame_centroid(jsb_coils[0].positions, jsb_coils[0].centre(), s_new)\n",
    "centroid_1 = jsc.base_coil._finite_size(jsb_coils[0], s_new, 0.5, 0.3, centroid_frame)\n",
    "centroid_2 = jnp.moveaxis(centroid_1, 1,0).reshape(-1,3)\n",
    "\n",
    "jnp.allclose(centroid_0, centroid_2, atol=1e-7)"
   ]
  },
  {
   "cell_type": "markdown",
   "id": "358aa799",
   "metadata": {},
   "source": [
    "11.8769058   9.88469687 -2.94359914]"
   ]
  },
  {
   "cell_type": "code",
   "execution_count": 22,
   "id": "7af89643",
   "metadata": {},
   "outputs": [
    {
     "name": "stdout",
     "output_type": "stream",
     "text": [
      "[[ True  True  True]\n",
      " [ True  True  True]\n",
      " [ True  True  True]\n",
      " [ True  True  True]\n",
      " [ True  True  True]\n",
      " [ True  True  True]\n",
      " [ True  True  True]\n",
      " [ True  True  True]\n",
      " [ True  True  True]\n",
      " [ True  True  True]\n",
      " [ True  True  True]\n",
      " [ True  True  True]\n",
      " [ True  True  True]\n",
      " [ True  True  True]\n",
      " [ True  True  True]\n",
      " [ True  True  True]\n",
      " [ True  True  True]\n",
      " [ True  True  True]\n",
      " [ True  True  True]\n",
      " [ True  True  True]\n",
      " [ True  True  True]\n",
      " [ True  True  True]\n",
      " [ True  True  True]\n",
      " [ True  True  True]\n",
      " [ True  True  True]\n",
      " [ True  True  True]\n",
      " [ True  True  True]\n",
      " [ True  True  True]\n",
      " [ True  True  True]\n",
      " [ True  True  True]\n",
      " [ True  True  True]\n",
      " [ True  True  True]\n",
      " [ True  True  True]\n",
      " [ True  True  True]\n",
      " [ True  True  True]\n",
      " [ True  True  True]\n",
      " [ True  True  True]\n",
      " [ True  True  True]\n",
      " [ True  True  True]\n",
      " [ True  True  True]\n",
      " [ True  True  True]\n",
      " [ True  True  True]\n",
      " [ True  True  True]\n",
      " [ True  True  True]\n",
      " [ True  True  True]\n",
      " [ True  True  True]\n",
      " [ True  True  True]\n",
      " [ True  True  True]\n",
      " [ True  True  True]\n",
      " [ True  True  True]\n",
      " [ True  True  True]\n",
      " [ True  True  True]\n",
      " [ True  True  True]\n",
      " [ True  True  True]\n",
      " [ True  True  True]\n",
      " [ True  True  True]\n",
      " [ True  True  True]\n",
      " [ True  True  True]\n",
      " [ True  True  True]\n",
      " [ True  True  True]\n",
      " [ True  True  True]\n",
      " [ True  True  True]\n",
      " [ True  True  True]\n",
      " [ True  True  True]\n",
      " [ True  True  True]\n",
      " [ True  True  True]\n",
      " [ True  True  True]\n",
      " [ True  True  True]\n",
      " [ True  True  True]\n",
      " [ True  True  True]\n",
      " [ True  True  True]\n",
      " [ True  True  True]\n",
      " [ True  True  True]\n",
      " [ True  True  True]\n",
      " [ True  True  True]\n",
      " [ True  True  True]\n",
      " [ True  True  True]\n",
      " [ True  True  True]\n",
      " [ True  True  True]\n",
      " [ True  True  True]\n",
      " [ True  True  True]\n",
      " [ True  True  True]\n",
      " [ True  True  True]\n",
      " [ True  True  True]\n",
      " [ True  True  True]\n",
      " [ True  True  True]\n",
      " [ True  True  True]\n",
      " [ True  True  True]\n",
      " [ True  True  True]\n",
      " [ True  True  True]\n",
      " [ True  True  True]\n",
      " [ True  True  True]\n",
      " [ True  True  True]\n",
      " [ True  True  True]\n",
      " [ True  True  True]\n",
      " [ True  True  True]\n",
      " [ True  True  True]\n",
      " [ True  True  True]\n",
      " [ True  True  True]\n",
      " [ True  True  True]\n",
      " [ True  True  True]\n",
      " [ True  True  True]\n",
      " [ True  True  True]\n",
      " [ True  True  True]\n",
      " [ True  True  True]\n",
      " [ True  True  True]\n",
      " [ True  True  True]\n",
      " [ True  True  True]\n",
      " [ True  True  True]\n",
      " [ True  True  True]\n",
      " [ True  True  True]\n",
      " [ True  True  True]\n",
      " [ True  True  True]\n",
      " [ True  True  True]\n",
      " [ True  True  True]\n",
      " [ True  True  True]\n",
      " [ True  True  True]\n",
      " [ True  True  True]\n",
      " [ True  True  True]\n",
      " [ True  True  True]\n",
      " [ True  True  True]\n",
      " [ True  True  True]\n",
      " [ True  True  True]\n",
      " [ True  True  True]\n",
      " [ True  True  True]\n",
      " [ True  True  True]\n",
      " [ True  True  True]\n",
      " [ True  True  True]\n",
      " [ True  True  True]\n",
      " [ True  True  True]\n",
      " [ True  True  True]\n",
      " [ True  True  True]\n",
      " [ True  True  True]\n",
      " [ True  True  True]\n",
      " [ True  True  True]\n",
      " [ True  True  True]\n",
      " [ True  True  True]\n",
      " [ True  True  True]\n",
      " [ True  True  True]\n",
      " [ True  True  True]\n",
      " [ True  True  True]\n",
      " [ True  True  True]\n",
      " [ True  True  True]\n",
      " [ True  True  True]\n",
      " [ True  True  True]\n",
      " [ True  True  True]\n",
      " [ True  True  True]\n",
      " [ True  True  True]\n",
      " [ True  True  True]\n",
      " [ True  True  True]\n",
      " [ True  True  True]\n",
      " [ True  True  True]\n",
      " [ True  True  True]\n",
      " [ True  True  True]\n",
      " [ True  True  True]\n",
      " [ True  True  True]\n",
      " [ True  True  True]\n",
      " [ True  True  True]\n",
      " [ True  True  True]\n",
      " [ True  True  True]\n",
      " [ True  True  True]\n",
      " [ True  True  True]\n",
      " [ True  True  True]\n",
      " [ True  True  True]\n",
      " [ True  True  True]\n",
      " [ True  True  True]\n",
      " [ True  True  True]\n",
      " [ True  True  True]\n",
      " [ True  True  True]\n",
      " [ True  True  True]\n",
      " [ True  True  True]\n",
      " [ True  True  True]\n",
      " [ True  True  True]\n",
      " [ True  True  True]\n",
      " [ True  True  True]\n",
      " [ True  True  True]\n",
      " [ True  True  True]\n",
      " [ True  True  True]\n",
      " [ True  True  True]\n",
      " [ True  True  True]\n",
      " [ True  True  True]\n",
      " [ True  True  True]\n",
      " [ True  True  True]\n",
      " [ True  True  True]\n",
      " [ True  True  True]\n",
      " [ True  True  True]\n",
      " [ True  True  True]\n",
      " [ True  True  True]\n",
      " [ True  True  True]\n",
      " [ True  True  True]\n",
      " [ True  True  True]\n",
      " [ True  True  True]\n",
      " [ True  True  True]\n",
      " [ True  True  True]\n",
      " [ True  True  True]\n",
      " [ True  True  True]\n",
      " [ True  True  True]\n",
      " [ True  True  True]\n",
      " [ True  True  True]\n",
      " [ True  True  True]\n",
      " [ True  True  True]\n",
      " [ True  True  True]\n",
      " [ True  True  True]\n",
      " [ True  True  True]\n",
      " [ True  True  True]\n",
      " [ True  True  True]\n",
      " [ True  True  True]\n",
      " [ True  True  True]\n",
      " [ True  True  True]\n",
      " [ True  True  True]\n",
      " [ True  True  True]\n",
      " [ True  True  True]\n",
      " [ True  True  True]\n",
      " [ True  True  True]\n",
      " [ True  True  True]\n",
      " [ True  True  True]\n",
      " [ True  True  True]\n",
      " [ True  True  True]\n",
      " [ True  True  True]\n",
      " [ True  True  True]\n",
      " [ True  True  True]\n",
      " [ True  True  True]\n",
      " [ True  True  True]\n",
      " [ True  True  True]\n",
      " [ True  True  True]\n",
      " [ True  True  True]\n",
      " [ True  True  True]\n",
      " [ True  True  True]\n",
      " [ True  True  True]\n",
      " [ True  True  True]\n",
      " [ True  True  True]\n",
      " [ True  True  True]\n",
      " [ True  True  True]\n",
      " [ True  True  True]\n",
      " [ True  True  True]\n",
      " [ True  True  True]\n",
      " [ True  True  True]\n",
      " [ True  True  True]\n",
      " [ True  True  True]\n",
      " [ True  True  True]\n",
      " [ True  True  True]\n",
      " [ True  True  True]\n",
      " [ True  True  True]\n",
      " [ True  True  True]\n",
      " [ True  True  True]\n",
      " [ True  True  True]\n",
      " [ True  True  True]\n",
      " [ True  True  True]\n",
      " [ True  True  True]\n",
      " [ True  True  True]\n",
      " [ True  True  True]\n",
      " [ True  True  True]\n",
      " [ True  True  True]\n",
      " [ True  True  True]\n",
      " [ True  True  True]\n",
      " [ True  True  True]\n",
      " [ True  True  True]\n",
      " [ True  True  True]\n",
      " [ True  True  True]\n",
      " [ True  True  True]\n",
      " [ True  True  True]\n",
      " [ True  True  True]\n",
      " [ True  True  True]\n",
      " [ True  True  True]\n",
      " [ True  True  True]\n",
      " [ True  True  True]\n",
      " [ True  True  True]\n",
      " [ True  True  True]\n",
      " [ True  True  True]\n",
      " [ True  True  True]\n",
      " [ True  True  True]\n",
      " [ True  True  True]\n",
      " [ True  True  True]\n",
      " [ True  True  True]\n",
      " [ True  True  True]\n",
      " [ True  True  True]\n",
      " [ True  True  True]\n",
      " [ True  True  True]\n",
      " [ True  True  True]\n",
      " [ True  True  True]]\n"
     ]
    }
   ],
   "source": [
    "print(jnp.isclose(centroid_0, centroid_2, atol=1e-7))"
   ]
  },
  {
   "cell_type": "code",
   "execution_count": 7,
   "id": "397c68d7",
   "metadata": {},
   "outputs": [],
   "source": [
    "n_verts = jsb_coils[0].positions.shape[0]"
   ]
  },
  {
   "cell_type": "code",
   "execution_count": 8,
   "id": "44328931",
   "metadata": {},
   "outputs": [
    {
     "name": "stdout",
     "output_type": "stream",
     "text": [
      "[-0.97454579  0.06494227 -0.21457636]\n",
      "[-0.97212571  0.01338892 -0.23407762]\n"
     ]
    }
   ],
   "source": [
    "print(sbcoils[0].Tangent(28 /  (n_verts) ))\n",
    "print(sbcoils[0].Tangent(29 /  (n_verts ) + 1e-10))"
   ]
  },
  {
   "cell_type": "code",
   "execution_count": 9,
   "id": "c2d2ef8a",
   "metadata": {},
   "outputs": [],
   "source": [
    "mesh_sbg = sbcoils[0].Mesh_Triangles_Centroid(0.3,0.5, ns)\n",
    "\n",
    "\n",
    "connectivity_sbg = mesh_sbg.connectivity\n",
    "\n",
    "\n"
   ]
  },
  {
   "cell_type": "code",
   "execution_count": 10,
   "id": "045524e1",
   "metadata": {},
   "outputs": [
    {
     "data": {
      "application/vnd.jupyter.widget-view+json": {
       "model_id": "2a68b0fabb56447eb590d8f385a0952c",
       "version_major": 2,
       "version_minor": 0
      },
      "text/plain": [
       "Widget(value='<iframe src=\"http://localhost:43521/index.html?ui=P_0x7958747a0b30_0&reconnect=auto\" class=\"pyvi…"
      ]
     },
     "metadata": {},
     "output_type": "display_data"
    }
   ],
   "source": [
    "import pyvista as pv\n",
    "sbmesh = mesh_sbg.to_pyvista()\n",
    "jmesh = SBGeom.Mesh.Mesh(onp.array(centroid_1).reshape(-1,3), connectivity_sbg).to_pyvista()\n",
    "\n",
    "plotter= pv.Plotter(shape = (1,2))\n",
    "\n",
    "plotter.subplot(0,0)\n",
    "plotter.add_mesh(sbmesh)\n",
    "plotter.add_mesh(jmesh, color = 'red' )\n",
    "plotter.subplot(0,1)\n",
    "\n",
    "\n",
    "plotter.show()"
   ]
  },
  {
   "cell_type": "code",
   "execution_count": 11,
   "id": "2c564a73",
   "metadata": {},
   "outputs": [
    {
     "data": {
      "text/plain": [
       "Array([[ 0.27447318,  0.1055702 ,  0.95578209],\n",
       "       [ 0.16229381,  0.97461059, -0.15425601]], dtype=float64)"
      ]
     },
     "execution_count": 11,
     "metadata": {},
     "output_type": "execute_result"
    }
   ],
   "source": [
    "def _sampling_s(n_s : int = 1000):\n",
    "    return jnp.linspace(0.0, 1.0, n_s)\n",
    "\n",
    "\n",
    "\n",
    "jsc.base_coil._finite_size_frame_centroid(jsb_coils[0], 0.2)\n"
   ]
  },
  {
   "cell_type": "code",
   "execution_count": 12,
   "id": "ffdb4196",
   "metadata": {},
   "outputs": [],
   "source": [
    "_check_single_vectorized_internal(c_jax.position)"
   ]
  },
  {
   "cell_type": "code",
   "execution_count": 13,
   "id": "d2d36539",
   "metadata": {},
   "outputs": [],
   "source": [
    "forward_tangent = jnp.vectorize(jax.jacfwd(jsc.discrete_coil._discrete_coil_position, argnums = (1)), excluded = (0,),  signature='()->(3)')"
   ]
  },
  {
   "cell_type": "code",
   "execution_count": 14,
   "id": "5169c6d4",
   "metadata": {},
   "outputs": [
    {
     "data": {
      "text/plain": [
       "[<matplotlib.lines.Line2D at 0x79570415d160>]"
      ]
     },
     "execution_count": 14,
     "metadata": {},
     "output_type": "execute_result"
    },
    {
     "data": {
      "image/png": "[encoded data removed]",
      "text/plain": [
       "<Figure size 640x480 with 1 Axes>"
      ]
     },
     "metadata": {},
     "output_type": "display_data"
    }
   ],
   "source": [
    "def print_tan(s):\n",
    "    tan = c_jax.tangent(s)\n",
    "    tan2 =  tan / jnp.linalg.norm(tan, axis=-1, keepdims=True)\n",
    "    return tan2\n",
    "\n",
    "import matplotlib.pyplot as plt\n",
    "plt.plot(print_tan(jnp.linspace(0.0, 2.0, 1000))[:,0])"
   ]
  },
  {
   "cell_type": "code",
   "execution_count": null,
   "id": "a8995c7e",
   "metadata": {},
   "outputs": [],
   "source": []
  },
  {
   "cell_type": "code",
   "execution_count": 15,
   "id": "ae626527",
   "metadata": {},
   "outputs": [
    {
     "name": "stdout",
     "output_type": "stream",
     "text": [
      "[-0.94061089  0.17715166  0.28960048]\n"
     ]
    }
   ],
   "source": [
    "finite_diff_tangent = (c_sbgeom.Position(0.2 + 1e-5) - c_sbgeom.Position(0.2 - 1e-5)) / (2e-5)\n",
    "print(finite_diff_tangent / onp.linalg.norm(finite_diff_tangent))"
   ]
  },
  {
   "cell_type": "code",
   "execution_count": 16,
   "id": "e51b7f3e",
   "metadata": {},
   "outputs": [
    {
     "data": {
      "text/plain": [
       "array([ 0.51905794, -0.73056176,  0.44368725])"
      ]
     },
     "execution_count": 16,
     "metadata": {},
     "output_type": "execute_result"
    }
   ],
   "source": [
    "c_sbgeom.Tangent(1.0)"
   ]
  },
  {
   "cell_type": "code",
   "execution_count": 17,
   "id": "630b4caf",
   "metadata": {},
   "outputs": [
    {
     "data": {
      "text/plain": [
       "Array([18.62909802, 14.03445065,  2.9819    ], dtype=float64)"
      ]
     },
     "execution_count": 17,
     "metadata": {},
     "output_type": "execute_result"
    }
   ],
   "source": [
    "c_jax.position(0.2)"
   ]
  },
  {
   "cell_type": "code",
   "execution_count": 18,
   "id": "e7ecdec1",
   "metadata": {},
   "outputs": [
    {
     "ename": "TypeError",
     "evalue": "DiscreteCoil.__init__() missing 2 required positional arguments: 'positions' and '_centre_i'",
     "output_type": "error",
     "traceback": [
      "\u001b[31m---------------------------------------------------------------------------\u001b[39m",
      "\u001b[31mTypeError\u001b[39m                                 Traceback (most recent call last)",
      "\u001b[36mCell\u001b[39m\u001b[36m \u001b[39m\u001b[32mIn[18]\u001b[39m\u001b[32m, line 1\u001b[39m\n\u001b[32m----> \u001b[39m\u001b[32m1\u001b[39m \u001b[43mjsc\u001b[49m\u001b[43m.\u001b[49m\u001b[43mDiscreteCoil\u001b[49m\u001b[43m(\u001b[49m\u001b[43m)\u001b[49m\n",
      "\u001b[31mTypeError\u001b[39m: DiscreteCoil.__init__() missing 2 required positional arguments: 'positions' and '_centre_i'"
     ]
    }
   ],
   "source": [
    "jsc.DiscreteCoil()"
   ]
  }
 ],
 "metadata": {
  "kernelspec": {
   "display_name": "stellsim",
   "language": "python",
   "name": "python3"
  },
  "language_info": {
   "codemirror_mode": {
    "name": "ipython",
    "version": 3
   },
   "file_extension": ".py",
   "mimetype": "text/x-python",
   "name": "python",
   "nbconvert_exporter": "python",
   "pygments_lexer": "ipython3",
   "version": "3.12.11"
  }
 },
 "nbformat": 4,
 "nbformat_minor": 5
}
