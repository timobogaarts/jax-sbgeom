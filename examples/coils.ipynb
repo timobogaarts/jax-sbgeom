{
 "cells": [
  {
   "cell_type": "code",
   "execution_count": 1,
   "id": "5c1f39c4",
   "metadata": {},
   "outputs": [
    {
     "name": "stdout",
     "output_type": "stream",
     "text": [
      "Triangle Elements not compiled\n"
     ]
    }
   ],
   "source": [
    "# import os\n",
    "# os.environ[\"JAX_PLATFORM_NAME\"] = \"cpu\"\n",
    "\n",
    "import jax_sbgeom as jsb\n",
    "%load_ext autoreload\n",
    "%autoreload 2\n",
    "import jax.numpy as jnp\n",
    "import jax\n",
    "jax.config.update(\"jax_enable_x64\", True)\n",
    "import numpy as onp\n",
    "import sys \n",
    "import os\n",
    "\n",
    "project_root = os.path.abspath(os.path.join(os.getcwd(), \"..\"))\n",
    "sys.path.append(project_root)\n",
    "\n",
    "import StellBlanket.SBGeom as SBGeom\n",
    "from functools import partial\n",
    "import jax_sbgeom.coils as jsc\n",
    "\n",
    "from tests.coils.test_coils import _check_single_vectorized_internal\n",
    "import pyvista as pv\n",
    "from dataclasses import dataclass\n",
    "\n",
    "\n",
    "vmec_files = [\"/home/tbogaarts/stellarator_paper/base_data/vmecs/helias3_vmec.nc4\", \"/home/tbogaarts/stellarator_paper/base_data/vmecs/helias5_vmec.nc4\", \"/home/tbogaarts/stellarator_paper/base_data/vmecs/squid_vmec.nc4\"]\n",
    "vmec_file = vmec_files[2]\n",
    "\n",
    "coil_files = [\"/home/tbogaarts/stellarator_paper/base_data/vmecs/HELIAS3_coils_all.h5\", \"/home/tbogaarts/stellarator_paper/base_data/vmecs/HELIAS5_coils_all.h5\", \"/home/tbogaarts/stellarator_paper/base_data/vmecs/squid_coilset.h5\"]"
   ]
  },
  {
   "cell_type": "code",
   "execution_count": 2,
   "id": "0e2bc7df",
   "metadata": {},
   "outputs": [
    {
     "name": "stdout",
     "output_type": "stream",
     "text": [
      "40\n"
     ]
    }
   ],
   "source": [
    "def _get_discrete_coils(coil_file, coil_index=0):\n",
    "    sbgeom_coils = SBGeom.Coils.Discrete_Coil_Set_From_HDF5(coil_file)\n",
    "    print(sbgeom_coils.Number_of_Coils())\n",
    "    coil_0 = sbgeom_coils[coil_index]\n",
    "    coil_0_jsc = jsc.DiscreteCoil.from_positions(coil_0.Get_Vertices())\n",
    "    return coil_0_jsc, coil_0\n",
    "\n",
    "c_jax, c_sbgeom = _get_discrete_coils(coil_files[2])"
   ]
  },
  {
   "cell_type": "code",
   "execution_count": 3,
   "id": "4b1504ab",
   "metadata": {},
   "outputs": [],
   "source": [
    "class bb:\n",
    "    param : str\n",
    "    def __init__(self, param):\n",
    "        self.param = param\n",
    "\n",
    "def _get_all_discrete_coils(request):    \n",
    "    coilset_sbgeom = SBGeom.Coils.Discrete_Coil_Set_From_HDF5(request.param)    \n",
    "    coilset_jaxsbgeom = jsb.coils.CoilSet([jsb.coils.DiscreteCoil.from_positions(coilset_sbgeom[i].Get_Vertices()) for i in range(coilset_sbgeom.Number_of_Coils())])\n",
    "    \n",
    "    return coilset_jaxsbgeom, coilset_sbgeom\n",
    "\n",
    "\n",
    "jsbc, sbgc = _get_all_discrete_coils(bb(coil_files[1]))"
   ]
  },
  {
   "cell_type": "code",
   "execution_count": 4,
   "id": "654d0b5f",
   "metadata": {},
   "outputs": [],
   "source": [
    "s = jnp.linspace(0, 1.0, 1000, endpoint =False)\n",
    "filament = jsbc[0].position(s)\n",
    "radial_vec = jsc.discrete_coil._discrete_coil_compute_rmf(jsbc[0], 1000)\n"
   ]
  },
  {
   "cell_type": "code",
   "execution_count": 5,
   "id": "931ecaa2",
   "metadata": {},
   "outputs": [],
   "source": [
    "ns_reinterp = 100\n",
    "\n",
    "s_reinterp = jnp.linspace(0, 1.0, ns_reinterp, endpoint=False)\n",
    "s_reinterp = 0.1\n",
    "\n",
    "radial_vec_new = jsc.discrete_coil._discrete_coil_rmf(jsbc[0], s_reinterp, 1000)"
   ]
  },
  {
   "cell_type": "code",
   "execution_count": 6,
   "id": "d05ae093",
   "metadata": {},
   "outputs": [],
   "source": [
    "filament_new = jsbc[0].position(s_reinterp)"
   ]
  },
  {
   "cell_type": "code",
   "execution_count": 7,
   "id": "aa4bed87",
   "metadata": {},
   "outputs": [],
   "source": [
    "def ref(s):\n",
    "    return jsc.discrete_coil._discrete_coil_rmf(jsbc[0], s, 1000)"
   ]
  },
  {
   "cell_type": "code",
   "execution_count": 8,
   "id": "e9229338",
   "metadata": {},
   "outputs": [
    {
     "name": "stdout",
     "output_type": "stream",
     "text": [
      "[[-0.13092573  0.06594186  0.26174438]\n",
      " [-0.220478   -0.19395058 -0.06142169]]\n"
     ]
    }
   ],
   "source": [
    "ns = 3\n",
    "s_new = jnp.linspace(0, 1.0, ns, endpoint=False)\n",
    "finite_sizes =jsc.discrete_coil._discrete_coil_finite_size(jsbc[0], s_new, 0.3,0.3, method=\"rmf\", number_of_rmf_samples=ns)"
   ]
  },
  {
   "cell_type": "code",
   "execution_count": 9,
   "id": "b6110cec",
   "metadata": {},
   "outputs": [],
   "source": [
    "f3 = jnp.moveaxis(finite_sizes, 1, 0)"
   ]
  },
  {
   "cell_type": "code",
   "execution_count": 10,
   "id": "176ce2e0",
   "metadata": {},
   "outputs": [
    {
     "name": "stdout",
     "output_type": "stream",
     "text": [
      "[[-0.13092573  0.06594186  0.26174438]\n",
      " [-0.220478   -0.19395058 -0.06142169]]\n"
     ]
    }
   ],
   "source": [
    "finite_sizes =jsc.discrete_coil._discrete_coil_finite_size(jsbc[0], s_new, 0.3,0.3, method=\"rmf\", number_of_rmf_samples=ns)"
   ]
  },
  {
   "cell_type": "code",
   "execution_count": 11,
   "id": "31c1a4ee",
   "metadata": {},
   "outputs": [
    {
     "name": "stdout",
     "output_type": "stream",
     "text": [
      "[[-0.13092573  0.06594186  0.26174438]\n",
      " [-0.220478   -0.19395058 -0.06142169]]\n",
      "POS 0\n",
      " POS:\n",
      "20.1634\n",
      "17.3145\n",
      " 0.7402\n",
      "DISPR\n",
      "-0.130926\n",
      "0.0659419\n",
      " 0.261744\n",
      "DISPPHI\n",
      "  -0.220478\n",
      " -0.193951\n",
      "-0.0614217\n",
      "POS 1\n",
      " POS:\n",
      "18.6291\n",
      "14.0345\n",
      " 2.9819\n",
      "DISPR\n",
      " 0.0441167\n",
      "  0.290216\n",
      "-0.0618734\n",
      "DISPPHI\n",
      "  -0.084879\n",
      "-0.0475981\n",
      " -0.283778\n",
      "POS 2\n",
      " POS:\n",
      "12.9731\n",
      "13.1064\n",
      " 2.4738\n",
      "DISPR\n",
      "-0.148627\n",
      "  0.08976\n",
      "-0.244649\n",
      "DISPPHI\n",
      "  0.221337\n",
      "-0.105178\n",
      "-0.173054\n",
      "POS 3\n",
      " POS:\n",
      "13.0612\n",
      "10.4064\n",
      "-3.7326\n",
      "DISPR\n",
      "0.00068976\n",
      "  0.252449\n",
      "  0.162077\n",
      "DISPPHI\n",
      "  0.229928\n",
      "-0.104552\n",
      "  0.16187\n",
      "POS 4\n",
      " POS:\n",
      "18.3134\n",
      "14.6367\n",
      "-3.2566\n",
      "DISPR\n",
      " -0.173819\n",
      "-0.0302045\n",
      "  0.242641\n",
      "DISPPHI\n",
      "    0.23649\n",
      "-0.0964059\n",
      "  0.157411\n",
      "[[[19.81194874 17.18648692  0.9405227 ]\n",
      "  [18.58833566 14.2770687   2.63624857]\n",
      "  [13.0458056  13.09097484  2.05609718]\n",
      "  [13.29183387 10.55434169 -3.408653  ]\n",
      "  [18.37607661 14.5101025  -2.85654738]]\n",
      "\n",
      " [[20.0738002  17.05460319  0.41703393]\n",
      "  [18.5001023  13.69663644  2.75999536]\n",
      "  [13.34306022 12.9114548   2.54539488]\n",
      "  [13.29045435 10.04944308 -3.7328065 ]\n",
      "  [18.72371391 14.57051156 -3.34182982]]\n",
      "\n",
      " [[20.25290474 17.57438808  1.06336607]\n",
      "  [18.75809374 14.37226485  3.20380464]\n",
      "  [12.60313254 13.30133135  2.40220512]\n",
      "  [12.8319775  10.76344505 -3.7323935 ]\n",
      "  [17.90309644 14.70291425 -3.17137018]]\n",
      "\n",
      " [[20.51475621 17.44250435  0.5398773 ]\n",
      "  [18.66986038 13.79183259  3.32755143]\n",
      "  [12.90038716 13.1218113   2.89150282]\n",
      "  [12.83059798 10.25854644 -4.056547  ]\n",
      "  [18.25073375 14.76332331 -3.65665262]]]\n",
      "[[19.81194874 17.18648692  0.9405227 ]\n",
      " [18.58833566 14.2770687   2.63624857]\n",
      " [13.0458056  13.09097484  2.05609718]\n",
      " [13.29183387 10.55434169 -3.408653  ]\n",
      " [18.37607661 14.5101025  -2.85654738]\n",
      " [20.0738002  17.05460319  0.41703393]\n",
      " [18.5001023  13.69663644  2.75999536]\n",
      " [13.34306022 12.9114548   2.54539488]\n",
      " [13.29045435 10.04944308 -3.7328065 ]\n",
      " [18.72371391 14.57051156 -3.34182982]\n",
      " [20.25290474 17.57438808  1.06336607]\n",
      " [18.75809374 14.37226485  3.20380464]\n",
      " [12.60313254 13.30133135  2.40220512]\n",
      " [12.8319775  10.76344505 -3.7323935 ]\n",
      " [17.90309644 14.70291425 -3.17137018]\n",
      " [20.51475621 17.44250435  0.5398773 ]\n",
      " [18.66986038 13.79183259  3.32755143]\n",
      " [12.90038716 13.1218113   2.89150282]\n",
      " [12.83059798 10.25854644 -4.056547  ]\n",
      " [18.25073375 14.76332331 -3.65665262]]\n"
     ]
    }
   ],
   "source": [
    "ns = 5\n",
    "s_new = jnp.linspace(0, 1.0, ns, endpoint=False)\n",
    "finite_sizes =jsc.discrete_coil._discrete_coil_finite_size(jsbc[0], s_new, 0.3,0.3, method=\"rmf\", number_of_rmf_samples=ns)\n",
    "finite_sizes2 = sbgc[0].Finite_Size_Lines_RMF(0.3, 0.3, ns)\n",
    "f3 = jnp.moveaxis(finite_sizes, 1, 0)\n",
    "print(f3)\n",
    "print(finite_sizes2)"
   ]
  },
  {
   "cell_type": "code",
   "execution_count": 12,
   "id": "fa6c6a94",
   "metadata": {},
   "outputs": [
    {
     "data": {
      "application/vnd.jupyter.widget-view+json": {
       "model_id": "be1b933c788b49399f02e70ca17f4a47",
       "version_major": 2,
       "version_minor": 0
      },
      "text/plain": [
       "Widget(value='<iframe src=\"http://localhost:43183/index.html?ui=P_0x7ca7e77246e0_0&reconnect=auto\" class=\"pyvi…"
      ]
     },
     "metadata": {},
     "output_type": "display_data"
    }
   ],
   "source": [
    "\n",
    "plotter = pv.Plotter()\n",
    "pline = pv.Spline(filament)\n",
    "plotter.add_mesh(pline, color='red', line_width=2)\n",
    "\n",
    "plotter.add_arrows(onp.array(filament), onp.array(radial_vec), mag=0.2, color='blue')\n",
    "plotter.add_arrows(onp.array(filament_new), onp.array(radial_vec_new), mag=0.2, color='red')\n",
    "\n",
    "plotter.show()"
   ]
  },
  {
   "cell_type": "code",
   "execution_count": 13,
   "id": "5a8cee41",
   "metadata": {},
   "outputs": [
    {
     "name": "stdout",
     "output_type": "stream",
     "text": [
      "[[ 0.49424112  0.02022878 -0.07291442]\n",
      " [ 0.0083912   0.26944858  0.13163225]]\n"
     ]
    },
    {
     "data": {
      "text/plain": [
       "Array(True, dtype=bool)"
      ]
     },
     "execution_count": 13,
     "metadata": {},
     "output_type": "execute_result"
    }
   ],
   "source": [
    "ns = 7000\n",
    "coil = c_sbgeom\n",
    "jsb_coils = [c_jax]\n",
    "s_new = jnp.linspace(0.0, 1.0, ns, endpoint=False)\n",
    "centroid_0 = coil.Finite_Size_Lines_Centroid(0.3, 0.5, ns) \n",
    "\n",
    "centroid_1 = c_jax.finite_size(s_new, 0.5, 0.3, \"centroid\")\n",
    "centroid_2 = jnp.moveaxis(centroid_1, 1,0).reshape(-1,3)\n",
    "\n",
    "jnp.allclose(centroid_0, centroid_2, atol=1e-7)"
   ]
  }
 ],
 "metadata": {
  "kernelspec": {
   "display_name": "stellsim",
   "language": "python",
   "name": "python3"
  },
  "language_info": {
   "codemirror_mode": {
    "name": "ipython",
    "version": 3
   },
   "file_extension": ".py",
   "mimetype": "text/x-python",
   "name": "python",
   "nbconvert_exporter": "python",
   "pygments_lexer": "ipython3",
   "version": "3.12.11"
  }
 },
 "nbformat": 4,
 "nbformat_minor": 5
}
