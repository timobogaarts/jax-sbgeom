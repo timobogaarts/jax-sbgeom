{
 "cells": [
  {
   "cell_type": "code",
   "execution_count": null,
   "id": "5c1f39c4",
   "metadata": {},
   "outputs": [],
   "source": [
    "# import os\n",
    "# os.environ[\"JAX_PLATFORM_NAME\"] = \"cpu\"\n",
    "\n",
    "import jax_sbgeom as jsb\n",
    "%load_ext autoreload\n",
    "%autoreload 2\n",
    "import jax.numpy as jnp\n",
    "import jax\n",
    "jax.config.update(\"jax_enable_x64\", True)\n",
    "import numpy as onp\n",
    "import sys \n",
    "import os\n",
    "\n",
    "project_root = os.path.abspath(os.path.join(os.getcwd(), \"..\"))\n",
    "sys.path.append(project_root)\n",
    "\n",
    "import StellBlanket.SBGeom as SBGeom\n",
    "from functools import partial\n",
    "import jax_sbgeom.coils as jsc\n",
    "\n",
    "from tests.coils.test_coils import _check_single_vectorized\n",
    "import pyvista as pv\n",
    "from dataclasses import dataclass\n",
    "\n",
    "from jax_sbgeom.jax_utils.utils import _mesh_to_pyvista_mesh\n",
    "\n",
    "\n",
    "vmec_files = [\"/home/tbogaarts/stellarator_paper/base_data/vmecs/helias3_vmec.nc4\", \"/home/tbogaarts/stellarator_paper/base_data/vmecs/helias5_vmec.nc4\", \"/home/tbogaarts/stellarator_paper/base_data/vmecs/squid_vmec.nc4\"]\n",
    "vmec_file = vmec_files[0]\n",
    "\n",
    "coil_files = [\"/home/tbogaarts/stellarator_paper/base_data/vmecs/HELIAS3_coils_all.h5\", \"/home/tbogaarts/stellarator_paper/base_data/vmecs/HELIAS5_coils_all.h5\", \"/home/tbogaarts/stellarator_paper/base_data/vmecs/squid_coilset.h5\"]"
   ]
  },
  {
   "cell_type": "code",
   "execution_count": null,
   "id": "4b1504ab",
   "metadata": {},
   "outputs": [],
   "source": [
    "class bb:\n",
    "    param : str\n",
    "    def __init__(self, param):\n",
    "        self.param = param\n",
    "\n",
    "def _get_all_discrete_coils(request):    \n",
    "    coilset_sbgeom = SBGeom.Coils.Discrete_Coil_Set_From_HDF5(request.param)    \n",
    "    coilset_jaxsbgeom = [jsb.coils.DiscreteCoil.from_positions(coilset_sbgeom[i].Get_Vertices()) for i in range(coilset_sbgeom.Number_of_Coils())]\n",
    "    \n",
    "    return coilset_jaxsbgeom, coilset_sbgeom\n",
    "\n",
    "def _get_all_fourier_coils_trunc(request):\n",
    "    coilset_sbgeom = SBGeom.Coils.Discrete_Coil_Set_From_HDF5(request.param)\n",
    "    coilset_fourier = SBGeom.Coils.Convert_to_Fourier_Coils(coilset_sbgeom, Nftrunc = 20)\n",
    "    \n",
    "    coilset_jax = [jsb.coils.FourierCoil(jnp.array(i.Get_Fourier_Cos()), jnp.array(i.Get_Fourier_Sin()), jnp.array(i.Get_Centre())) for i in coilset_fourier]\n",
    "    return coilset_jax, coilset_fourier\n",
    "    \n",
    "\n",
    "dcoils_jax, coils_sbgeom = _get_all_discrete_coils(bb(coil_files[0]))\n",
    "coils_jax, coils_sbgeom = _get_all_fourier_coils_trunc(bb(coil_files[0]))"
   ]
  },
  {
   "cell_type": "code",
   "execution_count": null,
   "id": "e85b79e1",
   "metadata": {},
   "outputs": [],
   "source": [
    "jsc.CoilSet.from_list(dcoils_jax[0:2] + coils_jax[0:1]).position(jnp.array([0.0, 1.0]))"
   ]
  },
  {
   "cell_type": "code",
   "execution_count": null,
   "id": "0b61f1f8",
   "metadata": {},
   "outputs": [],
   "source": [
    "def check_vector_coilset(coils_jax):\n",
    "    s =  jnp.linspace(0, 1, 1000)\n",
    "\n",
    "    pos_base = []\n",
    "    tan_base = []\n",
    "\n",
    "    for i in coils_jax:\n",
    "        pos_base.append(i.position(s))\n",
    "        tan_base.append(i.tangent(s))\n",
    "\n",
    "    pos_base = jnp.array(pos_base)\n",
    "    tan_base = jnp.array(tan_base)\n",
    "\n",
    "    coilsetv = jsb.coils.CoilSet.from_list(coils_jax)\n",
    "\n",
    "\n",
    "    pos_vec = coilsetv.position(s)\n",
    "    tan_vec = coilsetv.tangent(s)\n",
    "\n",
    "    onp.testing.assert_allclose(pos_base, pos_vec)\n",
    "    onp.testing.assert_allclose(tan_base, tan_vec)\n",
    "\n",
    "\n",
    "check_vector_coilset(dcoils_jax)\n",
    "    "
   ]
  },
  {
   "cell_type": "code",
   "execution_count": null,
   "id": "407fb06c",
   "metadata": {},
   "outputs": [],
   "source": [
    "coilset_v = jsb.coils.CoilSet.from_list(coils_jax)"
   ]
  },
  {
   "cell_type": "code",
   "execution_count": null,
   "id": "89aad4b8",
   "metadata": {},
   "outputs": [],
   "source": [
    "def coil_position(coil, s):\n",
    "    return coil.position(s)\n",
    "\n",
    "\n",
    "\n",
    "jax.vmap(coil_position, in_axes=(0, None))(coilset_v.coils, jnp.linspace(0, 1, 5))"
   ]
  },
  {
   "cell_type": "code",
   "execution_count": null,
   "id": "81a331bc",
   "metadata": {},
   "outputs": [],
   "source": [
    "coilset_v.coils.fourier_cos.shape[:-2]"
   ]
  },
  {
   "cell_type": "code",
   "execution_count": null,
   "id": "4f070de0",
   "metadata": {},
   "outputs": [],
   "source": [
    "coilset_v.position(0.0)"
   ]
  }
 ],
 "metadata": {
  "kernelspec": {
   "display_name": "stellsim",
   "language": "python",
   "name": "python3"
  },
  "language_info": {
   "codemirror_mode": {
    "name": "ipython",
    "version": 3
   },
   "file_extension": ".py",
   "mimetype": "text/x-python",
   "name": "python",
   "nbconvert_exporter": "python",
   "pygments_lexer": "ipython3",
   "version": "3.12.11"
  }
 },
 "nbformat": 4,
 "nbformat_minor": 5
}
