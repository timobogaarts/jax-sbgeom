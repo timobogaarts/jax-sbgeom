{
 "cells": [
  {
   "cell_type": "code",
   "execution_count": null,
   "id": "5c1f39c4",
   "metadata": {},
   "outputs": [],
   "source": [
    "# import os\n",
    "# os.environ[\"JAX_PLATFORM_NAME\"] = \"cpu\"\n",
    "\n",
    "import jax_sbgeom as jsb\n",
    "%load_ext autoreload\n",
    "%autoreload 2\n",
    "import jax.numpy as jnp\n",
    "import jax\n",
    "jax.config.update(\"jax_enable_x64\", True)\n",
    "import numpy as onp\n",
    "import sys \n",
    "import os\n",
    "\n",
    "project_root = os.path.abspath(os.path.join(os.getcwd(), \"..\"))\n",
    "sys.path.append(project_root)\n",
    "\n",
    "import StellBlanket.SBGeom as SBGeom\n",
    "from functools import partial\n",
    "import jax_sbgeom.coils as jsc\n",
    "\n",
    "from tests.coils.test_coils import _check_single_vectorized_internal\n",
    "import pyvista as pv\n",
    "from dataclasses import dataclass\n",
    "\n",
    "from jax_sbgeom.jax_utils.utils import _mesh_to_pyvista_mesh\n",
    "\n",
    "\n",
    "vmec_files = [\"/home/tbogaarts/stellarator_paper/base_data/vmecs/helias3_vmec.nc4\", \"/home/tbogaarts/stellarator_paper/base_data/vmecs/helias5_vmec.nc4\", \"/home/tbogaarts/stellarator_paper/base_data/vmecs/squid_vmec.nc4\"]\n",
    "vmec_file = vmec_files[2]\n",
    "\n",
    "coil_files = [\"/home/tbogaarts/stellarator_paper/base_data/vmecs/HELIAS3_coils_all.h5\", \"/home/tbogaarts/stellarator_paper/base_data/vmecs/HELIAS5_coils_all.h5\", \"/home/tbogaarts/stellarator_paper/base_data/vmecs/squid_coilset.h5\"]"
   ]
  },
  {
   "cell_type": "code",
   "execution_count": null,
   "id": "4b1504ab",
   "metadata": {},
   "outputs": [],
   "source": [
    "class bb:\n",
    "    param : str\n",
    "    def __init__(self, param):\n",
    "        self.param = param\n",
    "\n",
    "def _get_all_discrete_coils(request):    \n",
    "    coilset_sbgeom = SBGeom.Coils.Discrete_Coil_Set_From_HDF5(request.param)    \n",
    "    coilset_jaxsbgeom = jsb.coils.CoilSet([jsb.coils.DiscreteCoil.from_positions(coilset_sbgeom[i].Get_Vertices()) for i in range(coilset_sbgeom.Number_of_Coils())])\n",
    "    \n",
    "    return coilset_jaxsbgeom, coilset_sbgeom\n",
    "\n",
    "\n",
    "jsbc, sbgc = _get_all_discrete_coils(bb(coil_files[1]))"
   ]
  },
  {
   "cell_type": "code",
   "execution_count": null,
   "id": "fa95b086",
   "metadata": {},
   "outputs": [],
   "source": [
    "from jax_sbgeom.coils.base_coil import CentroidFrame, FiniteSizeCoil, RotationMinimizedFrame\n",
    "\n",
    "\n",
    "finite_size_method = RotationMinimizedFrame.from_coil(jsbc[0], 40)\n",
    "\n",
    "fsc = FiniteSizeCoil(coil=jsbc[0], finite_size_method=finite_size_method)"
   ]
  },
  {
   "cell_type": "code",
   "execution_count": null,
   "id": "196b52ee",
   "metadata": {},
   "outputs": [],
   "source": [
    "mesh_sb = sbgc[0].Mesh_Triangles_RMF(0.2,0.2, 40)\n",
    "mesh_cj = jsb.coils.coil_meshing.mesh_coil_surface(fsc, 40, 0.2, 0.2)\n",
    "\n",
    "onp.testing.assert_allclose(mesh_sb.vertices, mesh_cj[0], rtol=1e-12, atol=1e-12)"
   ]
  },
  {
   "cell_type": "code",
   "execution_count": null,
   "id": "d80f34bb",
   "metadata": {},
   "outputs": [],
   "source": [
    "plotter =  pv.Plotter()\n",
    "\n",
    "\n",
    "pvmesh_sb = sbgc[0].Mesh_Triangles_RMF(0.6,0.2, 100).to_pyvista()\n",
    "pvmesh = _mesh_to_pyvista_mesh(*jsb.coils.coil_meshing.mesh_coil_surface(fsc, 100, 0.2, 0.6))\n",
    "plotter.add_mesh(pvmesh_sb, color=\"blue\", opacity=1.0, show_edges=True)\n",
    "plotter.add_mesh(pvmesh, color=\"red\", opacity=1.0, show_edges=True)\n",
    "plotter.show()"
   ]
  }
 ],
 "metadata": {
  "kernelspec": {
   "display_name": "stellsim",
   "language": "python",
   "name": "python3"
  },
  "language_info": {
   "codemirror_mode": {
    "name": "ipython",
    "version": 3
   },
   "file_extension": ".py",
   "mimetype": "text/x-python",
   "name": "python",
   "nbconvert_exporter": "python",
   "pygments_lexer": "ipython3",
   "version": "3.12.11"
  }
 },
 "nbformat": 4,
 "nbformat_minor": 5
}
