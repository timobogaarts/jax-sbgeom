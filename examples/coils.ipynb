{
 "cells": [
  {
   "cell_type": "code",
   "execution_count": 1,
   "id": "5c1f39c4",
   "metadata": {},
   "outputs": [],
   "source": [
    "# import os\n",
    "# os.environ[\"JAX_PLATFORM_NAME\"] = \"cpu\"\n",
    "\n",
    "import jax_sbgeom as jsb\n",
    "%load_ext autoreload\n",
    "%autoreload 2\n",
    "import jax.numpy as jnp\n",
    "import jax\n",
    "jax.config.update(\"jax_enable_x64\", True)\n",
    "import numpy as onp\n",
    "import sys \n",
    "import os\n",
    "\n",
    "project_root = os.path.abspath(os.path.join(os.getcwd(), \"..\"))\n",
    "sys.path.append(project_root)\n",
    "\n",
    "\n",
    "from functools import partial\n",
    "import jax_sbgeom.coils as jsc\n",
    "import jax_sbgeom.flux_surfaces as jsf\n",
    "\n",
    "from dataclasses import dataclass\n",
    "import functools\n",
    "from jax_sbgeom.jax_utils.utils import _mesh_to_pyvista_mesh\n",
    "\n",
    "\n",
    "vmec_files = [\"/home/tbogaarts/stellarator_paper/base_data/vmecs/helias3_vmec.nc4\", \"/home/tbogaarts/stellarator_paper/base_data/vmecs/helias5_vmec.nc4\", \"/home/tbogaarts/stellarator_paper/base_data/vmecs/squid_vmec.nc4\"]\n",
    "vmec_file = vmec_files[2]\n",
    "\n",
    "coil_files = [\"/home/tbogaarts/stellarator_paper/base_data/vmecs/HELIAS3_coils_all.h5\", \"/home/tbogaarts/stellarator_paper/base_data/vmecs/HELIAS5_coils_all.h5\", \"/home/tbogaarts/stellarator_paper/base_data/vmecs/squid_coilset.h5\"]"
   ]
  },
  {
   "cell_type": "code",
   "execution_count": 2,
   "id": "33e88301",
   "metadata": {},
   "outputs": [],
   "source": [
    "\n",
    "coilsd = onp.loadtxt(\"filament_s4uu_5ci_23\")[:,:]\n",
    "amax = 101\n",
    "i = 0\n",
    "coils = []\n",
    "currents = []\n",
    "for i in range(40):\n",
    "#    if i not in [0, 4, 8, 12, 16, 20,24, 28, 32,35, 36,39] :\n",
    "    coils.append(coilsd[i * amax : i * amax + amax -2,:-1])\n",
    "    currents.append(coilsd[i * amax, -1])\n",
    "\n",
    "\n",
    "jax_coils = [jsc.DiscreteCoil.from_positions(jnp.array(coil)) for coil in coils]\n",
    "\n",
    "jax_currents = jnp.array(currents)"
   ]
  },
  {
   "cell_type": "code",
   "execution_count": 3,
   "id": "706eeeca",
   "metadata": {},
   "outputs": [],
   "source": [
    "jax_coilset = jsc.CoilSet.from_list(jax_coils)"
   ]
  },
  {
   "cell_type": "code",
   "execution_count": 4,
   "id": "4b1504ab",
   "metadata": {},
   "outputs": [],
   "source": [
    "flux_surface            =  jsf.FluxSurface.from_hdf5(vmec_file)\n",
    "mesh_lcfs               = jsf.mesh_surface(flux_surface, 1.0, jsf.ToroidalExtent.full(), 100, 110)"
   ]
  },
  {
   "cell_type": "code",
   "execution_count": 5,
   "id": "b10a0599",
   "metadata": {},
   "outputs": [],
   "source": [
    "theta = jnp.linspace(0, 2*jnp.pi, 100)\n",
    "phi   = jnp.linspace(0, 2*jnp.pi, 1100)\n",
    "theta_mg, phi_mg = jnp.meshgrid(theta, phi, indexing='ij')\n",
    "positions_lcfs = flux_surface.cartesian_position(1.0, theta_mg, phi_mg)"
   ]
  },
  {
   "cell_type": "code",
   "execution_count": 6,
   "id": "1ca01134",
   "metadata": {},
   "outputs": [],
   "source": [
    "def create_coilset_total_arrays(jax_coilset, currents, number_of_samples_per_coil):\n",
    "    coil_samples     = jax_coilset.position(jnp.linspace(0,1, number_of_samples_per_coil, endpoint=False))    \n",
    "    currents_stacked = jnp.stack([currents] * number_of_samples_per_coil, axis=-1)    \n",
    "    coil_diff        = jnp.roll(coil_samples, -1, axis=1) - coil_samples\n",
    "    return currents_stacked.reshape(-1) , coil_samples.reshape(-1,3), coil_diff.reshape(-1,3)\n",
    "    \n",
    "currents_total, coil_samples, coil_diff = create_coilset_total_arrays(jax_coilset, jax_currents, 200)\n"
   ]
  },
  {
   "cell_type": "code",
   "execution_count": 7,
   "id": "e2bff0a5",
   "metadata": {},
   "outputs": [
    {
     "name": "stdout",
     "output_type": "stream",
     "text": [
      "3.25 ms ± 153 μs per loop (mean ± std. dev. of 7 runs, 1 loop each)\n"
     ]
    }
   ],
   "source": [
    "%timeit field_total2 = jsc.biot_savart.biot_savart_batch(currents_total, coil_samples, coil_diff, positions_lcfs.reshape(-1,3)[0:500], batch_size=None).block_until_ready()"
   ]
  },
  {
   "cell_type": "code",
   "execution_count": 15,
   "id": "7e79368c",
   "metadata": {},
   "outputs": [
    {
     "name": "stdout",
     "output_type": "stream",
     "text": [
      "[21.74336723  0.          0.        ]\n"
     ]
    }
   ],
   "source": [
    "import scipy.integrate as integrate\n",
    "def B_func(x):\n",
    "    return jsc.biot_savart.biot_savart_single(currents_total, coil_samples, coil_diff, x)\n",
    "\n",
    "r0 = positions_lcfs[0,0]\n",
    "\n",
    "print(r0)\n",
    "\n",
    "def field_line_rhs(s,r, b_func):\n",
    "    B = b_func(r)\n",
    "    B_norm = jnp.linalg.norm(B)\n",
    "    return B / B_norm\n",
    "\n",
    "def trace_field_line(r0, b_func, s_span = (0,1), max_step=0.01):\n",
    "    s0, s1 = s_span\n",
    "\n",
    "    sol = integrate.solve_ivp(field_line_rhs, \n",
    "                              (s0, s1), \n",
    "                            r0,\n",
    "                            args=(b_func,),\n",
    "                            method = \"RK45\",\n",
    "                            max_step=max_step,\n",
    "                            rtol=1e-6, atol = 1e-9)\n",
    "    \n",
    "    return sol\n",
    "\n",
    "field_line = trace_field_line(r0, B_func, s_span=(0,5000), max_step=1.0)\n"
   ]
  },
  {
   "cell_type": "code",
   "execution_count": 16,
   "id": "e13012e3",
   "metadata": {},
   "outputs": [
    {
     "data": {
      "text/plain": [
       "  message: The solver successfully reached the end of the integration interval.\n",
       "  success: True\n",
       "   status: 0\n",
       "        t: [ 0.000e+00  1.000e-03 ...  5.000e+03  5.000e+03]\n",
       "        y: [[ 2.174e+01  2.174e+01 ... -1.960e+01 -1.962e+01]\n",
       "            [ 0.000e+00  9.043e-04 ...  4.459e+00  4.412e+00]\n",
       "            [ 0.000e+00  4.267e-04 ... -2.163e+00 -2.150e+00]]\n",
       "      sol: None\n",
       " t_events: None\n",
       " y_events: None\n",
       "     nfev: 30926\n",
       "     njev: 0\n",
       "      nlu: 0"
      ]
     },
     "execution_count": 16,
     "metadata": {},
     "output_type": "execute_result"
    }
   ],
   "source": [
    "field_line"
   ]
  },
  {
   "cell_type": "code",
   "execution_count": 17,
   "id": "cfee7a6d",
   "metadata": {},
   "outputs": [
    {
     "data": {
      "application/vnd.jupyter.widget-view+json": {
       "model_id": "16ccd21e3bc940bfa1302954662a7197",
       "version_major": 2,
       "version_minor": 0
      },
      "text/plain": [
       "Widget(value='<iframe src=\"http://localhost:39417/index.html?ui=P_0x700614c86030_2&reconnect=auto\" class=\"pyvi…"
      ]
     },
     "metadata": {},
     "output_type": "display_data"
    }
   ],
   "source": [
    "import pyvista as pv    \n",
    "plotter = pv.Plotter()\n",
    "plotter.add_mesh(_mesh_to_pyvista_mesh(*mesh_lcfs), color='white', opacity=0.3, show_edges=False)\n",
    "plotter.add_mesh(pv.Spline(field_line.y.T), color='red', line_width=4)\n",
    "plotter.show()"
   ]
  }
 ],
 "metadata": {
  "kernelspec": {
   "display_name": "stellsim",
   "language": "python",
   "name": "python3"
  },
  "language_info": {
   "codemirror_mode": {
    "name": "ipython",
    "version": 3
   },
   "file_extension": ".py",
   "mimetype": "text/x-python",
   "name": "python",
   "nbconvert_exporter": "python",
   "pygments_lexer": "ipython3",
   "version": "3.12.11"
  }
 },
 "nbformat": 4,
 "nbformat_minor": 5
}
