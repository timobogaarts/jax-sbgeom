{
 "cells": [
  {
   "cell_type": "code",
   "execution_count": 1,
   "id": "5c1f39c4",
   "metadata": {},
   "outputs": [
    {
     "name": "stdout",
     "output_type": "stream",
     "text": [
      "Triangle Elements not compiled\n"
     ]
    }
   ],
   "source": [
    "# import os\n",
    "# os.environ[\"JAX_PLATFORM_NAME\"] = \"cpu\"\n",
    "\n",
    "import jax_sbgeom as jsb\n",
    "%load_ext autoreload\n",
    "%autoreload 2\n",
    "import jax.numpy as jnp\n",
    "import jax\n",
    "jax.config.update(\"jax_enable_x64\", True)\n",
    "import numpy as onp\n",
    "import sys \n",
    "import os\n",
    "\n",
    "project_root = os.path.abspath(os.path.join(os.getcwd(), \"..\"))\n",
    "sys.path.append(project_root)\n",
    "\n",
    "import StellBlanket.SBGeom as SBGeom\n",
    "from functools import partial\n",
    "import jax_sbgeom.coils as jsc\n",
    "\n",
    "from tests.coils.test_coils import _check_single_vectorized\n",
    "import pyvista as pv\n",
    "from dataclasses import dataclass\n",
    "\n",
    "from jax_sbgeom.jax_utils.utils import _mesh_to_pyvista_mesh\n",
    "\n",
    "\n",
    "vmec_files = [\"/home/tbogaarts/stellarator_paper/base_data/vmecs/helias3_vmec.nc4\", \"/home/tbogaarts/stellarator_paper/base_data/vmecs/helias5_vmec.nc4\", \"/home/tbogaarts/stellarator_paper/base_data/vmecs/squid_vmec.nc4\"]\n",
    "vmec_file = vmec_files[0]\n",
    "\n",
    "coil_files = [\"/home/tbogaarts/stellarator_paper/base_data/vmecs/HELIAS3_coils_all.h5\", \"/home/tbogaarts/stellarator_paper/base_data/vmecs/HELIAS5_coils_all.h5\", \"/home/tbogaarts/stellarator_paper/base_data/vmecs/squid_coilset.h5\"]"
   ]
  },
  {
   "cell_type": "code",
   "execution_count": 2,
   "id": "4b1504ab",
   "metadata": {},
   "outputs": [],
   "source": [
    "class bb:\n",
    "    param : str\n",
    "    def __init__(self, param):\n",
    "        self.param = param\n",
    "\n",
    "def _get_all_discrete_coils(request):    \n",
    "    coilset_sbgeom = SBGeom.Coils.Discrete_Coil_Set_From_HDF5(request.param)    \n",
    "    coilset_jaxsbgeom = [jsb.coils.DiscreteCoil.from_positions(coilset_sbgeom[i].Get_Vertices()) for i in range(coilset_sbgeom.Number_of_Coils())]\n",
    "    \n",
    "    return coilset_jaxsbgeom, coilset_sbgeom\n",
    "\n",
    "def _get_all_fourier_coils_trunc(request):\n",
    "    coilset_sbgeom = SBGeom.Coils.Discrete_Coil_Set_From_HDF5(request.param)\n",
    "    coilset_fourier = SBGeom.Coils.Convert_to_Fourier_Coils(coilset_sbgeom, Nftrunc = 20)\n",
    "    \n",
    "    coilset_jax = [jsb.coils.FourierCoil(jnp.array(i.Get_Fourier_Cos()), jnp.array(i.Get_Fourier_Sin()), jnp.array(i.Get_Centre())) for i in coilset_fourier]\n",
    "    return coilset_jax, coilset_fourier\n",
    "    \n",
    "\n",
    "\n",
    "dcoils_jax, coils_sbgeom = _get_all_discrete_coils(bb(coil_files[0]))\n",
    "coils_jax, coils_sbgeom = _get_all_fourier_coils_trunc(bb(coil_files[0]))"
   ]
  },
  {
   "cell_type": "code",
   "execution_count": 23,
   "id": "0ee64c38",
   "metadata": {},
   "outputs": [],
   "source": [
    "fs_coil = jsc.FiniteSizeCoil.from_coil(dcoils_jax[0], jsc.CentroidFrame, number_of_rmf_samples = 100)"
   ]
  },
  {
   "cell_type": "code",
   "execution_count": 24,
   "id": "3370d79f",
   "metadata": {},
   "outputs": [
    {
     "data": {
      "text/plain": [
       "Array([-0.36266826, -0.25348501,  0.89678151], dtype=float64)"
      ]
     },
     "execution_count": 24,
     "metadata": {},
     "output_type": "execute_result"
    }
   ],
   "source": [
    "fs_coil.tangent(0.1)"
   ]
  },
  {
   "cell_type": "code",
   "execution_count": 26,
   "id": "02d0edac",
   "metadata": {},
   "outputs": [],
   "source": [
    "lines = pv.Spline(fs_coil.position(jnp.linspace(0.0, 1.0, 100)))"
   ]
  },
  {
   "cell_type": "code",
   "execution_count": 27,
   "id": "68ecdf5c",
   "metadata": {},
   "outputs": [],
   "source": [
    "coil_mesh = jsc.mesh_coil_surface(fs_coil, 2000, 0.5, 0.5)"
   ]
  },
  {
   "cell_type": "code",
   "execution_count": 29,
   "id": "c626d7b4",
   "metadata": {},
   "outputs": [],
   "source": [
    "ss = jnp.linspace(0.0, 1.0, 100, endpoint=False)\n",
    "rv =   fs_coil.radial_vector(ss)\n",
    "ps = fs_coil.position(ss)\n"
   ]
  },
  {
   "cell_type": "code",
   "execution_count": 30,
   "id": "4f070de0",
   "metadata": {},
   "outputs": [
    {
     "data": {
      "application/vnd.jupyter.widget-view+json": {
       "model_id": "4694ab54a4434ed3bce2c9a22e19c47c",
       "version_major": 2,
       "version_minor": 0
      },
      "text/plain": [
       "Widget(value='<iframe src=\"http://localhost:45735/index.html?ui=P_0x74ca51829eb0_4&reconnect=auto\" class=\"pyvi…"
      ]
     },
     "metadata": {},
     "output_type": "display_data"
    }
   ],
   "source": [
    "plotter = pv.Plotter()\n",
    "\n",
    "plotter.add_mesh(pv.Spline(ps))\n",
    "plotter.add_arrows(ps, rv , mag=1.0, color='red')\n",
    "plotter.add_mesh(_mesh_to_pyvista_mesh(coil_mesh[0], coil_mesh[1]), color='lightblue', opacity=1.0)\n",
    "\n",
    "plotter.show()"
   ]
  }
 ],
 "metadata": {
  "kernelspec": {
   "display_name": "stellsim",
   "language": "python",
   "name": "python3"
  },
  "language_info": {
   "codemirror_mode": {
    "name": "ipython",
    "version": 3
   },
   "file_extension": ".py",
   "mimetype": "text/x-python",
   "name": "python",
   "nbconvert_exporter": "python",
   "pygments_lexer": "ipython3",
   "version": "3.12.11"
  }
 },
 "nbformat": 4,
 "nbformat_minor": 5
}
