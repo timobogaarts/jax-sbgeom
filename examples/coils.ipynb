{
 "cells": [
  {
   "cell_type": "code",
   "execution_count": 14,
   "id": "5c1f39c4",
   "metadata": {},
   "outputs": [
    {
     "name": "stdout",
     "output_type": "stream",
     "text": [
      "The autoreload extension is already loaded. To reload it, use:\n",
      "  %reload_ext autoreload\n"
     ]
    }
   ],
   "source": [
    "# import os\n",
    "# os.environ[\"JAX_PLATFORM_NAME\"] = \"cpu\"\n",
    "\n",
    "import jax_sbgeom as jsb\n",
    "%load_ext autoreload\n",
    "%autoreload 2\n",
    "import jax.numpy as jnp\n",
    "import jax\n",
    "jax.config.update(\"jax_enable_x64\", True)\n",
    "import numpy as onp\n",
    "import sys \n",
    "import os\n",
    "\n",
    "project_root = os.path.abspath(os.path.join(os.getcwd(), \"..\"))\n",
    "sys.path.append(project_root)\n",
    "\n",
    "import StellBlanket.SBGeom as SBGeom\n",
    "from functools import partial\n",
    "import jax_sbgeom.coils as jsc\n",
    "\n",
    "from tests.coils.test_coils import _check_single_vectorized\n",
    "import pyvista as pv\n",
    "from dataclasses import dataclass\n",
    "\n",
    "from jax_sbgeom.jax_utils.utils import _mesh_to_pyvista_mesh\n",
    "\n",
    "\n",
    "vmec_files = [\"/home/tbogaarts/stellarator_paper/base_data/vmecs/helias3_vmec.nc4\", \"/home/tbogaarts/stellarator_paper/base_data/vmecs/helias5_vmec.nc4\", \"/home/tbogaarts/stellarator_paper/base_data/vmecs/squid_vmec.nc4\"]\n",
    "vmec_file = vmec_files[2]\n",
    "\n",
    "coil_files = [\"/home/tbogaarts/stellarator_paper/base_data/vmecs/HELIAS3_coils_all.h5\", \"/home/tbogaarts/stellarator_paper/base_data/vmecs/HELIAS5_coils_all.h5\", \"/home/tbogaarts/stellarator_paper/base_data/vmecs/squid_coilset.h5\"]"
   ]
  },
  {
   "cell_type": "code",
   "execution_count": 15,
   "id": "4b1504ab",
   "metadata": {},
   "outputs": [],
   "source": [
    "class bb:\n",
    "    param : str\n",
    "    def __init__(self, param):\n",
    "        self.param = param\n",
    "\n",
    "def _get_all_discrete_coils(request):    \n",
    "    coilset_sbgeom = SBGeom.Coils.Discrete_Coil_Set_From_HDF5(request.param)    \n",
    "    coilset_jaxsbgeom = jsb.coils.CoilSet([jsb.coils.DiscreteCoil.from_positions(coilset_sbgeom[i].Get_Vertices()) for i in range(coilset_sbgeom.Number_of_Coils())])\n",
    "    \n",
    "    return coilset_jaxsbgeom, coilset_sbgeom\n",
    "\n",
    "\n",
    "jsbc, sbgc = _get_all_discrete_coils(bb(coil_files[1]))"
   ]
  },
  {
   "cell_type": "code",
   "execution_count": 18,
   "id": "6a7fd3d6",
   "metadata": {},
   "outputs": [],
   "source": [
    "def _sampling_s_finite_size(n_s : int = 111):\n",
    "    return jnp.linspace(0.0, 1.0, n_s, endpoint=False)\n",
    "\n",
    "def _switch_finite_size(coil_sbgeom, width_0, width_1, method, ns, **kwargs):\n",
    "    if method == \"centroid\":\n",
    "        return coil_sbgeom.Finite_Size_Lines_Centroid(width_1, width_0, ns)\n",
    "    elif method == \"frenet_serret\":\n",
    "        return coil_sbgeom.Finite_Size_Lines_Frenet(width_1, width_0, ns)\n",
    "    elif method == \"rmf\":\n",
    "        return coil_sbgeom.Finite_Size_Lines_RMF(width_1, width_0, ns)\n",
    "    else:\n",
    "        raise NotImplementedError(f\"Finite size method '{method}' not implemented for SBGeom discrete coils.\")\n",
    "\n",
    "def _switch_finite_size_cjax(coil_jax, width_0, width_1, method, ns, **kwargs):\n",
    "    if method == \"centroid\":\n",
    "        finitesize_coil = jsb.coils.base_coil.FiniteSizeCoil(coil_jax, jsb.coils.base_coil.CentroidFrame())\n",
    "        return finitesize_coil.finite_size(_sampling_s_finite_size(ns), width_0, width_1)\n",
    "    elif method == \"frenet_serret\":\n",
    "        finitesize_coil = jsb.coils.base_coil.FiniteSizeCoil(coil_jax, jsb.coils.base_coil.FrenetSerretFrame())\n",
    "        return finitesize_coil.finite_size(_sampling_s_finite_size(ns), width_0, width_1)\n",
    "    elif method == \"rmf\":\n",
    "        number_of_rmf_samples = kwargs.get(\"number_of_rmf_samples\", 1000)\n",
    "        finitesize_coil = jsb.coils.base_coil.FiniteSizeCoil(coil_jax, jsb.coils.base_coil.RotationMinimizedFrame.from_coil(coil_jax, number_of_rmf_samples))\n",
    "        return finitesize_coil.finite_size(_sampling_s_finite_size(ns), width_0, width_1)\n",
    "    else:\n",
    "        raise NotImplementedError(f\"Finite size method '{method}' not implemented for JAX-SBGeom discrete coils.\")\n",
    "def _check_finite_size(coilset_jsb, coilset_sbgeom, method, rtol = 1e-12, atol = 1e-12, **kwargs):\n",
    "    for i in range(coilset_sbgeom.Number_of_Coils()):\n",
    "        coil_jsb = coilset_jsb[i]\n",
    "        coil_sbgeom = coilset_sbgeom[i]\n",
    "        s_samples = _sampling_s_finite_size()\n",
    "        width_0 = 0.3\n",
    "        width_1 = 0.5\n",
    "        jsb_lines    = _switch_finite_size_cjax(coil_jsb, width_0, width_1, method, ns = s_samples.shape[0], **kwargs)\n",
    "        sbgeom_lines = _switch_finite_size(coil_sbgeom, width_0, width_1, method, ns = s_samples.shape[0])\n",
    "\n",
    "        jsb_comparison = jnp.moveaxis(jsb_lines, 1,0).reshape(-1,3)\n",
    "        onp.testing.assert_allclose(sbgeom_lines, jsb_comparison, rtol = rtol, atol=atol)\n",
    "\n",
    "\n",
    "def test_discrete_coil_finite_size_rmf(_get_all_discrete_coils):\n",
    "    coilset_jaxsbgeom, coilset_sbgeom = _get_all_discrete_coils\n",
    "    nrmf = _sampling_s_finite_size().shape[0]\n",
    "    _check_finite_size(coilset_jaxsbgeom, coilset_sbgeom, method=\"rmf\", rtol =1e-7,  atol=1e-7, number_of_rmf_samples = nrmf)\n",
    "test_discrete_coil_finite_size_rmf((jsbc, sbgc))"
   ]
  },
  {
   "cell_type": "code",
   "execution_count": 3,
   "id": "fa95b086",
   "metadata": {},
   "outputs": [],
   "source": [
    "from jax_sbgeom.coils.base_coil import CentroidFrame, FiniteSizeCoil, RotationMinimizedFrame\n",
    "\n",
    "\n",
    "finite_size_method = RotationMinimizedFrame.from_coil(jsbc[0], 40)\n",
    "\n",
    "fsc = FiniteSizeCoil(coil=jsbc[0], finite_size_method=finite_size_method)"
   ]
  },
  {
   "cell_type": "code",
   "execution_count": 4,
   "id": "434895dd",
   "metadata": {},
   "outputs": [],
   "source": [
    "coilset = jax.tree.map(lambda *xs : jnp.stack(xs), *jsbc)"
   ]
  },
  {
   "cell_type": "code",
   "execution_count": 5,
   "id": "28815184",
   "metadata": {},
   "outputs": [
    {
     "data": {
      "text/plain": [
       "(50, 50, 3)"
      ]
     },
     "execution_count": 5,
     "metadata": {},
     "output_type": "execute_result"
    }
   ],
   "source": [
    "jax.vmap(coilset.position)(jnp.linspace(1,1,50)).shape  # (ncoil, ns, 3)"
   ]
  },
  {
   "cell_type": "code",
   "execution_count": 6,
   "id": "5f07358b",
   "metadata": {},
   "outputs": [],
   "source": [
    "from jax_sbgeom.coils.discrete_coil import _discrete_coil_position"
   ]
  },
  {
   "cell_type": "code",
   "execution_count": 7,
   "id": "ce0a959a",
   "metadata": {},
   "outputs": [
    {
     "data": {
      "text/plain": [
       "DiscreteCoil(positions=Array([[[ 20.16335247,  17.31449564,   0.7402    ],\n",
       "        [ 20.30560909,  17.11427282,   0.8618    ],\n",
       "        [ 20.42608102,  16.8980989 ,   0.9811    ],\n",
       "        ...,\n",
       "        [ 19.7297655 ,  17.77313121,   0.3       ],\n",
       "        [ 19.86177965,  17.64791254,   0.4655    ],\n",
       "        [ 20.00910203,  17.49413817,   0.6112    ]],\n",
       "\n",
       "       [[ 17.4685707 ,  20.39372269,   1.4064    ],\n",
       "        [ 17.43065533,  20.39299824,   1.754     ],\n",
       "        [ 17.42477949,  20.31295822,   2.0561    ],\n",
       "        ...,\n",
       "        [ 17.63121244,  20.09619917,   0.2817    ],\n",
       "        [ 17.58826135,  20.21962548,   0.6472    ],\n",
       "        [ 17.52957542,  20.3250686 ,   1.0273    ]],\n",
       "\n",
       "       [[ 14.7209944 ,  21.36726858,   4.1227    ],\n",
       "        [ 14.69580635,  21.12190271,   4.3333    ],\n",
       "        [ 14.68831129,  20.85354557,   4.5       ],\n",
       "        ...,\n",
       "        [ 14.89209778,  21.88391044,   3.2982    ],\n",
       "        [ 14.82335936,  21.75411907,   3.595     ],\n",
       "        [ 14.76498898,  21.58130533,   3.8725    ]],\n",
       "\n",
       "       ...,\n",
       "\n",
       "       [[ 14.7209944 , -21.36726858,  -4.1227    ],\n",
       "        [ 14.69580635, -21.12190271,  -4.3333    ],\n",
       "        [ 14.68831129, -20.85354557,  -4.5       ],\n",
       "        ...,\n",
       "        [ 14.89209778, -21.88391044,  -3.2982    ],\n",
       "        [ 14.82335936, -21.75411907,  -3.595     ],\n",
       "        [ 14.76498898, -21.58130533,  -3.8725    ]],\n",
       "\n",
       "       [[ 13.55664292, -23.44622537,  -1.401     ],\n",
       "        [ 13.54960146, -23.40402741,  -1.8229    ],\n",
       "        [ 13.5099707 , -23.35224311,  -2.2329    ],\n",
       "        ...,\n",
       "        [ 13.47607103, -23.52377755,  -0.1422    ],\n",
       "        [ 13.50736808, -23.50622037,  -0.5527    ],\n",
       "        [ 13.53681568, -23.4801503 ,  -0.9739    ]],\n",
       "\n",
       "       [[ 10.02096814, -25.37434619,   0.7413    ],\n",
       "        [  9.99703855, -25.4239552 ,   0.3109    ],\n",
       "        [  9.99662166, -25.44392383,  -0.1029    ],\n",
       "        ...,\n",
       "        [ 10.00657667, -25.13657727,   2.0089    ],\n",
       "        [ 10.05175146, -25.22020107,   1.6049    ],\n",
       "        [ 10.05140806, -25.30165567,   1.1792    ]]], dtype=float64), _centre_i=Array([[ 16.62079224,  13.87092069,  -0.164257  ],\n",
       "       [ 14.77367499,  16.19019671,  -1.147811  ],\n",
       "       [ 12.75373836,  18.46199081,  -0.659286  ],\n",
       "       [ 10.78817304,  20.18607412,  -0.059643  ],\n",
       "       [  8.42572334,  21.54333845,  -0.212139  ],\n",
       "       [ 18.32813677,  11.52096255,   0.164257  ],\n",
       "       [ 19.96310873,   9.04755395,   1.147811  ],\n",
       "       [ 21.49951856,   6.42445706,   0.659286  ],\n",
       "       [ 22.53182614,   4.02232232,   0.059643  ],\n",
       "       [ 23.09262412,   1.35608139,   0.212139  ],\n",
       "       [ -8.05592224,  20.09366299,  -0.164257  ],\n",
       "       [-10.83247544,  19.0536458 ,  -1.147811  ],\n",
       "       [-13.61727477,  17.83459488,  -0.659286  ],\n",
       "       [-15.86436852,  16.49800222,  -0.059643  ],\n",
       "       [-17.88524071,  14.67059679,  -0.212139  ],\n",
       "       [ -5.29338077,  20.99126712,   0.164257  ],\n",
       "       [ -2.43579528,  21.78189257,   1.147811  ],\n",
       "       [  0.53369486,  22.43252364,   0.659286  ],\n",
       "       [  3.13726134,  22.67200603,   0.059643  ],\n",
       "       [  5.84630325,  22.38144284,   0.212139  ],\n",
       "       [-21.599626  ,  -1.452354  ,  -0.164257  ],\n",
       "       [-21.468513  ,  -4.414396  ,  -1.147811  ],\n",
       "       [-21.169677  ,  -7.439605  ,  -0.659286  ],\n",
       "       [-20.592892  ,  -9.989748  ,  -0.059643  ],\n",
       "       [-19.47941   , -12.476411  ,  -0.212139  ],\n",
       "       [-21.599626  ,   1.452354  ,   0.164257  ],\n",
       "       [-21.468513  ,   4.414396  ,   1.147811  ],\n",
       "       [-21.169677  ,   7.439605  ,   0.659286  ],\n",
       "       [-20.592892  ,   9.989748  ,   0.059643  ],\n",
       "       [-19.47941   ,  12.476411  ,   0.212139  ],\n",
       "       [ -5.29338077, -20.99126712,  -0.164257  ],\n",
       "       [ -2.43579528, -21.78189257,  -1.147811  ],\n",
       "       [  0.53369486, -22.43252364,  -0.659286  ],\n",
       "       [  3.13726134, -22.67200603,  -0.059643  ],\n",
       "       [  5.84630325, -22.38144284,  -0.212139  ],\n",
       "       [ -8.05592224, -20.09366299,   0.164257  ],\n",
       "       [-10.83247544, -19.0536458 ,   1.147811  ],\n",
       "       [-13.61727477, -17.83459488,   0.659286  ],\n",
       "       [-15.86436852, -16.49800222,   0.059643  ],\n",
       "       [-17.88524071, -14.67059679,   0.212139  ],\n",
       "       [ 18.32813677, -11.52096255,  -0.164257  ],\n",
       "       [ 19.96310873,  -9.04755395,  -1.147811  ],\n",
       "       [ 21.49951856,  -6.42445706,  -0.659286  ],\n",
       "       [ 22.53182614,  -4.02232232,  -0.059643  ],\n",
       "       [ 23.09262412,  -1.35608139,  -0.212139  ],\n",
       "       [ 16.62079224, -13.87092069,   0.164257  ],\n",
       "       [ 14.77367499, -16.19019671,   1.147811  ],\n",
       "       [ 12.75373836, -18.46199081,   0.659286  ],\n",
       "       [ 10.78817304, -20.18607412,   0.059643  ],\n",
       "       [  8.42572334, -21.54333845,   0.212139  ]], dtype=float64))"
      ]
     },
     "execution_count": 7,
     "metadata": {},
     "output_type": "execute_result"
    }
   ],
   "source": [
    "coilset"
   ]
  },
  {
   "cell_type": "code",
   "execution_count": 8,
   "id": "9b27c72c",
   "metadata": {},
   "outputs": [
    {
     "data": {
      "text/plain": [
       "(50, 3)"
      ]
     },
     "execution_count": 8,
     "metadata": {},
     "output_type": "execute_result"
    }
   ],
   "source": [
    "def coilset_position(coilset, s):\n",
    "    return coilset.position(s)\n",
    "\n",
    "\n",
    "jax.vmap(coilset_position, in_axes=(0,0))(coilset, jnp.linspace(1,1,50)).shape"
   ]
  },
  {
   "cell_type": "code",
   "execution_count": 9,
   "id": "129e2571",
   "metadata": {},
   "outputs": [
    {
     "data": {
      "application/vnd.jupyter.widget-view+json": {
       "model_id": "fae67c76add445c09a890ccd7c01a3e2",
       "version_major": 2,
       "version_minor": 0
      },
      "text/plain": [
       "Widget(value='<iframe src=\"http://localhost:42653/index.html?ui=P_0x79abe816dc10_0&reconnect=auto\" class=\"pyvi…"
      ]
     },
     "metadata": {},
     "output_type": "display_data"
    }
   ],
   "source": [
    "coilset_lines = coilset.position(jnp.linspace(0,1,200))\n",
    "\n",
    "pv.Spline(coilset_lines.reshape(-1,3)).plot()"
   ]
  },
  {
   "cell_type": "code",
   "execution_count": 10,
   "id": "4a1fba13",
   "metadata": {},
   "outputs": [
    {
     "ename": "AttributeError",
     "evalue": "'FiniteSizeCoil' object has no attribute 'get_mesh'",
     "output_type": "error",
     "traceback": [
      "\u001b[31m---------------------------------------------------------------------------\u001b[39m",
      "\u001b[31mAttributeError\u001b[39m                            Traceback (most recent call last)",
      "\u001b[36mCell\u001b[39m\u001b[36m \u001b[39m\u001b[32mIn[10]\u001b[39m\u001b[32m, line 5\u001b[39m\n\u001b[32m      1\u001b[39m plotter = pv.Plotter()\n\u001b[32m----> \u001b[39m\u001b[32m5\u001b[39m coil_mesh = _mesh_to_pyvista_mesh(\u001b[43mfsc\u001b[49m\u001b[43m.\u001b[49m\u001b[43mget_mesh\u001b[49m())\n\u001b[32m      6\u001b[39m plotter.add_mesh(coil_mesh, color=\u001b[33m\"\u001b[39m\u001b[33mred\u001b[39m\u001b[33m\"\u001b[39m, opacity=\u001b[32m0.5\u001b[39m)\n\u001b[32m      7\u001b[39m plotter.show()\n",
      "\u001b[31mAttributeError\u001b[39m: 'FiniteSizeCoil' object has no attribute 'get_mesh'"
     ]
    }
   ],
   "source": [
    "plotter = pv.Plotter()\n",
    "\n",
    "\n",
    "\n",
    "coil_mesh = _mesh_to_pyvista_mesh(fsc.get_mesh())\n",
    "plotter.add_mesh(coil_mesh, color=\"red\", opacity=0.5)\n",
    "plotter.show()"
   ]
  },
  {
   "cell_type": "code",
   "execution_count": null,
   "id": "7110625a",
   "metadata": {},
   "outputs": [],
   "source": [
    "from jax_sbgeom.jax_utils.utils import interpolate_array_modulo_broadcasted"
   ]
  },
  {
   "cell_type": "code",
   "execution_count": 11,
   "id": "196b52ee",
   "metadata": {},
   "outputs": [],
   "source": [
    "mesh_sb = sbgc[0].Mesh_Triangles_RMF(0.2,0.2, 40)\n",
    "mesh_cj = jsb.coils.coil_meshing.mesh_coil_surface(fsc, 40, 0.2, 0.2)\n",
    "\n",
    "onp.testing.assert_allclose(mesh_sb.vertices, mesh_cj[0], rtol=1e-12, atol=1e-12)"
   ]
  },
  {
   "cell_type": "code",
   "execution_count": null,
   "id": "d80f34bb",
   "metadata": {},
   "outputs": [],
   "source": [
    "plotter =  pv.Plotter()\n",
    "\n",
    "\n",
    "pvmesh_sb = sbgc[0].Mesh_Triangles_RMF(0.6,0.2, 100).to_pyvista()\n",
    "pvmesh = _mesh_to_pyvista_mesh(*jsb.coils.coil_meshing.mesh_coil_surface(fsc, 100, 0.2, 0.6))\n",
    "plotter.add_mesh(pvmesh_sb, color=\"blue\", opacity=1.0, show_edges=True)\n",
    "plotter.add_mesh(pvmesh, color=\"red\", opacity=1.0, show_edges=True)\n",
    "plotter.show()"
   ]
  }
 ],
 "metadata": {
  "kernelspec": {
   "display_name": "stellsim",
   "language": "python",
   "name": "python3"
  },
  "language_info": {
   "codemirror_mode": {
    "name": "ipython",
    "version": 3
   },
   "file_extension": ".py",
   "mimetype": "text/x-python",
   "name": "python",
   "nbconvert_exporter": "python",
   "pygments_lexer": "ipython3",
   "version": "3.12.11"
  }
 },
 "nbformat": 4,
 "nbformat_minor": 5
}
