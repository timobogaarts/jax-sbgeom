{
 "cells": [
  {
   "cell_type": "code",
   "execution_count": null,
   "id": "5c1f39c4",
   "metadata": {},
   "outputs": [],
   "source": [
    "import os\n",
    "#os.environ[\"JAX_PLATFORM_NAME\"] = \"cpu\"\n",
    "\n",
    "import jax_sbgeom as jsb\n",
    "%load_ext autoreload\n",
    "%autoreload 2\n",
    "import jax.numpy as jnp\n",
    "import jax\n",
    "jax.config.update(\"jax_enable_x64\", True)\n",
    "import numpy as onp\n",
    "import sys \n",
    "import os\n",
    "\n",
    "project_root = os.path.abspath(os.path.join(os.getcwd(), \"..\"))\n",
    "sys.path.append(project_root)\n",
    "\n",
    "\n",
    "from functools import partial\n",
    "import jax_sbgeom.coils as jsc\n",
    "import jax_sbgeom.flux_surfaces as jsf\n",
    "\n",
    "from dataclasses import dataclass\n",
    "import functools\n",
    "from jax_sbgeom.jax_utils.utils import _mesh_to_pyvista_mesh, cumulative_trapezoid_uniform_periodic, interp1d_jax\n",
    "import StellBlanket.SBGeom as sbg\n",
    "\n",
    "\n",
    "import matplotlib.pyplot as plt\n",
    "vmec_files = [\"/home/tbogaarts/stellarator_paper/base_data/vmecs/helias3_vmec.nc4\", \"/home/tbogaarts/stellarator_paper/base_data/vmecs/helias5_vmec.nc4\", \"/home/tbogaarts/stellarator_paper/base_data/vmecs/squid_vmec.nc4\"]\n",
    "vmec_file = vmec_files[2]\n",
    "\n",
    "coil_files = [\"/home/tbogaarts/stellarator_paper/base_data/vmecs/HELIAS3_coils_all.h5\", \"/home/tbogaarts/stellarator_paper/base_data/vmecs/HELIAS5_coils_all.h5\", \"/home/tbogaarts/stellarator_paper/base_data/vmecs/squid_coilset.h5\"]"
   ]
  },
  {
   "cell_type": "code",
   "execution_count": null,
   "id": "70fb135b",
   "metadata": {},
   "outputs": [],
   "source": [
    "fs_base = jsb.flux_surfaces.FluxSurface.from_hdf5(vmec_file)"
   ]
  },
  {
   "cell_type": "code",
   "execution_count": null,
   "id": "33e88301",
   "metadata": {},
   "outputs": [],
   "source": [
    "\n",
    "coilsd = onp.loadtxt(\"filament_s4uu_5ci_23\")[:,:]\n",
    "amax = 101\n",
    "i = 0\n",
    "coils = []\n",
    "currents = []\n",
    "for i in range(40):\n",
    "#    if i not in [0, 4, 8, 12, 16, 20,24, 28, 32,35, 36,39] :\n",
    "    coils.append(coilsd[i * amax : i * amax + amax -1,:-1])\n",
    "    currents.append(coilsd[i * amax, -1])\n",
    "\n",
    "\n",
    "\n",
    "jax_coils = [jsc.DiscreteCoil.from_positions(jnp.array(coil)) for coil in coils]\n",
    "jax_coilset = jsc.CoilSet.from_list(jax_coils)\n",
    "jax_currents = jnp.array(currents)\n",
    "\n",
    "sbg_coilset = sbg.Coil_Set([sbg.Discrete_Coil(coils[i]) for i in range(len(coils))])"
   ]
  },
  {
   "cell_type": "code",
   "execution_count": null,
   "id": "0cc02115",
   "metadata": {},
   "outputs": [],
   "source": [
    "coilset = jsc.fourier_coil.convert_to_fourier_coilset(jax_coilset)\n",
    "\n",
    "coilset_resampled = jsc.fourier_coil.convert_fourier_coilset_to_equal_arclength(coilset)"
   ]
  },
  {
   "cell_type": "code",
   "execution_count": null,
   "id": "5918ed2c",
   "metadata": {},
   "outputs": [],
   "source": [
    "def test_converting_fourier_coils(_get_all_discrete_coils):\n",
    "    coilset_jaxsbgeom, coilset_sbgeom = _get_all_discrete_coils\n",
    "    fourier_coilset_sbgeom = sbg.Coils.Convert_to_Fourier_Coils(coilset_sbgeom)\n",
    "\n",
    "    for i in range(coilset_sbgeom.Number_of_Coils()):\n",
    "        coil_jsb = coilset_jaxsbgeom[i]\n",
    "        fourier_coil_sbgeom = fourier_coilset_sbgeom[i]\n",
    "        \n",
    "        \n",
    "        fourier_coil_jaxsbgeom = jsb.coils.fourier_coil.convert_to_fourier_coil(coil_jsb)\n",
    "\n",
    "        onp.testing.assert_allclose(fourier_coil_jaxsbgeom.fourier_cos, fourier_coil_sbgeom.Get_Fourier_Cos(), rtol=1e-12, atol=1e-12)\n",
    "        onp.testing.assert_allclose(fourier_coil_jaxsbgeom.fourier_sin, fourier_coil_sbgeom.Get_Fourier_Sin(), rtol=1e-12, atol=1e-12)\n",
    "        print(fourier_coil_jaxsbgeom.centre)\n",
    "        onp.testing.assert_allclose(fourier_coil_jaxsbgeom.centre_i, fourier_coil_sbgeom.Get_Centre(), rtol=1e-12, atol=1e-12)\n",
    "\n",
    "test_converting_fourier_coils(_get_all_discrete_coils=(jax_coilset, sbg_coilset))"
   ]
  },
  {
   "cell_type": "code",
   "execution_count": null,
   "id": "e3a88f36",
   "metadata": {},
   "outputs": [],
   "source": [
    "s_samples = jnp.linspace(0.0, 1.0, 200, endpoint=False)\n",
    "arclengths_vmap = jax.vmap(jsc.fourier_coil._arc_length_fourier, in_axes=(0,None))\n",
    "\n",
    "\n",
    "arclengths_base = arclengths_vmap(coilset.coils, s_samples)\n",
    "arclengths_resampled = arclengths_vmap(coilset_resampled.coils, s_samples)\n"
   ]
  },
  {
   "cell_type": "code",
   "execution_count": null,
   "id": "207a00fc",
   "metadata": {},
   "outputs": [],
   "source": [
    "base_arclength = plt.plot(s_samples, arclengths_base.T)\n",
    "plt.figure()\n",
    "resampled_arclength = plt.plot(s_samples, arclengths_resampled.T)"
   ]
  },
  {
   "cell_type": "code",
   "execution_count": null,
   "id": "a82ed8dd",
   "metadata": {},
   "outputs": [],
   "source": [
    "jp"
   ]
  }
 ],
 "metadata": {
  "kernelspec": {
   "display_name": "stellsim",
   "language": "python",
   "name": "python3"
  },
  "language_info": {
   "codemirror_mode": {
    "name": "ipython",
    "version": 3
   },
   "file_extension": ".py",
   "mimetype": "text/x-python",
   "name": "python",
   "nbconvert_exporter": "python",
   "pygments_lexer": "ipython3",
   "version": "3.12.11"
  }
 },
 "nbformat": 4,
 "nbformat_minor": 5
}
